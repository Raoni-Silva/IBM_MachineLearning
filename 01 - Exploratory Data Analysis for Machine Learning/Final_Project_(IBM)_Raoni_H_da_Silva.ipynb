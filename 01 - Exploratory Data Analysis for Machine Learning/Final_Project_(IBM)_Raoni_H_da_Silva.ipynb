{
  "nbformat": 4,
  "nbformat_minor": 0,
  "metadata": {
    "colab": {
      "name": "Final Project (IBM) - Raoni H da Silva.ipynb",
      "provenance": [],
      "collapsed_sections": [],
      "toc_visible": true
    },
    "kernelspec": {
      "name": "python3",
      "display_name": "Python 3"
    },
    "language_info": {
      "name": "python"
    }
  },
  "cells": [
    {
      "cell_type": "markdown",
      "metadata": {
        "id": "VWN1XFB8nTCv"
      },
      "source": [
        "**Author:** Raoni Henriques da Silva\n",
        "\n",
        "**Date:** 13/05/2021\n",
        "\n",
        "This notebook is the conclusion project for the  course [Exploratory Data Analysis for Machine Learning](https://www.coursera.org/learn/ibm-exploratory-data-analysis-for-machine-learning) as part of the [IBM Machine Learning Professional Certificate](https://www.coursera.org/professional-certificates/ibm-machine-learning).\n"
      ]
    },
    {
      "cell_type": "markdown",
      "metadata": {
        "id": "amM2a85u1nAW"
      },
      "source": [
        "# **Exploratory Data Analysis for Machine Learning**\n",
        "\n",
        "**DATA PRE-PROCESSING REPORT**"
      ]
    },
    {
      "cell_type": "code",
      "metadata": {
        "id": "9pPp0Zt41Bhg"
      },
      "source": [
        "# import libraries\n",
        "import pandas as pd\n",
        "import numpy as np\n",
        "import seaborn as sns\n",
        "import matplotlib.pyplot as plt\n",
        "import string\n",
        "from scipy.stats import norm\n",
        "\n",
        "sns.set()"
      ],
      "execution_count": null,
      "outputs": []
    },
    {
      "cell_type": "markdown",
      "metadata": {
        "id": "5THqqW3g14lJ"
      },
      "source": [
        "## **1. INTRODUCING THE DATASET**"
      ]
    },
    {
      "cell_type": "code",
      "metadata": {
        "id": "RRivsc-d29FE"
      },
      "source": [
        "path = 'https://raw.githubusercontent.com/Raoni-Silva/IBM_MachineLearning/main/01%20-%20Exploratory%20Data%20Analysis%20for%20Machine%20Learning/Data/titanic.csv'\n",
        "\n",
        "data_raw = pd.read_csv(path)\n",
        "data = data_raw.copy()"
      ],
      "execution_count": null,
      "outputs": []
    },
    {
      "cell_type": "markdown",
      "metadata": {
        "id": "kXC41TBQ3a3X"
      },
      "source": [
        "This is the dataset from the [Kaggle Titanic competion](https://www.kaggle.com/c/titanic/). \n",
        "\n",
        "Below is listed it's dictionary:\n",
        "\n",
        "</br>\n",
        "\n",
        "|**VARIABLE**|**DEFINITION**|**KEY**|**TYPE**|\n",
        "|---|---|---|---|\n",
        "|Passengerid|ID of the obervation||int|\n",
        "|Survived|If the passenger survived (**target**)|0 = No, 1 = Yes|int|\n",
        "|Pclass|Ticket class|1 = 1st, 2 = 2nd, 3 = 3rd|int|\n",
        "|Name|Name of the passenger||string|\n",
        "|Sex|Sex||string|\n",
        "|Age|Age||float|\n",
        "|SibSp|# of siblings / spouses aboard the Titanic||int|\n",
        "|Parch|# of parents / children aboard the Titanic||int|\n",
        "|Ticket|Ticket number||string|\n",
        "|Fare|Passenger fare||float|\n",
        "|Cabin|Cabin number||string|\n",
        "|Embarked|Port of Embarkation|C = Cherbourg, Q = Queenstown, S = Southampton|string|"
      ]
    },
    {
      "cell_type": "code",
      "metadata": {
        "colab": {
          "base_uri": "https://localhost:8080/"
        },
        "id": "gfeDftJ56Icy",
        "outputId": "777d9416-999e-4d00-e232-1e987fd69cce"
      },
      "source": [
        "print(f'The dataset is composed of {data.shape[0]} rows and {data.shape[1]} features')"
      ],
      "execution_count": null,
      "outputs": [
        {
          "output_type": "stream",
          "text": [
            "The dataset is composed of 891 rows and 12 features\n"
          ],
          "name": "stdout"
        }
      ]
    },
    {
      "cell_type": "markdown",
      "metadata": {
        "id": "wJ-Y7ilO60zu"
      },
      "source": [
        "## **2. DATA CLEANING**\n",
        "\n",
        "Here we will be handling missing values and outliers."
      ]
    },
    {
      "cell_type": "markdown",
      "metadata": {
        "id": "vYwWTiwF7oZZ"
      },
      "source": [
        "### **Missing Values**"
      ]
    },
    {
      "cell_type": "code",
      "metadata": {
        "colab": {
          "base_uri": "https://localhost:8080/"
        },
        "id": "zOVoQQiS8CAj",
        "outputId": "b67d4509-ae6b-4e19-9234-647bab16db28"
      },
      "source": [
        "null_list = []\n",
        "null = data.isnull().sum()\n",
        "\n",
        "for count, nulls in enumerate(null):\n",
        "  if nulls > 0:\n",
        "    null_list.append(null.index[count])\n",
        "    print('{} = {:.2f}%'.format(null.index[count], nulls/len(data)*100))"
      ],
      "execution_count": null,
      "outputs": [
        {
          "output_type": "stream",
          "text": [
            "Age = 19.87%\n",
            "Cabin = 77.10%\n",
            "Embarked = 0.22%\n"
          ],
          "name": "stdout"
        }
      ]
    },
    {
      "cell_type": "markdown",
      "metadata": {
        "id": "5mVDbrap_aEw"
      },
      "source": [
        "Here we can see the percentage of missing values from the features that have some.\n",
        "\n",
        "* **Age**: The age missing values are going to be filled it with the median for each Title posteriorly in the Feature Engineering topic.\n",
        "* **Cabin**: The Cabin has 77.10% of missing values. This is due to the fact that only the 1st class passengers have cabins, but the location of this cabin is important for the dataset, so here I will drop the missing values for the 1st class and define, later, an alternative value for the remaining missing values.\n",
        "* **Embarked**: Since they are few examples, those missing values will have their row dropped."
      ]
    },
    {
      "cell_type": "code",
      "metadata": {
        "id": "qSEROiyWLIex"
      },
      "source": [
        "# # Filling the Age missing values with the median\n",
        "# data['Age'].fillna(data_raw['Age'].median(), inplace=True)\n",
        "\n",
        "# Finding the index from the data that will be droped.\n",
        "index_1st_class = data[data['Pclass'] == 1 & data['Cabin'].isnull()].index\n",
        "\n",
        "# Droping the first class Cabin and the Embarked missing value\n",
        "data.drop(index_1st_class, inplace=True)\n",
        "data.dropna(subset=['Embarked'], inplace = True)\n",
        "\n",
        "# Filling the remaining Cabin missing values\n",
        "data['Cabin'].fillna('Not_cabin', inplace=True)"
      ],
      "execution_count": null,
      "outputs": []
    },
    {
      "cell_type": "markdown",
      "metadata": {
        "id": "OTTZF7UZTBQ4"
      },
      "source": [
        "### **Outliers**\n"
      ]
    },
    {
      "cell_type": "code",
      "metadata": {
        "colab": {
          "base_uri": "https://localhost:8080/",
          "height": 297
        },
        "id": "INeltTnOw2SB",
        "outputId": "9f38b6dd-e4a9-4ce2-d1aa-7f3dfd5b7cb2"
      },
      "source": [
        "data.describe()"
      ],
      "execution_count": null,
      "outputs": [
        {
          "output_type": "execute_result",
          "data": {
            "text/html": [
              "<div>\n",
              "<style scoped>\n",
              "    .dataframe tbody tr th:only-of-type {\n",
              "        vertical-align: middle;\n",
              "    }\n",
              "\n",
              "    .dataframe tbody tr th {\n",
              "        vertical-align: top;\n",
              "    }\n",
              "\n",
              "    .dataframe thead th {\n",
              "        text-align: right;\n",
              "    }\n",
              "</style>\n",
              "<table border=\"1\" class=\"dataframe\">\n",
              "  <thead>\n",
              "    <tr style=\"text-align: right;\">\n",
              "      <th></th>\n",
              "      <th>PassengerId</th>\n",
              "      <th>Survived</th>\n",
              "      <th>Pclass</th>\n",
              "      <th>Age</th>\n",
              "      <th>SibSp</th>\n",
              "      <th>Parch</th>\n",
              "      <th>Fare</th>\n",
              "    </tr>\n",
              "  </thead>\n",
              "  <tbody>\n",
              "    <tr>\n",
              "      <th>count</th>\n",
              "      <td>849.000000</td>\n",
              "      <td>849.000000</td>\n",
              "      <td>849.000000</td>\n",
              "      <td>686.000000</td>\n",
              "      <td>849.000000</td>\n",
              "      <td>849.000000</td>\n",
              "      <td>849.000000</td>\n",
              "    </tr>\n",
              "    <tr>\n",
              "      <th>mean</th>\n",
              "      <td>446.372203</td>\n",
              "      <td>0.378092</td>\n",
              "      <td>2.373380</td>\n",
              "      <td>29.202872</td>\n",
              "      <td>0.538280</td>\n",
              "      <td>0.398115</td>\n",
              "      <td>29.988226</td>\n",
              "    </tr>\n",
              "    <tr>\n",
              "      <th>std</th>\n",
              "      <td>257.903367</td>\n",
              "      <td>0.485197</td>\n",
              "      <td>0.802883</td>\n",
              "      <td>14.346565</td>\n",
              "      <td>1.122773</td>\n",
              "      <td>0.820892</td>\n",
              "      <td>45.976589</td>\n",
              "    </tr>\n",
              "    <tr>\n",
              "      <th>min</th>\n",
              "      <td>1.000000</td>\n",
              "      <td>0.000000</td>\n",
              "      <td>1.000000</td>\n",
              "      <td>0.420000</td>\n",
              "      <td>0.000000</td>\n",
              "      <td>0.000000</td>\n",
              "      <td>0.000000</td>\n",
              "    </tr>\n",
              "    <tr>\n",
              "      <th>25%</th>\n",
              "      <td>222.000000</td>\n",
              "      <td>0.000000</td>\n",
              "      <td>2.000000</td>\n",
              "      <td>20.000000</td>\n",
              "      <td>0.000000</td>\n",
              "      <td>0.000000</td>\n",
              "      <td>7.895800</td>\n",
              "    </tr>\n",
              "    <tr>\n",
              "      <th>50%</th>\n",
              "      <td>445.000000</td>\n",
              "      <td>0.000000</td>\n",
              "      <td>3.000000</td>\n",
              "      <td>28.000000</td>\n",
              "      <td>0.000000</td>\n",
              "      <td>0.000000</td>\n",
              "      <td>13.000000</td>\n",
              "    </tr>\n",
              "    <tr>\n",
              "      <th>75%</th>\n",
              "      <td>671.000000</td>\n",
              "      <td>1.000000</td>\n",
              "      <td>3.000000</td>\n",
              "      <td>37.750000</td>\n",
              "      <td>1.000000</td>\n",
              "      <td>0.000000</td>\n",
              "      <td>29.700000</td>\n",
              "    </tr>\n",
              "    <tr>\n",
              "      <th>max</th>\n",
              "      <td>891.000000</td>\n",
              "      <td>1.000000</td>\n",
              "      <td>3.000000</td>\n",
              "      <td>80.000000</td>\n",
              "      <td>8.000000</td>\n",
              "      <td>6.000000</td>\n",
              "      <td>512.329200</td>\n",
              "    </tr>\n",
              "  </tbody>\n",
              "</table>\n",
              "</div>"
            ],
            "text/plain": [
              "       PassengerId    Survived      Pclass  ...       SibSp       Parch        Fare\n",
              "count   849.000000  849.000000  849.000000  ...  849.000000  849.000000  849.000000\n",
              "mean    446.372203    0.378092    2.373380  ...    0.538280    0.398115   29.988226\n",
              "std     257.903367    0.485197    0.802883  ...    1.122773    0.820892   45.976589\n",
              "min       1.000000    0.000000    1.000000  ...    0.000000    0.000000    0.000000\n",
              "25%     222.000000    0.000000    2.000000  ...    0.000000    0.000000    7.895800\n",
              "50%     445.000000    0.000000    3.000000  ...    0.000000    0.000000   13.000000\n",
              "75%     671.000000    1.000000    3.000000  ...    1.000000    0.000000   29.700000\n",
              "max     891.000000    1.000000    3.000000  ...    8.000000    6.000000  512.329200\n",
              "\n",
              "[8 rows x 7 columns]"
            ]
          },
          "metadata": {
            "tags": []
          },
          "execution_count": 198
        }
      ]
    },
    {
      "cell_type": "markdown",
      "metadata": {
        "id": "RUEYnF3W1huX"
      },
      "source": [
        "The only feature that look like having outliers that maybe need some treatment is the `Fare`, but if it's necessary it will be handled posteriorly."
      ]
    },
    {
      "cell_type": "markdown",
      "metadata": {
        "id": "CD2x7kQ05Tzj"
      },
      "source": [
        "## **3. FEATURE ENGINEERING**\n",
        "\n",
        "Before I go to the exploratory data analysis step I'll perform with some feature engineering to extract some underlying information from some features."
      ]
    },
    {
      "cell_type": "markdown",
      "metadata": {
        "id": "e6uBtBcA5_kv"
      },
      "source": [
        "### **Titles**\n",
        "\n",
        "The column name has not much use for a machine learning algorithm, but we can at least extract the title name. There are quite a few titles going around, but I want to reduce them all to Mrs. Miss, Mr and Master. To do this we'll need a function that searches substrings."
      ]
    },
    {
      "cell_type": "code",
      "metadata": {
        "id": "5kqhS4t_6mOP"
      },
      "source": [
        "data['Title'] = data['Name'].str.extract(' ([A-Z-a-z]+)\\.', expand=False)"
      ],
      "execution_count": null,
      "outputs": []
    },
    {
      "cell_type": "code",
      "metadata": {
        "id": "fcW_bs0FAtey"
      },
      "source": [
        "title_mapping = {'Mr': 0, 'Miss': 1, 'Mrs': 2, 'Master': 3,\n",
        "                 'Dr': 3, 'Rev':3, 'Col':3}"
      ],
      "execution_count": null,
      "outputs": []
    },
    {
      "cell_type": "code",
      "metadata": {
        "id": "65PRcOxa7hxS"
      },
      "source": [
        "def replace_titles(x):\n",
        "  title = x['Title']\n",
        "  if title in ['Don', 'Major', 'Capt', 'Rev', 'Col']:\n",
        "    return 'Mr'\n",
        "  elif title in ['Countess', 'Mme']:\n",
        "    return 'Mrs'\n",
        "  elif title in ['Mlle', 'Ms']:\n",
        "    return 'Miss'\n",
        "  elif title in ['Lady', 'Sir']:\n",
        "    return 'Master'\n",
        "  elif title == 'Dr':\n",
        "    if x['Sex'] == 'Male':\n",
        "      return 'Mr'\n",
        "    else:\n",
        "      return 'Mrs'\n",
        "  else:\n",
        "    return title\n",
        "\n",
        "data['Title'] = data.apply(replace_titles, axis=1)"
      ],
      "execution_count": null,
      "outputs": []
    },
    {
      "cell_type": "code",
      "metadata": {
        "id": "J-yUqslICIMo"
      },
      "source": [
        "# Drop the name feature\n",
        "data.drop('Name', axis=1, inplace=True)"
      ],
      "execution_count": null,
      "outputs": []
    },
    {
      "cell_type": "code",
      "metadata": {
        "colab": {
          "base_uri": "https://localhost:8080/",
          "height": 361
        },
        "id": "5Osrma-AJGSi",
        "outputId": "aac1f325-a440-4d5b-b8cf-443e6560d6bd"
      },
      "source": [
        "bar_chart('Title')"
      ],
      "execution_count": null,
      "outputs": [
        {
          "output_type": "display_data",
          "data": {
            "image/png": "[encoded data removed]",
            "text/plain": [
              "<Figure size 720x360 with 1 Axes>"
            ]
          },
          "metadata": {
            "tags": []
          }
        }
      ]
    },
    {
      "cell_type": "markdown",
      "metadata": {
        "id": "CJomUQNrDzU3"
      },
      "source": [
        "### **Age**\n",
        "\n",
        "Here we will fill the missing values with the median age per title and then apply binning to group ages per category.\n",
        "\n",
        "**Feature vector map:**\n",
        "* child: 0\n",
        "* young: 1\n",
        "* adult: 2\n",
        "* mid-age: 3\n",
        "* senior: 4"
      ]
    },
    {
      "cell_type": "code",
      "metadata": {
        "id": "0WfdCuhGEAv9"
      },
      "source": [
        "# Filling the missing values with the median age per title\n",
        "data['Age'].fillna(data.groupby('Title')['Age'].transform('median'), inplace=True)"
      ],
      "execution_count": null,
      "outputs": []
    },
    {
      "cell_type": "code",
      "metadata": {
        "id": "i8riWfZeE3IJ"
      },
      "source": [
        "# Binning the age\n",
        "data.loc[ data['Age'] <= 16, 'Age'] = 0\n",
        "data.loc[ (data['Age'] > 16) & (data['Age'] <= 26), 'Age'] = 1\n",
        "data.loc[ (data['Age'] > 26) & (data['Age'] <= 36), 'Age'] = 2\n",
        "data.loc[ (data['Age'] > 36) & (data['Age'] <= 62), 'Age'] = 3\n",
        "data.loc[ data['Age'] > 16, 'Age'] = 4"
      ],
      "execution_count": null,
      "outputs": []
    },
    {
      "cell_type": "code",
      "metadata": {
        "id": "UBL3-7AuG_YW"
      },
      "source": [
        "def bar_chart(feature):\n",
        "  survived = data[data['Survived']==1][feature].value_counts()\n",
        "  dead = data[data['Survived']==0][feature].value_counts()\n",
        "  df = pd.DataFrame([survived, dead])\n",
        "  df.index = ['Survived', 'Dead']\n",
        "  df.plot(kind='bar', stacked=True, figsize=(10,5))"
      ],
      "execution_count": null,
      "outputs": []
    },
    {
      "cell_type": "code",
      "metadata": {
        "colab": {
          "base_uri": "https://localhost:8080/",
          "height": 361
        },
        "id": "e3JGITqgI6T1",
        "outputId": "7e843638-690d-4a63-c90f-46ea51bd9080"
      },
      "source": [
        "bar_chart('Age')"
      ],
      "execution_count": null,
      "outputs": [
        {
          "output_type": "display_data",
          "data": {
            "image/png": "[encoded data removed]",
            "text/plain": [
              "<Figure size 720x360 with 1 Axes>"
            ]
          },
          "metadata": {
            "tags": []
          }
        }
      ]
    },
    {
      "cell_type": "markdown",
      "metadata": {
        "id": "dGk5khFLBkvA"
      },
      "source": [
        "### **Cabin Deck**\n",
        "This is going be very similar, we have a `Cabin` column not doing much, only 1st class passengers have cabins, the rest are `Unknown`. A cabin number looks like `C123`. The letter refers to the deck, and so we’re going to extract these just like the titles.\n"
      ]
    },
    {
      "cell_type": "code",
      "metadata": {
        "id": "YSQsCZsSJ3Gu"
      },
      "source": [
        "data['Cabin'] = data['Cabin'].str[:1]"
      ],
      "execution_count": null,
      "outputs": []
    },
    {
      "cell_type": "markdown",
      "metadata": {
        "id": "HSU3XJ9iKh3G"
      },
      "source": [
        "### **Family Size**\n",
        "\n",
        "Creating a new feature family size."
      ]
    },
    {
      "cell_type": "code",
      "metadata": {
        "id": "ATbnKhhtK29b"
      },
      "source": [
        "data['FamilySize'] = data['SibSp'] + data['Parch'] + 1"
      ],
      "execution_count": null,
      "outputs": []
    },
    {
      "cell_type": "markdown",
      "metadata": {
        "id": "eQIMuBxdLndv"
      },
      "source": [
        "### **Irrelevant variables for the model**\n",
        "\n",
        "Here we will drop the `ticket`, `SibSp` and `Parch` features. The first one is not relevant to the model and the 2 others are already considered in the Family Size."
      ]
    },
    {
      "cell_type": "code",
      "metadata": {
        "id": "9RSxqP3kL9zT"
      },
      "source": [
        "features_drop = ['Ticket', 'SibSp', 'Parch']\n",
        "data.drop(features_drop, axis=1, inplace=True)"
      ],
      "execution_count": null,
      "outputs": []
    },
    {
      "cell_type": "markdown",
      "metadata": {
        "id": "QGt567lD2EWC"
      },
      "source": [
        "## **4. EXPLORATORY DATA ANALYSIS (EDA)**\n",
        "\n"
      ]
    },
    {
      "cell_type": "code",
      "metadata": {
        "colab": {
          "base_uri": "https://localhost:8080/"
        },
        "id": "6HS81KJn2Hev",
        "outputId": "164e43ef-5d4c-4439-c626-bb157284d5ae"
      },
      "source": [
        "data.info()"
      ],
      "execution_count": null,
      "outputs": [
        {
          "output_type": "stream",
          "text": [
            "<class 'pandas.core.frame.DataFrame'>\n",
            "Int64Index: 849 entries, 0 to 890\n",
            "Data columns (total 10 columns):\n",
            " #   Column       Non-Null Count  Dtype  \n",
            "---  ------       --------------  -----  \n",
            " 0   PassengerId  849 non-null    int64  \n",
            " 1   Survived     849 non-null    int64  \n",
            " 2   Pclass       849 non-null    int64  \n",
            " 3   Sex          849 non-null    object \n",
            " 4   Age          849 non-null    float64\n",
            " 5   Fare         849 non-null    float64\n",
            " 6   Cabin        849 non-null    object \n",
            " 7   Embarked     849 non-null    object \n",
            " 8   Title        849 non-null    object \n",
            " 9   FamilySize   849 non-null    int64  \n",
            "dtypes: float64(2), int64(4), object(4)\n",
            "memory usage: 73.0+ KB\n"
          ],
          "name": "stdout"
        }
      ]
    },
    {
      "cell_type": "markdown",
      "metadata": {
        "id": "X_zsp_d2MT9Q"
      },
      "source": [
        "We have 10 attributes in total.\n",
        "* 1 for ID \n",
        "* 1 target (Survived)\n",
        "* 4 numerical \n",
        "* 4 categorical\n",
        "\n",
        "We will do the EDA separately for each type of attribute."
      ]
    },
    {
      "cell_type": "markdown",
      "metadata": {
        "id": "LsrEdE6Q2zqC"
      },
      "source": [
        "### **EDA in Numeric Variables**"
      ]
    },
    {
      "cell_type": "code",
      "metadata": {
        "colab": {
          "base_uri": "https://localhost:8080/",
          "height": 882
        },
        "id": "rVhP-1kU3p3S",
        "outputId": "30fd9ddc-386f-4610-e356-d571992cba80"
      },
      "source": [
        "data.hist(bins=20, figsize=(20,15));"
      ],
      "execution_count": null,
      "outputs": [
        {
          "output_type": "display_data",
          "data": {
            "image/png": "[encoded data removed]",
            "text/plain": [
              "<Figure size 1440x1080 with 6 Axes>"
            ]
          },
          "metadata": {
            "tags": []
          }
        }
      ]
    },
    {
      "cell_type": "markdown",
      "metadata": {
        "id": "35GrcGrS4Yz5"
      },
      "source": [
        "In these previous plot we can see that the majority of the passanger are from the 3rd class."
      ]
    },
    {
      "cell_type": "markdown",
      "metadata": {
        "id": "ju4kN18dQ31w"
      },
      "source": [
        "### **EDA in Categorical Variables**"
      ]
    },
    {
      "cell_type": "code",
      "metadata": {
        "colab": {
          "base_uri": "https://localhost:8080/",
          "height": 173
        },
        "id": "V4nasFKiW3vm",
        "outputId": "eb3a942b-d0e9-4ff3-db8f-f7c443042670"
      },
      "source": [
        "data.describe(include=[object])  "
      ],
      "execution_count": null,
      "outputs": [
        {
          "output_type": "execute_result",
          "data": {
            "text/html": [
              "<div>\n",
              "<style scoped>\n",
              "    .dataframe tbody tr th:only-of-type {\n",
              "        vertical-align: middle;\n",
              "    }\n",
              "\n",
              "    .dataframe tbody tr th {\n",
              "        vertical-align: top;\n",
              "    }\n",
              "\n",
              "    .dataframe thead th {\n",
              "        text-align: right;\n",
              "    }\n",
              "</style>\n",
              "<table border=\"1\" class=\"dataframe\">\n",
              "  <thead>\n",
              "    <tr style=\"text-align: right;\">\n",
              "      <th></th>\n",
              "      <th>Sex</th>\n",
              "      <th>Cabin</th>\n",
              "      <th>Embarked</th>\n",
              "      <th>Title</th>\n",
              "    </tr>\n",
              "  </thead>\n",
              "  <tbody>\n",
              "    <tr>\n",
              "      <th>count</th>\n",
              "      <td>849</td>\n",
              "      <td>849</td>\n",
              "      <td>849</td>\n",
              "      <td>849</td>\n",
              "    </tr>\n",
              "    <tr>\n",
              "      <th>unique</th>\n",
              "      <td>2</td>\n",
              "      <td>9</td>\n",
              "      <td>3</td>\n",
              "      <td>4</td>\n",
              "    </tr>\n",
              "    <tr>\n",
              "      <th>top</th>\n",
              "      <td>male</td>\n",
              "      <td>N</td>\n",
              "      <td>S</td>\n",
              "      <td>Mr</td>\n",
              "    </tr>\n",
              "    <tr>\n",
              "      <th>freq</th>\n",
              "      <td>550</td>\n",
              "      <td>647</td>\n",
              "      <td>623</td>\n",
              "      <td>505</td>\n",
              "    </tr>\n",
              "  </tbody>\n",
              "</table>\n",
              "</div>"
            ],
            "text/plain": [
              "         Sex Cabin Embarked Title\n",
              "count    849   849      849   849\n",
              "unique     2     9        3     4\n",
              "top     male     N        S    Mr\n",
              "freq     550   647      623   505"
            ]
          },
          "metadata": {
            "tags": []
          },
          "execution_count": 250
        }
      ]
    },
    {
      "cell_type": "markdown",
      "metadata": {
        "id": "H7nnY5iDVVHQ"
      },
      "source": [
        "### **Sex**\n",
        "\n",
        "The male where more likely of dying."
      ]
    },
    {
      "cell_type": "code",
      "metadata": {
        "colab": {
          "base_uri": "https://localhost:8080/",
          "height": 361
        },
        "id": "iHpiLwzYQ5yU",
        "outputId": "486413f6-1e9b-4b6e-d51f-fa2fe30e474b"
      },
      "source": [
        "bar_chart('Sex')"
      ],
      "execution_count": null,
      "outputs": [
        {
          "output_type": "display_data",
          "data": {
            "image/png": "[encoded data removed]",
            "text/plain": [
              "<Figure size 720x360 with 1 Axes>"
            ]
          },
          "metadata": {
            "tags": []
          }
        }
      ]
    },
    {
      "cell_type": "code",
      "metadata": {
        "colab": {
          "base_uri": "https://localhost:8080/",
          "height": 285
        },
        "id": "QL7qeYVnVZ0Z",
        "outputId": "71877d3b-eb35-4c70-e454-612410a8b398"
      },
      "source": [
        "sns.histplot(data['Sex']);"
      ],
      "execution_count": null,
      "outputs": [
        {
          "output_type": "display_data",
          "data": {
            "image/png": "[encoded data removed]",
            "text/plain": [
              "<Figure size 432x288 with 1 Axes>"
            ]
          },
          "metadata": {
            "tags": []
          }
        }
      ]
    },
    {
      "cell_type": "markdown",
      "metadata": {
        "id": "VNEgndUSVdZl"
      },
      "source": [
        "### **Cabin**\n",
        "\n",
        "Most of the passengers where \"Not Cabin\"."
      ]
    },
    {
      "cell_type": "code",
      "metadata": {
        "colab": {
          "base_uri": "https://localhost:8080/",
          "height": 361
        },
        "id": "n7YnylVlUXN-",
        "outputId": "7e536758-dc0f-406e-f74f-da89965aa5e1"
      },
      "source": [
        "bar_chart('Cabin')"
      ],
      "execution_count": null,
      "outputs": [
        {
          "output_type": "display_data",
          "data": {
            "image/png": "[encoded data removed]",
            "text/plain": [
              "<Figure size 720x360 with 1 Axes>"
            ]
          },
          "metadata": {
            "tags": []
          }
        }
      ]
    },
    {
      "cell_type": "code",
      "metadata": {
        "colab": {
          "base_uri": "https://localhost:8080/",
          "height": 285
        },
        "id": "6s9PKCy_Vkd7",
        "outputId": "ad533fef-d7fb-415f-d6ec-4de756cf3276"
      },
      "source": [
        "sns.histplot(data['Cabin']);"
      ],
      "execution_count": null,
      "outputs": [
        {
          "output_type": "display_data",
          "data": {
            "image/png": "[encoded data removed]",
            "text/plain": [
              "<Figure size 432x288 with 1 Axes>"
            ]
          },
          "metadata": {
            "tags": []
          }
        }
      ]
    },
    {
      "cell_type": "markdown",
      "metadata": {
        "id": "d7yJaMoIVm_o"
      },
      "source": [
        "### **Embarked**"
      ]
    },
    {
      "cell_type": "code",
      "metadata": {
        "colab": {
          "base_uri": "https://localhost:8080/",
          "height": 361
        },
        "id": "5xTpOLl7U7qe",
        "outputId": "099b3877-4ddf-40f9-9b14-9161e7b780e6"
      },
      "source": [
        "bar_chart('Embarked')"
      ],
      "execution_count": null,
      "outputs": [
        {
          "output_type": "display_data",
          "data": {
            "image/png": "[encoded data removed]",
            "text/plain": [
              "<Figure size 720x360 with 1 Axes>"
            ]
          },
          "metadata": {
            "tags": []
          }
        }
      ]
    },
    {
      "cell_type": "code",
      "metadata": {
        "colab": {
          "base_uri": "https://localhost:8080/",
          "height": 285
        },
        "id": "bGKcVvDuVzoD",
        "outputId": "a7e466a1-442f-4598-9eeb-0051d8d50f8e"
      },
      "source": [
        "sns.histplot(data['Embarked']);"
      ],
      "execution_count": null,
      "outputs": [
        {
          "output_type": "display_data",
          "data": {
            "image/png": "[encoded data removed]",
            "text/plain": [
              "<Figure size 432x288 with 1 Axes>"
            ]
          },
          "metadata": {
            "tags": []
          }
        }
      ]
    },
    {
      "cell_type": "markdown",
      "metadata": {
        "id": "HmT96qc9V2BL"
      },
      "source": [
        "### **Title**"
      ]
    },
    {
      "cell_type": "code",
      "metadata": {
        "colab": {
          "base_uri": "https://localhost:8080/",
          "height": 361
        },
        "id": "iICHwXotVBGE",
        "outputId": "f6619d83-a464-478c-9ab4-fd350c12062c"
      },
      "source": [
        "bar_chart('Title')"
      ],
      "execution_count": null,
      "outputs": [
        {
          "output_type": "display_data",
          "data": {
            "image/png": "[encoded data removed]",
            "text/plain": [
              "<Figure size 720x360 with 1 Axes>"
            ]
          },
          "metadata": {
            "tags": []
          }
        }
      ]
    },
    {
      "cell_type": "code",
      "metadata": {
        "colab": {
          "base_uri": "https://localhost:8080/",
          "height": 285
        },
        "id": "OcxrYvDFVFOk",
        "outputId": "e99a6266-c7e8-4c83-cacd-d7ec5bb90b86"
      },
      "source": [
        "sns.histplot(data['Title']);"
      ],
      "execution_count": null,
      "outputs": [
        {
          "output_type": "display_data",
          "data": {
            "image/png": "[encoded data removed]",
            "text/plain": [
              "<Figure size 432x288 with 1 Axes>"
            ]
          },
          "metadata": {
            "tags": []
          }
        }
      ]
    },
    {
      "cell_type": "markdown",
      "metadata": {
        "id": "wfpCs6qgV9S5"
      },
      "source": [
        "We can see, like in the Sex topic, that the male had a bigger chance of dying then female."
      ]
    },
    {
      "cell_type": "markdown",
      "metadata": {
        "id": "YdpIgKWdX59q"
      },
      "source": [
        "## **5. FEATURE ENGINEERING RECAP**\n",
        "\n",
        "Here we will transform the categorical variables into dummy variables."
      ]
    },
    {
      "cell_type": "markdown",
      "metadata": {
        "id": "-8MkLOeFaDvx"
      },
      "source": [
        "### **Dummy Variables**"
      ]
    },
    {
      "cell_type": "code",
      "metadata": {
        "id": "4xEHbf7uYCK9"
      },
      "source": [
        "data_eng = pd.get_dummies(data, drop_first=True)"
      ],
      "execution_count": null,
      "outputs": []
    },
    {
      "cell_type": "code",
      "metadata": {
        "colab": {
          "base_uri": "https://localhost:8080/",
          "height": 224
        },
        "id": "vvZl7joSYOmE",
        "outputId": "449b2673-5fb0-447a-bf5f-c4fc7ac1ad25"
      },
      "source": [
        "data_eng.head()"
      ],
      "execution_count": null,
      "outputs": [
        {
          "output_type": "execute_result",
          "data": {
            "text/html": [
              "<div>\n",
              "<style scoped>\n",
              "    .dataframe tbody tr th:only-of-type {\n",
              "        vertical-align: middle;\n",
              "    }\n",
              "\n",
              "    .dataframe tbody tr th {\n",
              "        vertical-align: top;\n",
              "    }\n",
              "\n",
              "    .dataframe thead th {\n",
              "        text-align: right;\n",
              "    }\n",
              "</style>\n",
              "<table border=\"1\" class=\"dataframe\">\n",
              "  <thead>\n",
              "    <tr style=\"text-align: right;\">\n",
              "      <th></th>\n",
              "      <th>PassengerId</th>\n",
              "      <th>Survived</th>\n",
              "      <th>Pclass</th>\n",
              "      <th>Age</th>\n",
              "      <th>Fare</th>\n",
              "      <th>FamilySize</th>\n",
              "      <th>Sex_male</th>\n",
              "      <th>Cabin_B</th>\n",
              "      <th>Cabin_C</th>\n",
              "      <th>Cabin_D</th>\n",
              "      <th>Cabin_E</th>\n",
              "      <th>Cabin_F</th>\n",
              "      <th>Cabin_G</th>\n",
              "      <th>Cabin_N</th>\n",
              "      <th>Cabin_T</th>\n",
              "      <th>Embarked_Q</th>\n",
              "      <th>Embarked_S</th>\n",
              "      <th>Title_Miss</th>\n",
              "      <th>Title_Mr</th>\n",
              "      <th>Title_Mrs</th>\n",
              "    </tr>\n",
              "  </thead>\n",
              "  <tbody>\n",
              "    <tr>\n",
              "      <th>0</th>\n",
              "      <td>1</td>\n",
              "      <td>0</td>\n",
              "      <td>3</td>\n",
              "      <td>0.0</td>\n",
              "      <td>7.2500</td>\n",
              "      <td>2</td>\n",
              "      <td>1</td>\n",
              "      <td>0</td>\n",
              "      <td>0</td>\n",
              "      <td>0</td>\n",
              "      <td>0</td>\n",
              "      <td>0</td>\n",
              "      <td>0</td>\n",
              "      <td>1</td>\n",
              "      <td>0</td>\n",
              "      <td>0</td>\n",
              "      <td>1</td>\n",
              "      <td>0</td>\n",
              "      <td>1</td>\n",
              "      <td>0</td>\n",
              "    </tr>\n",
              "    <tr>\n",
              "      <th>1</th>\n",
              "      <td>2</td>\n",
              "      <td>1</td>\n",
              "      <td>1</td>\n",
              "      <td>3.0</td>\n",
              "      <td>71.2833</td>\n",
              "      <td>2</td>\n",
              "      <td>0</td>\n",
              "      <td>0</td>\n",
              "      <td>1</td>\n",
              "      <td>0</td>\n",
              "      <td>0</td>\n",
              "      <td>0</td>\n",
              "      <td>0</td>\n",
              "      <td>0</td>\n",
              "      <td>0</td>\n",
              "      <td>0</td>\n",
              "      <td>0</td>\n",
              "      <td>0</td>\n",
              "      <td>0</td>\n",
              "      <td>1</td>\n",
              "    </tr>\n",
              "    <tr>\n",
              "      <th>2</th>\n",
              "      <td>3</td>\n",
              "      <td>1</td>\n",
              "      <td>3</td>\n",
              "      <td>0.0</td>\n",
              "      <td>7.9250</td>\n",
              "      <td>1</td>\n",
              "      <td>0</td>\n",
              "      <td>0</td>\n",
              "      <td>0</td>\n",
              "      <td>0</td>\n",
              "      <td>0</td>\n",
              "      <td>0</td>\n",
              "      <td>0</td>\n",
              "      <td>1</td>\n",
              "      <td>0</td>\n",
              "      <td>0</td>\n",
              "      <td>1</td>\n",
              "      <td>1</td>\n",
              "      <td>0</td>\n",
              "      <td>0</td>\n",
              "    </tr>\n",
              "    <tr>\n",
              "      <th>3</th>\n",
              "      <td>4</td>\n",
              "      <td>1</td>\n",
              "      <td>1</td>\n",
              "      <td>2.0</td>\n",
              "      <td>53.1000</td>\n",
              "      <td>2</td>\n",
              "      <td>0</td>\n",
              "      <td>0</td>\n",
              "      <td>1</td>\n",
              "      <td>0</td>\n",
              "      <td>0</td>\n",
              "      <td>0</td>\n",
              "      <td>0</td>\n",
              "      <td>0</td>\n",
              "      <td>0</td>\n",
              "      <td>0</td>\n",
              "      <td>1</td>\n",
              "      <td>0</td>\n",
              "      <td>0</td>\n",
              "      <td>1</td>\n",
              "    </tr>\n",
              "    <tr>\n",
              "      <th>4</th>\n",
              "      <td>5</td>\n",
              "      <td>0</td>\n",
              "      <td>3</td>\n",
              "      <td>2.0</td>\n",
              "      <td>8.0500</td>\n",
              "      <td>1</td>\n",
              "      <td>1</td>\n",
              "      <td>0</td>\n",
              "      <td>0</td>\n",
              "      <td>0</td>\n",
              "      <td>0</td>\n",
              "      <td>0</td>\n",
              "      <td>0</td>\n",
              "      <td>1</td>\n",
              "      <td>0</td>\n",
              "      <td>0</td>\n",
              "      <td>1</td>\n",
              "      <td>0</td>\n",
              "      <td>1</td>\n",
              "      <td>0</td>\n",
              "    </tr>\n",
              "  </tbody>\n",
              "</table>\n",
              "</div>"
            ],
            "text/plain": [
              "   PassengerId  Survived  Pclass  ...  Title_Miss  Title_Mr  Title_Mrs\n",
              "0            1         0       3  ...           0         1          0\n",
              "1            2         1       1  ...           0         0          1\n",
              "2            3         1       3  ...           1         0          0\n",
              "3            4         1       1  ...           0         0          1\n",
              "4            5         0       3  ...           0         1          0\n",
              "\n",
              "[5 rows x 20 columns]"
            ]
          },
          "metadata": {
            "tags": []
          },
          "execution_count": 255
        }
      ]
    },
    {
      "cell_type": "markdown",
      "metadata": {
        "id": "SIHerc3SZ-yd"
      },
      "source": [
        "## **6. HYPOTHESIS TESTING**"
      ]
    },
    {
      "cell_type": "markdown",
      "metadata": {
        "id": "b6d86K2EoqUy"
      },
      "source": [
        "* **Hypothesis 01:** Being male increases the chances of the passenger dying.\n",
        "\n",
        "$H_{0}$: If the passenger is male it is more likely that he will die.\n",
        "\n",
        "$H_{A}$: There is no difference in the survival rate according to the sex of the passenger. "
      ]
    },
    {
      "cell_type": "markdown",
      "metadata": {
        "id": "ouK0PK6jpcg-"
      },
      "source": [
        "* **Hypothesis 02:** Since some cabins where placed in the front of the ship, that has sinked first, the location of the cabin impact on the survival rate.\n",
        "\n",
        "$H_{0}$: If the cabin is placed in the front of the ship it is more likely that he will die.\n",
        "\n",
        "$H_{A}$: There is no difference in the survival rate according to the cabin of the passenger. "
      ]
    },
    {
      "cell_type": "markdown",
      "metadata": {
        "id": "5a36GHguaVSJ"
      },
      "source": [
        "* **Hypothesis 03:** We've all seen the Titanic movie and we saw the part when rich people started to give money to get priority on the safety boats. We can then make the hypothesis that rich people on the Titanic had a higher survival rate than the others.\n",
        "\n",
        "For that we are interested in 3 features only:\n",
        "\n",
        "**Survived:** a category of 0 and 1 which indicates whether that individual survived or not.\n",
        "\n",
        "**Pclass:** The ship was divided into three classes. First, Second and Third.\n",
        "\n",
        "**Fare:** The price that the passenger paid for the ticket."
      ]
    },
    {
      "cell_type": "code",
      "metadata": {
        "colab": {
          "base_uri": "https://localhost:8080/",
          "height": 911
        },
        "id": "jGauTTRraBhF",
        "outputId": "527ede34-cdcf-4da2-c767-45b0a5d25dca"
      },
      "source": [
        "# Distribution for rich:\n",
        "first_fares = data[\"Fare\"][data[\"Pclass\"]==1]\n",
        "first_mean = round(np.mean(first_fares), 2)\n",
        "first_median = round(np.median(first_fares), 2)\n",
        "first_conf = np.round(np.percentile(first_fares, [2.5, 97.5]), 2)\n",
        "\n",
        "fig, ax = plt.subplots(figsize = (10, 7))\n",
        "\n",
        "ax.hist(first_fares)\n",
        "props = dict(boxstyle='round', facecolor='wheat', alpha=0.5)\n",
        "ax.text(0.76, 0.95, f\"Mean: {first_mean} \\nMedian: {first_median} \\nCI: {first_conf}\", transform=ax.transAxes, fontsize=14,\n",
        "        verticalalignment='top', bbox=props)\n",
        "plt.xlabel(\"Fare\")\n",
        "plt.ylabel(\"Frequency\")\n",
        "plt.title(\"Distribution of the fare of the tickets in the first class\")\n",
        "plt.show()\n",
        "\n",
        "# Distribution for Poor\n",
        "third_fares = data[\"Fare\"][data[\"Pclass\"]==3]\n",
        "third_mean = round(np.mean(third_fares), 2)\n",
        "third_median = round(np.median(third_fares), 2)\n",
        "third_conf = np.round(np.percentile(third_fares, [2.5, 97.5]), 2)\n",
        "\n",
        "fig, ax = plt.subplots(figsize = (10, 7))\n",
        "\n",
        "ax.hist(third_fares)\n",
        "props = dict(boxstyle='round', facecolor='wheat', alpha=0.5)\n",
        "ax.text(0.76, 0.95, f\"Mean: {third_mean} \\nMedian: {third_median} \\nCI: {third_conf}\", transform=ax.transAxes, fontsize=14,\n",
        "        verticalalignment='top', bbox=props)\n",
        "plt.xlabel(\"Fare\")\n",
        "plt.ylabel(\"Frequency\")\n",
        "plt.title(\"Distribution of the fare of the tickets in the third class\")\n",
        "plt.show()"
      ],
      "execution_count": null,
      "outputs": [
        {
          "output_type": "display_data",
          "data": {
            "image/png": "[encoded data removed]",
            "text/plain": [
              "<Figure size 720x504 with 1 Axes>"
            ]
          },
          "metadata": {
            "tags": []
          }
        },
        {
          "output_type": "display_data",
          "data": {
            "image/png": "[encoded data removed]",
            "text/plain": [
              "<Figure size 720x504 with 1 Axes>"
            ]
          },
          "metadata": {
            "tags": []
          }
        }
      ]
    },
    {
      "cell_type": "markdown",
      "metadata": {
        "id": "FDVWJPORehlm"
      },
      "source": [
        "The first-class tickets range from $25.70 to \\$263.00 with an average of \\$85.88 while the third class tickets range between \\$6.88 and \\$56.50 with an average of \\$13.68. There is a clear representation of the socio-economic status of the people in the ship. so we can assume that those in the first-class group, as expected, are the rich."
      ]
    },
    {
      "cell_type": "markdown",
      "metadata": {
        "id": "A1V6DlFJgL5I"
      },
      "source": [
        "### **Null and Alternative Hypothesis**\n",
        "\n",
        "* $H_{0}$: The socio-economic class of the people didn't have an effect on the survival rate.\n",
        "* $H_{A}$: The socio-economic class of the people affected their survival rate.\n",
        "\n",
        "Taking a sample of 100 means from each population (first-class and third-class), using the central limit theorem, to ensure that our data is normally distributed."
      ]
    },
    {
      "cell_type": "code",
      "metadata": {
        "id": "I2oB8QvBdNCT"
      },
      "source": [
        "first_class_sample = np.array([np.mean(data[data[\"Pclass\"]==1].sample(20)[\"Survived\"].values) for i in range(100)])\n",
        "third_class_sample = np.array([np.mean(data[data[\"Pclass\"]==3].sample(20)[\"Survived\"].values) for i in range(100)])"
      ],
      "execution_count": null,
      "outputs": []
    },
    {
      "cell_type": "code",
      "metadata": {
        "colab": {
          "base_uri": "https://localhost:8080/",
          "height": 355
        },
        "id": "uDAoO6mohRuQ",
        "outputId": "c82e7e1d-b562-427d-9c26-01ff14dde8a1"
      },
      "source": [
        "plt.subplots(1, 2, figsize = (10, 5))\n",
        "plt.subplot(1,2, 1)\n",
        "sns.histplot(first_class_sample, kde=True)\n",
        "plt.title(\"First-Class Sample Distribution\")\n",
        "plt.xlabel(\"Survival Rate\")\n",
        "plt.ylabel(\"Frequency\")\n",
        "\n",
        "plt.subplot(1, 2, 2)\n",
        "sns.histplot(third_class_sample, kde=True)\n",
        "plt.title(\"Third-Class Sample Distribution\")\n",
        "plt.xlabel(\"Survival Rate\")\n",
        "plt.ylabel(\"Frequency\")\n",
        "plt.show()"
      ],
      "execution_count": null,
      "outputs": [
        {
          "output_type": "display_data",
          "data": {
            "image/png": "[encoded data removed]",
            "text/plain": [
              "<Figure size 720x360 with 2 Axes>"
            ]
          },
          "metadata": {
            "tags": []
          }
        }
      ]
    },
    {
      "cell_type": "code",
      "metadata": {
        "id": "kXX6_O8-hmAd"
      },
      "source": [
        "effect = np.mean(first_class_sample) - np.mean(third_class_sample)\n",
        "sigma_first = np.std(first_class_sample)\n",
        "sigma_third = np.std(third_class_sample)\n",
        "sigma_difference = np.sqrt((sigma_first**2)/len(first_class_sample)  +  (sigma_third**2)/len(third_class_sample))\n",
        "z_score = effect / sigma_difference"
      ],
      "execution_count": null,
      "outputs": []
    },
    {
      "cell_type": "code",
      "metadata": {
        "colab": {
          "base_uri": "https://localhost:8080/"
        },
        "id": "RJaGmlRmlc4p",
        "outputId": "3e9987d8-577a-41af-c8cc-9c38fb9029a1"
      },
      "source": [
        "z_score"
      ],
      "execution_count": null,
      "outputs": [
        {
          "output_type": "execute_result",
          "data": {
            "text/plain": [
              "32.803979682844755"
            ]
          },
          "metadata": {
            "tags": []
          },
          "execution_count": 285
        }
      ]
    },
    {
      "cell_type": "code",
      "metadata": {
        "colab": {
          "base_uri": "https://localhost:8080/"
        },
        "id": "6mq2RCDLlgy2",
        "outputId": "195f0317-ca50-4978-bac3-8fa8ef169ca8"
      },
      "source": [
        "p_value = norm.sf(abs(z_score))*2\n",
        "p_value"
      ],
      "execution_count": null,
      "outputs": [
        {
          "output_type": "execute_result",
          "data": {
            "text/plain": [
              "5.1668959217520175e-236"
            ]
          },
          "metadata": {
            "tags": []
          },
          "execution_count": 289
        }
      ]
    },
    {
      "cell_type": "markdown",
      "metadata": {
        "id": "IJtMtDHJmUw4"
      },
      "source": [
        "### **Conclusion**"
      ]
    },
    {
      "cell_type": "markdown",
      "metadata": {
        "id": "3npVA466mJzA"
      },
      "source": [
        "Since the `p_value` is so small we can **reject the null hypothesis**. The provided sample proves a significant correlation between the socio-economic class and the survival rate. We cannot establish causation between these two features but we can make a generalized induction that richer people had a better chance of survival at the ship."
      ]
    },
    {
      "cell_type": "markdown",
      "metadata": {
        "id": "GPeTgIlpmuOj"
      },
      "source": [
        "## **REFERENCE**\n",
        "\n"
      ]
    },
    {
      "cell_type": "markdown",
      "metadata": {
        "id": "3Z8HDLohnCLB"
      },
      "source": [
        "* [Dataset](https://www.kaggle.com/c/titanic/overview)"
      ]
    }
  ]
}