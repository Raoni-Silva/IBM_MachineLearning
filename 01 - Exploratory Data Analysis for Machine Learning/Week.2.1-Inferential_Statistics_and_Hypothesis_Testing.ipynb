{
  "nbformat": 4,
  "nbformat_minor": 0,
  "metadata": {
    "colab": {
      "name": "Week 2.1 - Inferential Statistics and Hypothesis Testing.ipynb",
      "provenance": [],
      "collapsed_sections": [
        "yHVvJmsY0uvN",
        "9IFuYaRM5D6m",
        "xB2FA50Z9HQY",
        "wOY3ClKwdVUp",
        "I3XJgvX7lrbN",
        "ED7l1w0jmqVX",
        "G33wahvQu7Ub",
        "w_vZd7YMpRmW"
      ],
      "toc_visible": true
    },
    "kernelspec": {
      "name": "python3",
      "display_name": "Python 3"
    },
    "language_info": {
      "name": "python"
    }
  },
  "cells": [
    {
      "cell_type": "markdown",
      "metadata": {
        "id": "pJeECyhc89Kw"
      },
      "source": [
        "<p align=\"left\">\n",
        "<img src=\"https://raw.githubusercontent.com/Raoni-Silva/IBM_MachineLearning/main/Image/ibm-logo.png\"\n",
        "width=\"500\" />\n",
        "</p>\n"
      ]
    },
    {
      "cell_type": "markdown",
      "metadata": {
        "id": "mInPAdoCz54O"
      },
      "source": [
        "# **Exploratory Data Analysis for Machine Learning**\n",
        "\n",
        "**Notebook content**\n",
        "> **WEEK 2.1** - Inferential Statistics and Hypothesis Testing\n",
        "> * 2.1.1 - Estimation and Inference and Hypothesis Testing\n",
        "> * 2.1.2 - Hypothesis Testing\n"
      ]
    },
    {
      "cell_type": "markdown",
      "metadata": {
        "id": "yHVvJmsY0uvN"
      },
      "source": [
        "***\n",
        "***\n",
        "# **Week 2.1.1 - Estimation and Inference and Hypothesis Testing**\n",
        "\n",
        "Notebook of my notes for the week 2.1.1 of the course [Exploratory Data Analysis for Machine Learning](https://www.coursera.org/learn/ibm-exploratory-data-analysis-for-machine-learning) as part of the [IBM Machine Learning Professional Certificate](https://www.coursera.org/professional-certificates/ibm-machine-learning).\n",
        "\n",
        "***\n",
        "***"
      ]
    },
    {
      "cell_type": "markdown",
      "metadata": {
        "id": "9IFuYaRM5D6m"
      },
      "source": [
        "## **ESTIMATION VS. INFERENCE**"
      ]
    },
    {
      "cell_type": "markdown",
      "metadata": {
        "id": "yLwcbB3h5Nij"
      },
      "source": [
        "* **Estimation:** is the application of an algorithm, for example, taking an average:\n",
        "\n",
        "$$\n",
        "\\bar{X}=\\sum \\limits _{i=1} ^{N} \\frac{x _{i}}{n}\n",
        "$$\n",
        "\n",
        "* **Inference:** involves putting an accuracy on the estimate (e.g. standard error of an average):\n",
        "\n",
        "$$\n",
        "\\sigma= \\sqrt{ \\sum \\limits _{i=1} ^{N} \\frac {(x _{i} - \\bar{x})^{2}}{(n-1)} }\n",
        "$$"
      ]
    },
    {
      "cell_type": "markdown",
      "metadata": {
        "id": "Vo1WJ0UG8YWz"
      },
      "source": [
        "**Machine learning** and **statistical inference** are similar.\n",
        "\n",
        "In both cases, we're using data to learn/infer qualities of a distribution that generated the data (often termed the **data-generating process**).\n",
        "\n",
        "We may care either about the whole distribution or just features (e.g. mean).\n",
        "\n",
        "Machine learning applications that focus on understanding parameters and individuals effects involve more tools from statistical inference (some applications are focused only on results)."
      ]
    },
    {
      "cell_type": "markdown",
      "metadata": {
        "id": "xB2FA50Z9HQY"
      },
      "source": [
        "### **Example: Customer Churn**\n",
        "\n",
        "Customer **churn** occurs when a customer leaves a company. We don't want that.\n",
        "\n",
        "Data related to churn may include a target variable for whether or not the customer left.\n",
        "\n",
        "Features could include:\n",
        "    \n",
        "- The length of time as a customer\n",
        "- The type and amount purchased\n",
        "- Other customer characteristics\n",
        "\n",
        "Churn prediction is often approached by predicting a score for individuals that estimates the probability the customer will leave.\n",
        "\n",
        "**Estimation** of factors driving customer churn involves measuring the impact of each factor in predicting churn.\n",
        "\n",
        "**Inference** involves determining whether these measured impacts are statistically significant.\n"
      ]
    },
    {
      "cell_type": "markdown",
      "metadata": {
        "id": "OwIgkpRyWT9K"
      },
      "source": [
        "**Customer Churn: Example Dataset**\n",
        "\n",
        "IBM Cognos Customer Churn Dataset:\n",
        "- Data from fictional telecommunications firm.\n",
        "- Includes account type, customer characteristics, revenue per customer, satisfaction score, estimate of customer lifetime value.\n",
        "- Includes information on whether customer churned (and some categories of churn type).\n",
        "\n",
        "\n",
        "\n",
        "```\n",
        "# Examinig churn data, churn value by payment type\n",
        "sns.barplot(y='churn_value', x='payment', data=df_phone, ci=None)\n",
        "plt.ylabel('Churn Rate')\n",
        "plt.xlabel('Payment Type')\n",
        "plt.title('Churn Rate by Payment Type, Phone Customers')\n",
        "```\n",
        "\n",
        "\n",
        "\n",
        "```\n",
        "# Examining churn data, this time by tenure\n",
        "sns.barplot(y='churn_value', x=pd.cut(df_phone.months, bins=5), data=df_phone, ci=None)\n",
        "plt.ylabel('Churn Rate')\n",
        "plt.xlabel('Ternure Range in Months')\n",
        "plt.title('Churn Rate by Ternure, Phone Customers')\n",
        "```\n",
        "\n",
        "\n",
        "\n",
        "```\n",
        "# Seaborn plot, feature correlations\n",
        "pairplot = df_phone[['months', 'gb_mon', 'total_revenue', 'cltv', 'churn_value']]\n",
        "sns.pairplot(pairplot, hue='churn_value')\n",
        "```\n",
        "\n",
        "\n",
        "\n",
        "```\n",
        "# Seaborn hexbin plot\n",
        "sns.jointplot(x=df[labels['months']], y=df[labels['monthly']], kind='hex')\n",
        "```\n",
        "\n",
        "\n",
        "\n",
        "\n",
        "\n",
        "\n"
      ]
    },
    {
      "cell_type": "markdown",
      "metadata": {
        "id": "wOY3ClKwdVUp"
      },
      "source": [
        "## **PARAMETRIC VS. NON-PARAMETRIC**"
      ]
    },
    {
      "cell_type": "markdown",
      "metadata": {
        "id": "QrZ2wBQIdyLE"
      },
      "source": [
        "If **inference** is about trying to find out the Data-Generating Process (DGP), then we can say that a statistical model (of the data) is a set of possible distributions or maybe even regressions.\n",
        "\n",
        "A **parametric** model is a particular type of statistical model: it's also a set of distributions or regressions, but they have a finite number of parameters.\n",
        "\n",
        "In **non-parametric** statistics, we make fewer assumptions.\n",
        "\n",
        "In particular, we don't assume that the data belong to any particular distribution (also called **distribution-free inference**).\n",
        "\n",
        "An example of **non-parametric inference** is creating a distribution of the data (CDF or cumulative distribution function) using a histogram.\n",
        "\n",
        "In this case, we're not specifying parameters.\n",
        "\n",
        "A **parametric model** is a particular type of statistical model: it's also a set of distributions or regressions, but they have a finite number of parameters.\n",
        "\n",
        "An example of parametric model: the **Normal Distribution**."
      ]
    },
    {
      "cell_type": "markdown",
      "metadata": {
        "id": "I3XJgvX7lrbN"
      },
      "source": [
        "### **Example: Customer Lifetime Value**\n",
        "\n",
        "**Customer lifetime value** is an estimate of the customer's value to the company.\n",
        "\n",
        "Data related to customer lifetime value might include:\n",
        "- The expected length of time as a customer\n",
        "- The expected amount spent over time\n",
        "\n",
        "To estimate lifetime value, we make **assumptions** about the data.\n",
        "\n",
        "These assumptions can be **parametric** (assuming a specific distribution like whether that is linear over time), or **non-parametric**."
      ]
    },
    {
      "cell_type": "markdown",
      "metadata": {
        "id": "ED7l1w0jmqVX"
      },
      "source": [
        "### **Parametric Models: Maximum Likelihood**\n",
        "\n",
        "The most common way of estimating parameters in a parametric model is through **maximum likelihood estimate (MLE)**.\n",
        "\n"
      ]
    },
    {
      "cell_type": "markdown",
      "metadata": {
        "id": "G33wahvQu7Ub"
      },
      "source": [
        "## **COMMONLY USED DISTRIBUTIONS**\n",
        "\n",
        "* **Uniform**\n",
        "\n",
        "![Distribution Uniform.jpg](https://raw.githubusercontent.com/Raoni-Silva/IBM_MachineLearning/main/01%20-%20Exploratory%20Data%20Analysis%20for%20Machine%20Learning/Images/Distribution%20Uniform.JPG)\n",
        "\n",
        "* **Gaussian / Normal**\n",
        "\n",
        "![Distribution Gaussian Normal.jpg](https://raw.githubusercontent.com/Raoni-Silva/IBM_MachineLearning/main/01%20-%20Exploratory%20Data%20Analysis%20for%20Machine%20Learning/Images/Distribution%20Gaussian%20Normal.JPG)\n",
        "\n",
        "* **Log Normal**\n",
        "\n",
        "![Distribution Log Normal.jpg](https://raw.githubusercontent.com/Raoni-Silva/IBM_MachineLearning/main/01%20-%20Exploratory%20Data%20Analysis%20for%20Machine%20Learning/Images/Distribution%20Log%20Normal.JPG)\n",
        "\n",
        "* **Exponential**\n",
        "\n",
        "![Distribution Exponential.jpg](https://raw.githubusercontent.com/Raoni-Silva/IBM_MachineLearning/main/01%20-%20Exploratory%20Data%20Analysis%20for%20Machine%20Learning/Images/Distribution%20Exponential.JPG)\n",
        "\n",
        "* **Poisson**\n",
        "\n",
        "![Distribution Poisson.jpg](https://raw.githubusercontent.com/Raoni-Silva/IBM_MachineLearning/main/01%20-%20Exploratory%20Data%20Analysis%20for%20Machine%20Learning/Images/Distribution%20Poisson.JPG)"
      ]
    },
    {
      "cell_type": "markdown",
      "metadata": {
        "id": "w_vZd7YMpRmW"
      },
      "source": [
        "## **FREQUENTIST VS. BAYESIAN STATISTICS**"
      ]
    },
    {
      "cell_type": "markdown",
      "metadata": {
        "id": "o1JolD0Drqa6"
      },
      "source": [
        "A **Frequentist** is concerned with repeated observation in the limit.\n",
        "\n",
        "Processes may have true frequencies, but we're interested in modeling probabilities as many, many repeats of an experiment.\n",
        "\n",
        "Frequentist approach:\n",
        "- **Derive** the probabilistic property of a procedure\n",
        "- **Apply** the probability directly to the observed data\n",
        "\n",
        "A **Bayesian** describes parameters by probability distributions.\n",
        "\n",
        "Before seeing any data, a **prior distribution** (based on the experimenters' belief) is formulated.\n",
        "\n",
        "This **prior distriburtion** is then updated after seeing data (a sample from the distribution).\n",
        "\n",
        "After updating, the distribution is called the **posterior distribution**.\n",
        "\n",
        "We use much of the same math and the same formulas in both Frequentist and Bayesian statistics.\n",
        "\n",
        "The element that differs is the **interpretation**."
      ]
    },
    {
      "cell_type": "markdown",
      "metadata": {
        "id": "8xUCVi2p2mzi"
      },
      "source": [
        "***\n",
        "***\n",
        "# **Week 2.1.2 - Hypothesis Testing**\n",
        "\n",
        "Notebook of my notes for the week 2.1.2 of the course [Exploratory Data Analysis for Machine Learning](https://www.coursera.org/learn/ibm-exploratory-data-analysis-for-machine-learning) as part of the [IBM Machine Learning Professional Certificate](https://www.coursera.org/professional-certificates/ibm-machine-learning).\n",
        "\n",
        "***\n",
        "***"
      ]
    },
    {
      "cell_type": "markdown",
      "metadata": {
        "id": "RpfCEQTmgF8P"
      },
      "source": [
        "## **HYPOTHESIS TESTING**\n",
        "\n",
        "A **hypothesis** is a statement about a population parameter.\n",
        "\n",
        "We create two hypothesis:\n",
        "* The **null hypothesis** ($H _{0}$)\n",
        "* The **alternative hypothesis** ($H _{1}$ or $H_{A}$)\n",
        "\n",
        "We decide which on to call the null dependending on how the problem is set up.\n",
        "\n",
        "A **hypothesis testing procedure** gives us a rule to decide:\n",
        "* For which values of the test statistic do we **accept** $H_{0}$\n",
        "* For which values of the test statistic do we **reject** $H_{0}$ and accept $H_{A}$."
      ]
    },
    {
      "cell_type": "markdown",
      "metadata": {
        "id": "FKL7uCddgcyT"
      },
      "source": [
        "### **Bayesian Interpretation**\n",
        "\n",
        "We don't get a decision boundary, instead, we get updated probabilities.\n",
        "\n"
      ]
    },
    {
      "cell_type": "markdown",
      "metadata": {
        "id": "FPyf24NRuXSg"
      },
      "source": [
        "* **Example: Coin Tossing**\n",
        "\n",
        "You have two coins:\n",
        "- Coin 1 has a 70% probability of coming up heads.\n",
        "- Coin 2 has a 50% probability of coming up heads.\n",
        "\n",
        "Pick one coin without looking.\n",
        "\n",
        "Toss the coin 10 times and record the number of heads.\n",
        "\n",
        "Given the number of heads you see, which of the two coins did you toss?\n",
        "\n",
        "Given what we know abount coins 1 and 2, we can make a table of the probability of seeing x heads out of 10 tosses.\n",
        "\n",
        "|**x**|**0**|**1**|**2**|**3**|**4**|**5**|**6**|**7**|**8**|**9**|**10**|\n",
        "|---|---|---|---|---|---|---|---|---|---|---|---|\n",
        "|**Coin 1 P(Head)=0.5**|0.001|0.010|0.044|0.117|0.205|0.246|0.205|0.117|0.044|0.010|0.001|\n",
        "|**Coin 2 P(Head)=0.7**|0.000|0.0001|0.001|0.009|0.037|0.103|0.200|0.267|0.236|0.121|0.028|\n",
        "\n",
        "We can now calculate a likelihood ratio, based on the number of heads we saw when tossing the unidentified coin.\n",
        "\n",
        "Suppose we saw three heads:\n",
        "\n",
        "$$\n",
        "\\frac{P1(3)}{P2(3)}=\\frac{0.117}{0.009}=13\n",
        "$$\n",
        "\n",
        "Coin 1 was 13 times more likely to give us the output (3 heads) than coin 2.\n",
        "\n",
        "We call this the **likelihood ratio**."
      ]
    },
    {
      "cell_type": "markdown",
      "metadata": {
        "id": "pCeFVxP4kUUu"
      },
      "source": [
        "In the Bayesian interpretation, we need **priors** for each hypothesis:\n",
        "- In this case, we randomly chose the coin to flip\n",
        "- P($H_{1}$ = we chose coin 1) = 1/2\n",
        "- P($H_{2}$ = we chose coin 2) = 1/2\n",
        "\n",
        "Since we have no way, before seeing the data, to determine the coin that was chosen, we just assign 1/2 to each.\n",
        "\n",
        "$$\n",
        "\\frac{P(H_{1}|x)}{P(H_{2}|x)}=\\frac{P(H_{1})P(x|H_{1})}{P(H_{2})P(x|H_{2})}\n",
        "$$\n",
        "\n",
        "**Priors:** P($H_{1}$) = 1/2 = P($H_{2}$) = 1/2\n",
        "\n",
        "Updating priors after seeing the data 3 heads (Bayes' Rule):\n",
        "\n",
        "$$\n",
        "P(H_{1}|x)=\\frac{P(x|H_{1})P(H_{1})}{P(x)}\n",
        "$$\n",
        "\n",
        "The prior are multiplied by the likelihood ratio, which does not depend on the proirs.\n",
        "\n",
        "The likelihood ratio tells us how we should update the priors in reaction to seeing a given set of data!\n",
        "\n",
        "\n"
      ]
    },
    {
      "cell_type": "markdown",
      "metadata": {
        "id": "CsqE10IsunIv"
      },
      "source": [
        "### **Neyman-Pearson Interpretation**\n",
        "\n",
        "The **Neyman-Pearson paradigm** (1933) is a non-Bayesian."
      ]
    },
    {
      "cell_type": "markdown",
      "metadata": {
        "id": "EbZ0PfacvMCa"
      },
      "source": [
        "This gives an up or down vote on $H_{0}$ vs $H_{1}$\n",
        "\n",
        "Terminology:\n",
        "\n",
        "\n",
        "|||**Accept $H_{0}$**|**Reject $H_{0}$**|\n",
        "|---|---|---|---|\n",
        "|**Truth**|**$H_{0}$**|Correct|Type I error|\n",
        "|**Truth**|**$H_{1}$**|Type II error| Correct|\n",
        "\n",
        "**Power** of a test = 1 - P(Type II Error)"
      ]
    },
    {
      "cell_type": "markdown",
      "metadata": {
        "id": "0W7vgz-ayE8T"
      },
      "source": [
        "* **Example: customer Churn**\n",
        "\n",
        "Customer **churn** occurs when a customer leaves a company.\n",
        "\n",
        "Data related to churn may include a target variable for whether or not the customer left.\n",
        "\n",
        "Features could include:\n",
        "- The length of time as a customer\n",
        "- The type and amount of purchase\n",
        "- Other customer characteristics\n",
        "\n",
        "Churn prediction is often approached by predicting a score for individuals that estimates the probability the customer will leave.\n",
        "\n",
        "Suppose we use data on customer characteristics to predict who will churn over the next year.\n",
        "\n",
        "$H_{A}$: In our data, customers who have been with the company for longer are less likely to churn.\n",
        "\n",
        "$H_{0}$: This could be due to an underlying effect, or due to chance.\n",
        "\n",
        "- A **Type I Error** occurs when this effect is due to chance, but we find it to be significant in the model.\n",
        "- A **Type II Error** occurs when we ascribe the effect to chance, but the effect is non-coincidental."
      ]
    },
    {
      "cell_type": "markdown",
      "metadata": {
        "id": "pNEEBv6Z5CDK"
      },
      "source": [
        "### **Terminology**\n",
        "\n",
        "The likelihood ratio is called a **test statistic**: we use it to decide whether to accept/reject $H_{0}$.\n",
        "\n",
        "The **reject region**: is the set of values of the test statistic that lead to rejection of $H_{0}$.\n",
        "\n",
        "The **acceptance region**: is the set of values of the test statistic that lead to acceptance of $H_{0}$.\n",
        "\n",
        "The **null distribution**: is test statistic's distribution when the null is true."
      ]
    },
    {
      "cell_type": "markdown",
      "metadata": {
        "id": "Ij11nkEb5x75"
      },
      "source": [
        "### **Examples**\n"
      ]
    },
    {
      "cell_type": "markdown",
      "metadata": {
        "id": "GLndrLtS6HLP"
      },
      "source": [
        "* **Marketing Intervention**\n",
        "\n",
        "A new direct mail marketing campaign to existing customer\n",
        "\n",
        "Testing marketing intervention effectiveness:\n",
        "- $H_{0}$: the campaign does not impact purchasing\n",
        "- $H_{1}$: suggests it has an impact"
      ]
    },
    {
      "cell_type": "markdown",
      "metadata": {
        "id": "FRWa7QN26rwe"
      },
      "source": [
        "* **Website Layout**\n",
        "\n",
        "Testing change in a website layout:\n",
        "- $H_{0}$: The change has no impact on traffic\n",
        "- $H_{1}$: There is an impact on traffic (here we would look for evidence to reject the null in favor of an alternative)"
      ]
    },
    {
      "cell_type": "markdown",
      "metadata": {
        "id": "Y8nyRRhO7VDY"
      },
      "source": [
        "* **Product Quality/Size**\n",
        "\n",
        "Suppose a product is produced in various factories, with expected size S.\n",
        "\n",
        "To confirm that the product size meets the standard within a margin of error to company might randomly sample from each production source.\n",
        "\n",
        "Testing wheter a product meets expected size threshould,\n",
        "- $H_{0}$: Product size is not significantly diferent from S\n",
        "- $H_{1}$: There is a significant deviation in product size\n",
        "\n",
        "Test whether $H_{0}$ can be rejected in favor of $H_{1}$, based on the observed mean and standard deviation."
      ]
    },
    {
      "cell_type": "markdown",
      "metadata": {
        "id": "JF_Gw921fnGN"
      },
      "source": [
        "## **SIGNIFICANCE LEVEL AND P-VALUES**"
      ]
    },
    {
      "cell_type": "markdown",
      "metadata": {
        "id": "tKBB1cmAfrCv"
      },
      "source": [
        "We know the distribution of the null hypothesis.\n",
        "\n",
        "To get a rejection region, we calculate the test statistic.\n",
        "\n",
        "We will choose, before testing the data, the level at which we will reject the null hypothesis.\n",
        "\n",
        "A **significance level ($\\alpha$)** is a probability threshold below which the null hypothesis will be rejected.\n",
        "\n",
        "We must choose an $\\alpha$ before computing the test statistic. If we don't, we might be accused of **p-hacking**.\n",
        "\n",
        "Choosing $\\alpha$ is somewhat arbitrary, but often 0.01, 0.05 or 0.001 if we want to be really safe.\n",
        "\n",
        "**Importante teminology:**\n",
        "- **p-value**: smallest significance level at which the null hypothesis would be rejected\n",
        "- **Confidence interval**: the values of the statistic for which we accept the null"
      ]
    },
    {
      "cell_type": "markdown",
      "metadata": {
        "id": "H56kqgkQiv9T"
      },
      "source": [
        "### **Example: Coin Tossing (p-value)**"
      ]
    },
    {
      "cell_type": "markdown",
      "metadata": {
        "id": "4MbA4PaLi9RA"
      },
      "source": [
        "|**x**|**0**|**1**|**2**|**3**|**4**|**5**|**6**|**7**|**8**|**9**|**10**|\n",
        "|---|---|---|---|---|---|---|---|---|---|---|---|\n",
        "|**Coin 1 P(Head)=0.5**|0.001|0.010|0.044|0.117|0.205|0.246|0.205|0.117|0.044|0.010|0.001|\n",
        "\n",
        "<br>\n",
        "\n",
        "\n",
        "Suppose we saw three heads in 10 rolls:\n",
        "- P(3 or less heads) = P(0 heads) + P(1 head) + P(2 heads) + P(3 heads)=17.1\\% \n",
        "\n",
        "In the coin tossing example:\n",
        "* $H_{0}$: the coin is fair and P(H) = 0.5\n",
        "* $H_{1}$: the coin is unfair and P(H) < 0.5\n",
        "\n",
        "How can we test the null hypothesis if we observed 3 heads in 10 flips?\n",
        "\n",
        "Testing the null hypothesis:\n",
        "* We know $H_{0}$ is distributed binom(10, 0.5).\n",
        "* Choose a **p-value cutoff**, say 5%.\n",
        "* Calculate the **CDF (Cumulative Distribution Function)** of 3 heads from a binom(10, 0.5).\n",
        "* CDF = 17.1% (above cutoff)\n",
        "* This is > 5%, so we don't reject $H_{0}$."
      ]
    },
    {
      "cell_type": "markdown",
      "metadata": {
        "id": "yehy3bUPpAJf"
      },
      "source": [
        "### **F-Statistic**\n",
        "\n",
        "$H_{0}$: the data can be modeled by setting all betas to zero.\n",
        "\n",
        "Reject the null if the p-value is small enough.\n",
        "\n",
        "![F-Statistic.jpg](https://raw.githubusercontent.com/Raoni-Silva/IBM_MachineLearning/main/01%20-%20Exploratory%20Data%20Analysis%20for%20Machine%20Learning/Images/F-Statistic.JPG)"
      ]
    },
    {
      "cell_type": "markdown",
      "metadata": {
        "id": "frEGoWxhtUUF"
      },
      "source": [
        "### **Power and Sample Size**\n",
        "\n",
        "If you do many 5% significance tests looking for a significant result, the chances of making at least one Type I error increase.\n",
        "\n",
        "Probability of at least one type I error is approximately = 1 - (1 - 0.05)^(#test)\n",
        "\n",
        "This is roughly 50% chance of getting one Type I error if you have 10 tests.\n",
        "\n",
        "**Power: Bonferroni Correction**\n",
        "\n",
        "The **Bonferroni Correction**: says \"choose $p_{threshold}$ so that the probability of making a Type I error (assuming no effect) is 5%\".\n",
        "\n",
        "Tipically choose: $p_{threshold}=\\frac{0.05}{N tests}$\n",
        "\n",
        "Bonferroni Correction allows the probability of a Type I error to be controlled, but at the cost of power.\n",
        "\n",
        "Effects either need to be larger or the tests need larger samples, to be detected.\n",
        "\n",
        "Best practice is to limit the number of comparisons done to a few well-motivated cases."
      ]
    },
    {
      "cell_type": "markdown",
      "metadata": {
        "id": "cAsunVMAx14X"
      },
      "source": [
        "## **ACTIVITY**"
      ]
    },
    {
      "cell_type": "code",
      "metadata": {
        "colab": {
          "base_uri": "https://localhost:8080/"
        },
        "id": "ojOpnAgSzKyN",
        "outputId": "fd3386fa-8764-43af-aeb3-b1962a3ae6b0"
      },
      "source": [
        "%pylab inline\n",
        "\n",
        "%config InlineBackend.figure_formats = ['svg']\n",
        "\n",
        "import matplotlib.pyplot as plt\n",
        "import numpy as np\n",
        "from scipy import stats \n",
        "import math"
      ],
      "execution_count": null,
      "outputs": [
        {
          "output_type": "stream",
          "text": [
            "Populating the interactive namespace from numpy and matplotlib\n"
          ],
          "name": "stdout"
        }
      ]
    },
    {
      "cell_type": "markdown",
      "metadata": {
        "id": "fat893SbzXCB"
      },
      "source": [
        "### **Null Hypothesis**\n",
        "\n",
        "I claim that I can use mystical abilities to predict the outcome of coin flips.\n",
        "\n",
        "You don't think I can.\n",
        "\n",
        "How can we test it?\n",
        "\n",
        "We do an experiment in which I call 100 coin flips. I get 57 right.\n",
        "\n",
        "Am I special or not?"
      ]
    },
    {
      "cell_type": "markdown",
      "metadata": {
        "id": "kaaKqs8dzipx"
      },
      "source": [
        "**Determining the Null and Alternative Hypothesis**\n",
        "\n",
        "* **Null:** I'm not special; my true rate of flip prediction is 0.5. \n",
        "\n",
        "But even under this hypothesis, I could get 57 out of 100 right. So did I get lucky (by random chance) or am I mystical?\n",
        "\n",
        "* **Alternative:** My true rate of flip prediction is greater than 0.5.\n",
        "\n",
        "The thing we're measuring from the experiment, or **test statistic**, is the number of correct flip predictions out of 100.\n",
        "\n"
      ]
    },
    {
      "cell_type": "markdown",
      "metadata": {
        "id": "DwfDm7Zg0ANa"
      },
      "source": [
        "---\n",
        "\n",
        "If the null hypothesis is correct, the test statistic is binomial distributed with parameters `n = 100` and `p = 0.5`. That is, if we repeated the whole experiment many times, we would see such a distribution for all the results.\n",
        "\n",
        "So if the null hypothesis is correct, how likely is it that I got 57 or more coin flips correct?\n",
        "\n",
        "Before we check (really, before we do the experiment) we decide what would convince us that I have ESP. The choice of a cutoff at 5% probability is common. That is, if we would only see data as extreme as we've seen less than 5% of the time, we'll say that seems too unlikely and we will conclude that we don't think the null hypothesis is true.\n",
        "\n",
        "---\n",
        "\n",
        "We have two outcomes, one with probability (p) and the other with probability (1-p) of happening (remember the axioms of probability?), so we know the [binomial](https://en.wikipedia.org/wiki/Binomial_distribution) [distribution](http://mathworld.wolfram.com/BinomialDistribution.html) is the [right tool for this analysis](https://homepage.divms.uiowa.edu/~mbognar/applets/bin.html).\n",
        "\n",
        "In the case of the binomial distribution, which is discrete and not too complicated mathematically, we could just work out the probability. But in general we'll rely on some existing functionality. (In a traditional statistics class, this is the part where we'd turn to a table in the back of the book.)"
      ]
    },
    {
      "cell_type": "code",
      "metadata": {
        "colab": {
          "base_uri": "https://localhost:8080/"
        },
        "id": "2zXEy2lFzOkZ",
        "outputId": "bb490e9b-52c3-4e89-851e-a6bb15247803"
      },
      "source": [
        "from scipy.stats import binom\n",
        "prob = 1 - binom.cdf(56, 100, 0.5)\n",
        "\n",
        "print(str(round(prob*100, 1))+\"%\")"
      ],
      "execution_count": null,
      "outputs": [
        {
          "output_type": "stream",
          "text": [
            "9.7%\n"
          ],
          "name": "stdout"
        }
      ]
    },
    {
      "cell_type": "markdown",
      "metadata": {
        "id": "vQcDQnsd10Ka"
      },
      "source": [
        "The probability of getting 57 or more correct is about 9.7%. This is more than 5%, so we can't reject the null and conclude that I (probably) don't have mystical powers.\n",
        "\n",
        "---\n",
        "\n",
        "Conversely, we can figure out what the 95% cutoff is beforehand.\n",
        "\n",
        "--- "
      ]
    },
    {
      "cell_type": "markdown",
      "metadata": {
        "id": "CBpuurX017jJ"
      },
      "source": [
        "### **Exercise**\n",
        "\n",
        "Find the number of coin flips a person would need to guess correctly for us to believe they're clairvoyant."
      ]
    },
    {
      "cell_type": "code",
      "metadata": {
        "colab": {
          "base_uri": "https://localhost:8080/"
        },
        "id": "WhPPGOmv1o67",
        "outputId": "e4a5766d-0f9e-43b2-b4b0-4ecb42fa35bb"
      },
      "source": [
        "from scipy.stats import binom\n",
        "print(binom.ppf(0.95,100,0.5)+1)"
      ],
      "execution_count": null,
      "outputs": [
        {
          "output_type": "stream",
          "text": [
            "59.0\n"
          ],
          "name": "stdout"
        }
      ]
    },
    {
      "cell_type": "markdown",
      "metadata": {
        "id": "FkevhuMP2FKF"
      },
      "source": [
        "Which means, one should get 59 tosses or more to be considered clairvoyant. And we will say the person has predictive power with a confidence level of 95%.\n",
        "\n",
        "---"
      ]
    },
    {
      "cell_type": "markdown",
      "metadata": {
        "id": "ySAzCLvG51pR"
      },
      "source": [
        "### **A More Specific Claim**\n",
        "\n",
        "So far so good. What if instead I said, \"I'm not perfect, but I can predict coin tosses 60% of the time. Which is still good, which is still valuable.\"\n",
        "\n",
        "What do we do in this case? Sure, we can do exactly what we did earlier and when I predict 57 times, we can reject my claim.\n",
        "\n",
        "But what if I say, \"Wait a minute. I said 60 and I got 57, that sounds pretty good to me.\"\n",
        "\n",
        "Interpretation:\n",
        "> \"I happened to have a poor guessing day, and that's why my results aren't quite statistically significant!\"\n",
        "\n",
        "What do we say to that? The issue here is that there is no longer a single null hypothesis that we prove or disprove. Instead, **we have two competing hypotheses**:\n",
        "    * Hypothesis A: There is no predictive power\n",
        "    * Hypothesis B: There is a 60% predictive power\n",
        "\n",
        "Each is a normal curve, with one centered at 50% and the other at 60%."
      ]
    },
    {
      "cell_type": "code",
      "metadata": {
        "colab": {
          "base_uri": "https://localhost:8080/",
          "height": 352
        },
        "id": "bMubrIbC1_ia",
        "outputId": "9784e2cd-2887-4b0b-e9b3-72a2de38b662"
      },
      "source": [
        "mu = 50\n",
        "variance = 10\n",
        "sigma = math.sqrt(variance)\n",
        "x = np.linspace(1, 100, 200)\n",
        "plt.plot(x,stats.norm.pdf(x, mu, sigma))\n",
        "\n",
        "mu = 60\n",
        "variance = 10\n",
        "sigma = math.sqrt(variance)\n",
        "x = np.linspace(1, 100, 200)\n",
        "plt.plot(x,stats.norm.pdf(x, mu, sigma))\n",
        "\n",
        "plt.xlim(30,80)\n",
        "plt.show()"
      ],
      "execution_count": null,
      "outputs": [
        {
          "output_type": "display_data",
          "data": {
            "text/plain": [
              "<Figure size 432x288 with 1 Axes>"
            ],
            "image/svg+xml": "<?xml version=\"1.0\" encoding=\"utf-8\" standalone=\"no\"?>\n<!DOCTYPE svg PUBLIC \"-//W3C//DTD SVG 1.1//EN\"\n  \"http://www.w3.org/Graphics/SVG/1.1/DTD/svg11.dtd\">\n<!-- Created with matplotlib (https://matplotlib.org/) -->\n<svg height=\"248.518125pt\" version=\"1.1\" viewBox=\"0 0 384.828125 248.518125\" width=\"384.828125pt\" xmlns=\"http://www.w3.org/2000/svg\" xmlns:xlink=\"http://www.w3.org/1999/xlink\">\n <defs>\n  <style type=\"text/css\">\n*{stroke-linecap:butt;stroke-linejoin:round;}\n  </style>\n </defs>\n <g id=\"figure_1\">\n  <g id=\"patch_1\">\n   <path d=\"M 0 248.518125 \nL 384.828125 248.518125 \nL 384.828125 0 \nL 0 0 \nz\n\" style=\"fill:none;\"/>\n  </g>\n  <g id=\"axes_1\">\n   <g id=\"patch_2\">\n    <path d=\"M 36.465625 224.64 \nL 371.265625 224.64 \nL 371.265625 7.2 \nL 36.465625 7.2 \nz\n\" style=\"fill:#ffffff;\"/>\n   </g>\n   <g id=\"matplotlib.axis_1\">\n    <g id=\"xtick_1\">\n     <g id=\"line2d_1\">\n      <defs>\n       <path d=\"M 0 0 \nL 0 3.5 \n\" id=\"m352c252f07\" style=\"stroke:#000000;stroke-width:0.8;\"/>\n      </defs>\n      <g>\n       <use style=\"stroke:#000000;stroke-width:0.8;\" x=\"36.465625\" xlink:href=\"#m352c252f07\" y=\"224.64\"/>\n      </g>\n     </g>\n     <g id=\"text_1\">\n      <!-- 30 -->\n      <defs>\n       <path d=\"M 40.578125 39.3125 \nQ 47.65625 37.796875 51.625 33 \nQ 55.609375 28.21875 55.609375 21.1875 \nQ 55.609375 10.40625 48.1875 4.484375 \nQ 40.765625 -1.421875 27.09375 -1.421875 \nQ 22.515625 -1.421875 17.65625 -0.515625 \nQ 12.796875 0.390625 7.625 2.203125 \nL 7.625 11.71875 \nQ 11.71875 9.328125 16.59375 8.109375 \nQ 21.484375 6.890625 26.8125 6.890625 \nQ 36.078125 6.890625 40.9375 10.546875 \nQ 45.796875 14.203125 45.796875 21.1875 \nQ 45.796875 27.640625 41.28125 31.265625 \nQ 36.765625 34.90625 28.71875 34.90625 \nL 20.21875 34.90625 \nL 20.21875 43.015625 \nL 29.109375 43.015625 \nQ 36.375 43.015625 40.234375 45.921875 \nQ 44.09375 48.828125 44.09375 54.296875 \nQ 44.09375 59.90625 40.109375 62.90625 \nQ 36.140625 65.921875 28.71875 65.921875 \nQ 24.65625 65.921875 20.015625 65.03125 \nQ 15.375 64.15625 9.8125 62.3125 \nL 9.8125 71.09375 \nQ 15.4375 72.65625 20.34375 73.4375 \nQ 25.25 74.21875 29.59375 74.21875 \nQ 40.828125 74.21875 47.359375 69.109375 \nQ 53.90625 64.015625 53.90625 55.328125 \nQ 53.90625 49.265625 50.4375 45.09375 \nQ 46.96875 40.921875 40.578125 39.3125 \nz\n\" id=\"DejaVuSans-51\"/>\n       <path d=\"M 31.78125 66.40625 \nQ 24.171875 66.40625 20.328125 58.90625 \nQ 16.5 51.421875 16.5 36.375 \nQ 16.5 21.390625 20.328125 13.890625 \nQ 24.171875 6.390625 31.78125 6.390625 \nQ 39.453125 6.390625 43.28125 13.890625 \nQ 47.125 21.390625 47.125 36.375 \nQ 47.125 51.421875 43.28125 58.90625 \nQ 39.453125 66.40625 31.78125 66.40625 \nz\nM 31.78125 74.21875 \nQ 44.046875 74.21875 50.515625 64.515625 \nQ 56.984375 54.828125 56.984375 36.375 \nQ 56.984375 17.96875 50.515625 8.265625 \nQ 44.046875 -1.421875 31.78125 -1.421875 \nQ 19.53125 -1.421875 13.0625 8.265625 \nQ 6.59375 17.96875 6.59375 36.375 \nQ 6.59375 54.828125 13.0625 64.515625 \nQ 19.53125 74.21875 31.78125 74.21875 \nz\n\" id=\"DejaVuSans-48\"/>\n      </defs>\n      <g transform=\"translate(30.103125 239.238437)scale(0.1 -0.1)\">\n       <use xlink:href=\"#DejaVuSans-51\"/>\n       <use x=\"63.623047\" xlink:href=\"#DejaVuSans-48\"/>\n      </g>\n     </g>\n    </g>\n    <g id=\"xtick_2\">\n     <g id=\"line2d_2\">\n      <g>\n       <use style=\"stroke:#000000;stroke-width:0.8;\" x=\"103.425625\" xlink:href=\"#m352c252f07\" y=\"224.64\"/>\n      </g>\n     </g>\n     <g id=\"text_2\">\n      <!-- 40 -->\n      <defs>\n       <path d=\"M 37.796875 64.3125 \nL 12.890625 25.390625 \nL 37.796875 25.390625 \nz\nM 35.203125 72.90625 \nL 47.609375 72.90625 \nL 47.609375 25.390625 \nL 58.015625 25.390625 \nL 58.015625 17.1875 \nL 47.609375 17.1875 \nL 47.609375 0 \nL 37.796875 0 \nL 37.796875 17.1875 \nL 4.890625 17.1875 \nL 4.890625 26.703125 \nz\n\" id=\"DejaVuSans-52\"/>\n      </defs>\n      <g transform=\"translate(97.063125 239.238437)scale(0.1 -0.1)\">\n       <use xlink:href=\"#DejaVuSans-52\"/>\n       <use x=\"63.623047\" xlink:href=\"#DejaVuSans-48\"/>\n      </g>\n     </g>\n    </g>\n    <g id=\"xtick_3\">\n     <g id=\"line2d_3\">\n      <g>\n       <use style=\"stroke:#000000;stroke-width:0.8;\" x=\"170.385625\" xlink:href=\"#m352c252f07\" y=\"224.64\"/>\n      </g>\n     </g>\n     <g id=\"text_3\">\n      <!-- 50 -->\n      <defs>\n       <path d=\"M 10.796875 72.90625 \nL 49.515625 72.90625 \nL 49.515625 64.59375 \nL 19.828125 64.59375 \nL 19.828125 46.734375 \nQ 21.96875 47.46875 24.109375 47.828125 \nQ 26.265625 48.1875 28.421875 48.1875 \nQ 40.625 48.1875 47.75 41.5 \nQ 54.890625 34.8125 54.890625 23.390625 \nQ 54.890625 11.625 47.5625 5.09375 \nQ 40.234375 -1.421875 26.90625 -1.421875 \nQ 22.3125 -1.421875 17.546875 -0.640625 \nQ 12.796875 0.140625 7.71875 1.703125 \nL 7.71875 11.625 \nQ 12.109375 9.234375 16.796875 8.0625 \nQ 21.484375 6.890625 26.703125 6.890625 \nQ 35.15625 6.890625 40.078125 11.328125 \nQ 45.015625 15.765625 45.015625 23.390625 \nQ 45.015625 31 40.078125 35.4375 \nQ 35.15625 39.890625 26.703125 39.890625 \nQ 22.75 39.890625 18.8125 39.015625 \nQ 14.890625 38.140625 10.796875 36.28125 \nz\n\" id=\"DejaVuSans-53\"/>\n      </defs>\n      <g transform=\"translate(164.023125 239.238437)scale(0.1 -0.1)\">\n       <use xlink:href=\"#DejaVuSans-53\"/>\n       <use x=\"63.623047\" xlink:href=\"#DejaVuSans-48\"/>\n      </g>\n     </g>\n    </g>\n    <g id=\"xtick_4\">\n     <g id=\"line2d_4\">\n      <g>\n       <use style=\"stroke:#000000;stroke-width:0.8;\" x=\"237.345625\" xlink:href=\"#m352c252f07\" y=\"224.64\"/>\n      </g>\n     </g>\n     <g id=\"text_4\">\n      <!-- 60 -->\n      <defs>\n       <path d=\"M 33.015625 40.375 \nQ 26.375 40.375 22.484375 35.828125 \nQ 18.609375 31.296875 18.609375 23.390625 \nQ 18.609375 15.53125 22.484375 10.953125 \nQ 26.375 6.390625 33.015625 6.390625 \nQ 39.65625 6.390625 43.53125 10.953125 \nQ 47.40625 15.53125 47.40625 23.390625 \nQ 47.40625 31.296875 43.53125 35.828125 \nQ 39.65625 40.375 33.015625 40.375 \nz\nM 52.59375 71.296875 \nL 52.59375 62.3125 \nQ 48.875 64.0625 45.09375 64.984375 \nQ 41.3125 65.921875 37.59375 65.921875 \nQ 27.828125 65.921875 22.671875 59.328125 \nQ 17.53125 52.734375 16.796875 39.40625 \nQ 19.671875 43.65625 24.015625 45.921875 \nQ 28.375 48.1875 33.59375 48.1875 \nQ 44.578125 48.1875 50.953125 41.515625 \nQ 57.328125 34.859375 57.328125 23.390625 \nQ 57.328125 12.15625 50.6875 5.359375 \nQ 44.046875 -1.421875 33.015625 -1.421875 \nQ 20.359375 -1.421875 13.671875 8.265625 \nQ 6.984375 17.96875 6.984375 36.375 \nQ 6.984375 53.65625 15.1875 63.9375 \nQ 23.390625 74.21875 37.203125 74.21875 \nQ 40.921875 74.21875 44.703125 73.484375 \nQ 48.484375 72.75 52.59375 71.296875 \nz\n\" id=\"DejaVuSans-54\"/>\n      </defs>\n      <g transform=\"translate(230.983125 239.238437)scale(0.1 -0.1)\">\n       <use xlink:href=\"#DejaVuSans-54\"/>\n       <use x=\"63.623047\" xlink:href=\"#DejaVuSans-48\"/>\n      </g>\n     </g>\n    </g>\n    <g id=\"xtick_5\">\n     <g id=\"line2d_5\">\n      <g>\n       <use style=\"stroke:#000000;stroke-width:0.8;\" x=\"304.305625\" xlink:href=\"#m352c252f07\" y=\"224.64\"/>\n      </g>\n     </g>\n     <g id=\"text_5\">\n      <!-- 70 -->\n      <defs>\n       <path d=\"M 8.203125 72.90625 \nL 55.078125 72.90625 \nL 55.078125 68.703125 \nL 28.609375 0 \nL 18.3125 0 \nL 43.21875 64.59375 \nL 8.203125 64.59375 \nz\n\" id=\"DejaVuSans-55\"/>\n      </defs>\n      <g transform=\"translate(297.943125 239.238437)scale(0.1 -0.1)\">\n       <use xlink:href=\"#DejaVuSans-55\"/>\n       <use x=\"63.623047\" xlink:href=\"#DejaVuSans-48\"/>\n      </g>\n     </g>\n    </g>\n    <g id=\"xtick_6\">\n     <g id=\"line2d_6\">\n      <g>\n       <use style=\"stroke:#000000;stroke-width:0.8;\" x=\"371.265625\" xlink:href=\"#m352c252f07\" y=\"224.64\"/>\n      </g>\n     </g>\n     <g id=\"text_6\">\n      <!-- 80 -->\n      <defs>\n       <path d=\"M 31.78125 34.625 \nQ 24.75 34.625 20.71875 30.859375 \nQ 16.703125 27.09375 16.703125 20.515625 \nQ 16.703125 13.921875 20.71875 10.15625 \nQ 24.75 6.390625 31.78125 6.390625 \nQ 38.8125 6.390625 42.859375 10.171875 \nQ 46.921875 13.96875 46.921875 20.515625 \nQ 46.921875 27.09375 42.890625 30.859375 \nQ 38.875 34.625 31.78125 34.625 \nz\nM 21.921875 38.8125 \nQ 15.578125 40.375 12.03125 44.71875 \nQ 8.5 49.078125 8.5 55.328125 \nQ 8.5 64.0625 14.71875 69.140625 \nQ 20.953125 74.21875 31.78125 74.21875 \nQ 42.671875 74.21875 48.875 69.140625 \nQ 55.078125 64.0625 55.078125 55.328125 \nQ 55.078125 49.078125 51.53125 44.71875 \nQ 48 40.375 41.703125 38.8125 \nQ 48.828125 37.15625 52.796875 32.3125 \nQ 56.78125 27.484375 56.78125 20.515625 \nQ 56.78125 9.90625 50.3125 4.234375 \nQ 43.84375 -1.421875 31.78125 -1.421875 \nQ 19.734375 -1.421875 13.25 4.234375 \nQ 6.78125 9.90625 6.78125 20.515625 \nQ 6.78125 27.484375 10.78125 32.3125 \nQ 14.796875 37.15625 21.921875 38.8125 \nz\nM 18.3125 54.390625 \nQ 18.3125 48.734375 21.84375 45.5625 \nQ 25.390625 42.390625 31.78125 42.390625 \nQ 38.140625 42.390625 41.71875 45.5625 \nQ 45.3125 48.734375 45.3125 54.390625 \nQ 45.3125 60.0625 41.71875 63.234375 \nQ 38.140625 66.40625 31.78125 66.40625 \nQ 25.390625 66.40625 21.84375 63.234375 \nQ 18.3125 60.0625 18.3125 54.390625 \nz\n\" id=\"DejaVuSans-56\"/>\n      </defs>\n      <g transform=\"translate(364.903125 239.238437)scale(0.1 -0.1)\">\n       <use xlink:href=\"#DejaVuSans-56\"/>\n       <use x=\"63.623047\" xlink:href=\"#DejaVuSans-48\"/>\n      </g>\n     </g>\n    </g>\n   </g>\n   <g id=\"matplotlib.axis_2\">\n    <g id=\"ytick_1\">\n     <g id=\"line2d_7\">\n      <defs>\n       <path d=\"M 0 0 \nL -3.5 0 \n\" id=\"mff31ada378\" style=\"stroke:#000000;stroke-width:0.8;\"/>\n      </defs>\n      <g>\n       <use style=\"stroke:#000000;stroke-width:0.8;\" x=\"36.465625\" xlink:href=\"#mff31ada378\" y=\"214.756364\"/>\n      </g>\n     </g>\n     <g id=\"text_7\">\n      <!-- 0.00 -->\n      <defs>\n       <path d=\"M 10.6875 12.40625 \nL 21 12.40625 \nL 21 0 \nL 10.6875 0 \nz\n\" id=\"DejaVuSans-46\"/>\n      </defs>\n      <g transform=\"translate(7.2 218.555582)scale(0.1 -0.1)\">\n       <use xlink:href=\"#DejaVuSans-48\"/>\n       <use x=\"63.623047\" xlink:href=\"#DejaVuSans-46\"/>\n       <use x=\"95.410156\" xlink:href=\"#DejaVuSans-48\"/>\n       <use x=\"159.033203\" xlink:href=\"#DejaVuSans-48\"/>\n      </g>\n     </g>\n    </g>\n    <g id=\"ytick_2\">\n     <g id=\"line2d_8\">\n      <g>\n       <use style=\"stroke:#000000;stroke-width:0.8;\" x=\"36.465625\" xlink:href=\"#mff31ada378\" y=\"183.355324\"/>\n      </g>\n     </g>\n     <g id=\"text_8\">\n      <!-- 0.02 -->\n      <defs>\n       <path d=\"M 19.1875 8.296875 \nL 53.609375 8.296875 \nL 53.609375 0 \nL 7.328125 0 \nL 7.328125 8.296875 \nQ 12.9375 14.109375 22.625 23.890625 \nQ 32.328125 33.6875 34.8125 36.53125 \nQ 39.546875 41.84375 41.421875 45.53125 \nQ 43.3125 49.21875 43.3125 52.78125 \nQ 43.3125 58.59375 39.234375 62.25 \nQ 35.15625 65.921875 28.609375 65.921875 \nQ 23.96875 65.921875 18.8125 64.3125 \nQ 13.671875 62.703125 7.8125 59.421875 \nL 7.8125 69.390625 \nQ 13.765625 71.78125 18.9375 73 \nQ 24.125 74.21875 28.421875 74.21875 \nQ 39.75 74.21875 46.484375 68.546875 \nQ 53.21875 62.890625 53.21875 53.421875 \nQ 53.21875 48.921875 51.53125 44.890625 \nQ 49.859375 40.875 45.40625 35.40625 \nQ 44.1875 33.984375 37.640625 27.21875 \nQ 31.109375 20.453125 19.1875 8.296875 \nz\n\" id=\"DejaVuSans-50\"/>\n      </defs>\n      <g transform=\"translate(7.2 187.154543)scale(0.1 -0.1)\">\n       <use xlink:href=\"#DejaVuSans-48\"/>\n       <use x=\"63.623047\" xlink:href=\"#DejaVuSans-46\"/>\n       <use x=\"95.410156\" xlink:href=\"#DejaVuSans-48\"/>\n       <use x=\"159.033203\" xlink:href=\"#DejaVuSans-50\"/>\n      </g>\n     </g>\n    </g>\n    <g id=\"ytick_3\">\n     <g id=\"line2d_9\">\n      <g>\n       <use style=\"stroke:#000000;stroke-width:0.8;\" x=\"36.465625\" xlink:href=\"#mff31ada378\" y=\"151.954285\"/>\n      </g>\n     </g>\n     <g id=\"text_9\">\n      <!-- 0.04 -->\n      <g transform=\"translate(7.2 155.753503)scale(0.1 -0.1)\">\n       <use xlink:href=\"#DejaVuSans-48\"/>\n       <use x=\"63.623047\" xlink:href=\"#DejaVuSans-46\"/>\n       <use x=\"95.410156\" xlink:href=\"#DejaVuSans-48\"/>\n       <use x=\"159.033203\" xlink:href=\"#DejaVuSans-52\"/>\n      </g>\n     </g>\n    </g>\n    <g id=\"ytick_4\">\n     <g id=\"line2d_10\">\n      <g>\n       <use style=\"stroke:#000000;stroke-width:0.8;\" x=\"36.465625\" xlink:href=\"#mff31ada378\" y=\"120.553245\"/>\n      </g>\n     </g>\n     <g id=\"text_10\">\n      <!-- 0.06 -->\n      <g transform=\"translate(7.2 124.352464)scale(0.1 -0.1)\">\n       <use xlink:href=\"#DejaVuSans-48\"/>\n       <use x=\"63.623047\" xlink:href=\"#DejaVuSans-46\"/>\n       <use x=\"95.410156\" xlink:href=\"#DejaVuSans-48\"/>\n       <use x=\"159.033203\" xlink:href=\"#DejaVuSans-54\"/>\n      </g>\n     </g>\n    </g>\n    <g id=\"ytick_5\">\n     <g id=\"line2d_11\">\n      <g>\n       <use style=\"stroke:#000000;stroke-width:0.8;\" x=\"36.465625\" xlink:href=\"#mff31ada378\" y=\"89.152206\"/>\n      </g>\n     </g>\n     <g id=\"text_11\">\n      <!-- 0.08 -->\n      <g transform=\"translate(7.2 92.951425)scale(0.1 -0.1)\">\n       <use xlink:href=\"#DejaVuSans-48\"/>\n       <use x=\"63.623047\" xlink:href=\"#DejaVuSans-46\"/>\n       <use x=\"95.410156\" xlink:href=\"#DejaVuSans-48\"/>\n       <use x=\"159.033203\" xlink:href=\"#DejaVuSans-56\"/>\n      </g>\n     </g>\n    </g>\n    <g id=\"ytick_6\">\n     <g id=\"line2d_12\">\n      <g>\n       <use style=\"stroke:#000000;stroke-width:0.8;\" x=\"36.465625\" xlink:href=\"#mff31ada378\" y=\"57.751166\"/>\n      </g>\n     </g>\n     <g id=\"text_12\">\n      <!-- 0.10 -->\n      <defs>\n       <path d=\"M 12.40625 8.296875 \nL 28.515625 8.296875 \nL 28.515625 63.921875 \nL 10.984375 60.40625 \nL 10.984375 69.390625 \nL 28.421875 72.90625 \nL 38.28125 72.90625 \nL 38.28125 8.296875 \nL 54.390625 8.296875 \nL 54.390625 0 \nL 12.40625 0 \nz\n\" id=\"DejaVuSans-49\"/>\n      </defs>\n      <g transform=\"translate(7.2 61.550385)scale(0.1 -0.1)\">\n       <use xlink:href=\"#DejaVuSans-48\"/>\n       <use x=\"63.623047\" xlink:href=\"#DejaVuSans-46\"/>\n       <use x=\"95.410156\" xlink:href=\"#DejaVuSans-49\"/>\n       <use x=\"159.033203\" xlink:href=\"#DejaVuSans-48\"/>\n      </g>\n     </g>\n    </g>\n    <g id=\"ytick_7\">\n     <g id=\"line2d_13\">\n      <g>\n       <use style=\"stroke:#000000;stroke-width:0.8;\" x=\"36.465625\" xlink:href=\"#mff31ada378\" y=\"26.350127\"/>\n      </g>\n     </g>\n     <g id=\"text_13\">\n      <!-- 0.12 -->\n      <g transform=\"translate(7.2 30.149346)scale(0.1 -0.1)\">\n       <use xlink:href=\"#DejaVuSans-48\"/>\n       <use x=\"63.623047\" xlink:href=\"#DejaVuSans-46\"/>\n       <use x=\"95.410156\" xlink:href=\"#DejaVuSans-49\"/>\n       <use x=\"159.033203\" xlink:href=\"#DejaVuSans-50\"/>\n      </g>\n     </g>\n    </g>\n   </g>\n   <g id=\"line2d_14\">\n    <path clip-path=\"url(#p6f0d2ed52c)\" d=\"M -1 214.756364 \nL 85.457464 214.692743 \nL 92.119816 214.542486 \nL 98.782168 214.105125 \nL 102.113344 213.661387 \nL 105.444519 212.960304 \nL 108.775695 211.882354 \nL 112.106871 210.269868 \nL 115.438047 207.923893 \nL 118.769223 204.605575 \nL 122.100399 200.044312 \nL 125.431575 193.954694 \nL 128.762751 186.063451 \nL 132.093927 176.146119 \nL 135.425102 164.071071 \nL 138.756278 149.84618 \nL 142.087454 133.661153 \nL 145.41863 115.917201 \nL 155.412158 60.501272 \nL 158.743334 44.470228 \nL 162.074509 31.368515 \nL 165.405685 22.086716 \nL 168.736861 17.283449 \nL 172.068037 17.308131 \nL 175.399213 22.158951 \nL 178.730389 31.483094 \nL 182.061565 44.619159 \nL 185.392741 60.674707 \nL 188.723916 78.626294 \nL 195.386268 116.102346 \nL 198.717444 133.833293 \nL 202.04862 150.000155 \nL 205.379796 164.203942 \nL 208.710972 176.256961 \nL 212.042148 186.152974 \nL 215.373323 194.024779 \nL 218.704499 200.097545 \nL 222.035675 204.644832 \nL 225.366851 207.952018 \nL 228.698027 210.289453 \nL 232.029203 211.895615 \nL 235.360379 212.969038 \nL 238.691555 213.666985 \nL 242.022731 214.108616 \nL 248.685082 214.543739 \nL 258.67861 214.72315 \nL 285.328017 214.756285 \nL 385.828125 214.756364 \nL 385.828125 214.756364 \n\" style=\"fill:none;stroke:#1f77b4;stroke-linecap:square;stroke-width:1.5;\"/>\n   </g>\n   <g id=\"line2d_15\">\n    <path clip-path=\"url(#p6f0d2ed52c)\" d=\"M -1 214.756364 \nL 155.412158 214.645291 \nL 162.074509 214.399215 \nL 165.405685 214.139274 \nL 168.736861 213.716208 \nL 172.068037 213.045954 \nL 175.399213 212.012558 \nL 178.730389 210.462403 \nL 182.061565 208.200736 \nL 185.392741 204.992495 \nL 188.723916 200.569672 \nL 192.055092 194.647303 \nL 195.386268 186.949377 \nL 198.717444 177.244594 \nL 202.04862 165.389827 \nL 205.379796 151.376798 \nL 208.710972 135.375224 \nL 212.042148 117.764145 \nL 222.035675 62.244205 \nL 225.366851 45.972875 \nL 228.698027 32.531794 \nL 232.029203 22.829666 \nL 235.360379 17.55254 \nL 238.691555 17.083636 \nL 242.022731 21.45734 \nL 245.353906 30.355033 \nL 248.685082 43.143467 \nL 252.016258 58.949252 \nL 255.347434 76.757308 \nL 262.009786 114.246602 \nL 265.340962 132.104713 \nL 268.672138 148.451361 \nL 272.003313 162.865302 \nL 275.334489 175.13857 \nL 278.665665 185.248382 \nL 281.996841 193.315602 \nL 285.328017 199.558155 \nL 288.659193 204.246525 \nL 291.990369 207.666282 \nL 295.321545 210.090223 \nL 298.65272 211.760542 \nL 301.983896 212.879963 \nL 305.315072 213.60983 \nL 308.646248 214.072925 \nL 311.977424 214.358931 \nL 318.639776 214.631583 \nL 328.633303 214.738131 \nL 375.269766 214.756364 \nL 385.828125 214.756364 \nL 385.828125 214.756364 \n\" style=\"fill:none;stroke:#ff7f0e;stroke-linecap:square;stroke-width:1.5;\"/>\n   </g>\n   <g id=\"patch_3\">\n    <path d=\"M 36.465625 224.64 \nL 36.465625 7.2 \n\" style=\"fill:none;stroke:#000000;stroke-linecap:square;stroke-linejoin:miter;stroke-width:0.8;\"/>\n   </g>\n   <g id=\"patch_4\">\n    <path d=\"M 371.265625 224.64 \nL 371.265625 7.2 \n\" style=\"fill:none;stroke:#000000;stroke-linecap:square;stroke-linejoin:miter;stroke-width:0.8;\"/>\n   </g>\n   <g id=\"patch_5\">\n    <path d=\"M 36.465625 224.64 \nL 371.265625 224.64 \n\" style=\"fill:none;stroke:#000000;stroke-linecap:square;stroke-linejoin:miter;stroke-width:0.8;\"/>\n   </g>\n   <g id=\"patch_6\">\n    <path d=\"M 36.465625 7.2 \nL 371.265625 7.2 \n\" style=\"fill:none;stroke:#000000;stroke-linecap:square;stroke-linejoin:miter;stroke-width:0.8;\"/>\n   </g>\n  </g>\n </g>\n <defs>\n  <clipPath id=\"p6f0d2ed52c\">\n   <rect height=\"217.44\" width=\"334.8\" x=\"36.465625\" y=\"7.2\"/>\n  </clipPath>\n </defs>\n</svg>\n"
          },
          "metadata": {
            "tags": [],
            "needs_background": "light"
          }
        }
      ]
    },
    {
      "cell_type": "markdown",
      "metadata": {
        "id": "H1DwLDg46aNU"
      },
      "source": [
        "**And 57 correct guesses falls within the 95% confidence of both the curves:**"
      ]
    },
    {
      "cell_type": "code",
      "metadata": {
        "colab": {
          "base_uri": "https://localhost:8080/"
        },
        "id": "GPWldCgs6NWT",
        "outputId": "a659ef5f-1672-4888-8a44-ca1c0ff1c890"
      },
      "source": [
        "print (1 - binom.cdf(57, 100, 0.5))\n",
        "print (binom.cdf(57, 100, 0.6))"
      ],
      "execution_count": null,
      "outputs": [
        {
          "output_type": "stream",
          "text": [
            "0.06660530960360678\n",
            "0.3032601298434453\n"
          ],
          "name": "stdout"
        }
      ]
    },
    {
      "cell_type": "markdown",
      "metadata": {
        "id": "xLmR6tSv6mR8"
      },
      "source": [
        "What now? There just isn't enough data to achieve a confidence of 95%. There are few things we can do."
      ]
    },
    {
      "cell_type": "markdown",
      "metadata": {
        "id": "Myf94t9i6s-c"
      },
      "source": [
        "**1) Decrease confidence**\n",
        "\n",
        "Since we have a claim at 50 and 60, we can pick the mid-point, which is 55. We can say if I can predict over 55, then I have predictive power. This would mean that we have decreased our confidence level."
      ]
    },
    {
      "cell_type": "code",
      "metadata": {
        "colab": {
          "base_uri": "https://localhost:8080/"
        },
        "id": "b8K4Wl5K6b-k",
        "outputId": "4baca098-345f-4cd3-a2f4-d4c9c2017a7c"
      },
      "source": [
        "print (1 - binom.cdf(55, 100, 0.5))\n",
        "print (binom.cdf(54, 100, 0.6))"
      ],
      "execution_count": null,
      "outputs": [
        {
          "output_type": "stream",
          "text": [
            "0.1356265120369171\n",
            "0.13109045261974842\n"
          ],
          "name": "stdout"
        }
      ]
    },
    {
      "cell_type": "markdown",
      "metadata": {
        "id": "xPS0sR0A7vKi"
      },
      "source": [
        "**At an 87% percent confidence level, we can say that I have some predictive power, since I got 57 tosses correct.**\n",
        "\n",
        "Not ideal; we picked a number, which is prone to bias, rather than a confidence interval."
      ]
    },
    {
      "cell_type": "markdown",
      "metadata": {
        "id": "0W3RoAy273tt"
      },
      "source": [
        "**2) Be biased**\n",
        "\n",
        "But it is not neccessary that we bias the two hypotheses equally and pick the midpoint the way we did. The cut-off point can be anywhere. Currently, our error margins are even. The chance that someone has predictive power and we say no is 13% and the chance that someone has no power and we say they do is also 13%. As we change the cutoff, one error goes down and the other goes way up.\n",
        "\n",
        "For example, if we stuck with the original 95% on a coin being fair:"
      ]
    },
    {
      "cell_type": "code",
      "metadata": {
        "colab": {
          "base_uri": "https://localhost:8080/"
        },
        "id": "vZ9WLHuh7fUF",
        "outputId": "35d6bd98-9971-467e-fe46-cb6523dccde7"
      },
      "source": [
        "binom.ppf(0.95, 100, 0.5) #this is the inverse of the cdf functions above"
      ],
      "execution_count": null,
      "outputs": [
        {
          "output_type": "execute_result",
          "data": {
            "text/plain": [
              "58.0"
            ]
          },
          "metadata": {
            "tags": []
          },
          "execution_count": 12
        }
      ]
    },
    {
      "cell_type": "markdown",
      "metadata": {
        "id": "5LrDTwuV8MwS"
      },
      "source": [
        "Then our cutff is 58. Our two errors will be:"
      ]
    },
    {
      "cell_type": "code",
      "metadata": {
        "colab": {
          "base_uri": "https://localhost:8080/"
        },
        "id": "8Pxr_wgh8Hl1",
        "outputId": "5393855e-90d8-4578-c9b1-1e1abf38ff9a"
      },
      "source": [
        "print (1-binom.cdf(58, 100, 0.5))\n",
        "print (binom.cdf(58, 100, 0.6))"
      ],
      "execution_count": null,
      "outputs": [
        {
          "output_type": "stream",
          "text": [
            "0.04431304005703374\n",
            "0.3774673238778277\n"
          ],
          "name": "stdout"
        }
      ]
    },
    {
      "cell_type": "markdown",
      "metadata": {
        "id": "EZb5syT79x9w"
      },
      "source": [
        "5% chance someone has no power and we say they do. But a 38% chance someone has predictive power and we say no. Which depending on the problem might be exactly what we want. These two types of errors are called Type I and Type II. And we have the choice of biasing against one or the other. "
      ]
    },
    {
      "cell_type": "markdown",
      "metadata": {
        "id": "ihHVgJJl-GpU"
      },
      "source": [
        "**3) Increase sample size**\n",
        "\n",
        "The best scenario though is to increase the sample size. Imagine what happens we did 1000 tosses instead of 100."
      ]
    },
    {
      "cell_type": "code",
      "metadata": {
        "colab": {
          "base_uri": "https://localhost:8080/",
          "height": 352
        },
        "id": "zb_c6HMm9i9P",
        "outputId": "037b5ab2-5e5d-4f7a-99c1-fe156c4749a9"
      },
      "source": [
        "mu = 50\n",
        "variance = 1\n",
        "sigma = math.sqrt(variance)\n",
        "x = np.linspace(1, 100, 1000)\n",
        "plt.plot(x,stats.norm.pdf(x, mu, sigma))\n",
        "\n",
        "mu = 60\n",
        "variance = 1\n",
        "sigma = math.sqrt(variance)\n",
        "x = np.linspace(1, 100, 1000)\n",
        "plt.plot(x,stats.norm.pdf(x, mu, sigma))\n",
        "\n",
        "plt.xlim(45,65)\n",
        "plt.show()"
      ],
      "execution_count": null,
      "outputs": [
        {
          "output_type": "display_data",
          "data": {
            "text/plain": [
              "<Figure size 432x288 with 1 Axes>"
            ],
            "image/svg+xml": "<?xml version=\"1.0\" encoding=\"utf-8\" standalone=\"no\"?>\n<!DOCTYPE svg PUBLIC \"-//W3C//DTD SVG 1.1//EN\"\n  \"http://www.w3.org/Graphics/SVG/1.1/DTD/svg11.dtd\">\n<!-- Created with matplotlib (https://matplotlib.org/) -->\n<svg height=\"248.518125pt\" version=\"1.1\" viewBox=\"0 0 389.598438 248.518125\" width=\"389.598438pt\" xmlns=\"http://www.w3.org/2000/svg\" xmlns:xlink=\"http://www.w3.org/1999/xlink\">\n <defs>\n  <style type=\"text/css\">\n*{stroke-linecap:butt;stroke-linejoin:round;}\n  </style>\n </defs>\n <g id=\"figure_1\">\n  <g id=\"patch_1\">\n   <path d=\"M 0 248.518125 \nL 389.598438 248.518125 \nL 389.598438 0 \nL 0 0 \nz\n\" style=\"fill:none;\"/>\n  </g>\n  <g id=\"axes_1\">\n   <g id=\"patch_2\">\n    <path d=\"M 36.465625 224.64 \nL 371.265625 224.64 \nL 371.265625 7.2 \nL 36.465625 7.2 \nz\n\" style=\"fill:#ffffff;\"/>\n   </g>\n   <g id=\"matplotlib.axis_1\">\n    <g id=\"xtick_1\">\n     <g id=\"line2d_1\">\n      <defs>\n       <path d=\"M 0 0 \nL 0 3.5 \n\" id=\"mfcb424821b\" style=\"stroke:#000000;stroke-width:0.8;\"/>\n      </defs>\n      <g>\n       <use style=\"stroke:#000000;stroke-width:0.8;\" x=\"36.465625\" xlink:href=\"#mfcb424821b\" y=\"224.64\"/>\n      </g>\n     </g>\n     <g id=\"text_1\">\n      <!-- 45.0 -->\n      <defs>\n       <path d=\"M 37.796875 64.3125 \nL 12.890625 25.390625 \nL 37.796875 25.390625 \nz\nM 35.203125 72.90625 \nL 47.609375 72.90625 \nL 47.609375 25.390625 \nL 58.015625 25.390625 \nL 58.015625 17.1875 \nL 47.609375 17.1875 \nL 47.609375 0 \nL 37.796875 0 \nL 37.796875 17.1875 \nL 4.890625 17.1875 \nL 4.890625 26.703125 \nz\n\" id=\"DejaVuSans-52\"/>\n       <path d=\"M 10.796875 72.90625 \nL 49.515625 72.90625 \nL 49.515625 64.59375 \nL 19.828125 64.59375 \nL 19.828125 46.734375 \nQ 21.96875 47.46875 24.109375 47.828125 \nQ 26.265625 48.1875 28.421875 48.1875 \nQ 40.625 48.1875 47.75 41.5 \nQ 54.890625 34.8125 54.890625 23.390625 \nQ 54.890625 11.625 47.5625 5.09375 \nQ 40.234375 -1.421875 26.90625 -1.421875 \nQ 22.3125 -1.421875 17.546875 -0.640625 \nQ 12.796875 0.140625 7.71875 1.703125 \nL 7.71875 11.625 \nQ 12.109375 9.234375 16.796875 8.0625 \nQ 21.484375 6.890625 26.703125 6.890625 \nQ 35.15625 6.890625 40.078125 11.328125 \nQ 45.015625 15.765625 45.015625 23.390625 \nQ 45.015625 31 40.078125 35.4375 \nQ 35.15625 39.890625 26.703125 39.890625 \nQ 22.75 39.890625 18.8125 39.015625 \nQ 14.890625 38.140625 10.796875 36.28125 \nz\n\" id=\"DejaVuSans-53\"/>\n       <path d=\"M 10.6875 12.40625 \nL 21 12.40625 \nL 21 0 \nL 10.6875 0 \nz\n\" id=\"DejaVuSans-46\"/>\n       <path d=\"M 31.78125 66.40625 \nQ 24.171875 66.40625 20.328125 58.90625 \nQ 16.5 51.421875 16.5 36.375 \nQ 16.5 21.390625 20.328125 13.890625 \nQ 24.171875 6.390625 31.78125 6.390625 \nQ 39.453125 6.390625 43.28125 13.890625 \nQ 47.125 21.390625 47.125 36.375 \nQ 47.125 51.421875 43.28125 58.90625 \nQ 39.453125 66.40625 31.78125 66.40625 \nz\nM 31.78125 74.21875 \nQ 44.046875 74.21875 50.515625 64.515625 \nQ 56.984375 54.828125 56.984375 36.375 \nQ 56.984375 17.96875 50.515625 8.265625 \nQ 44.046875 -1.421875 31.78125 -1.421875 \nQ 19.53125 -1.421875 13.0625 8.265625 \nQ 6.59375 17.96875 6.59375 36.375 \nQ 6.59375 54.828125 13.0625 64.515625 \nQ 19.53125 74.21875 31.78125 74.21875 \nz\n\" id=\"DejaVuSans-48\"/>\n      </defs>\n      <g transform=\"translate(25.332813 239.238437)scale(0.1 -0.1)\">\n       <use xlink:href=\"#DejaVuSans-52\"/>\n       <use x=\"63.623047\" xlink:href=\"#DejaVuSans-53\"/>\n       <use x=\"127.246094\" xlink:href=\"#DejaVuSans-46\"/>\n       <use x=\"159.033203\" xlink:href=\"#DejaVuSans-48\"/>\n      </g>\n     </g>\n    </g>\n    <g id=\"xtick_2\">\n     <g id=\"line2d_2\">\n      <g>\n       <use style=\"stroke:#000000;stroke-width:0.8;\" x=\"78.315625\" xlink:href=\"#mfcb424821b\" y=\"224.64\"/>\n      </g>\n     </g>\n     <g id=\"text_2\">\n      <!-- 47.5 -->\n      <defs>\n       <path d=\"M 8.203125 72.90625 \nL 55.078125 72.90625 \nL 55.078125 68.703125 \nL 28.609375 0 \nL 18.3125 0 \nL 43.21875 64.59375 \nL 8.203125 64.59375 \nz\n\" id=\"DejaVuSans-55\"/>\n      </defs>\n      <g transform=\"translate(67.182813 239.238437)scale(0.1 -0.1)\">\n       <use xlink:href=\"#DejaVuSans-52\"/>\n       <use x=\"63.623047\" xlink:href=\"#DejaVuSans-55\"/>\n       <use x=\"127.246094\" xlink:href=\"#DejaVuSans-46\"/>\n       <use x=\"159.033203\" xlink:href=\"#DejaVuSans-53\"/>\n      </g>\n     </g>\n    </g>\n    <g id=\"xtick_3\">\n     <g id=\"line2d_3\">\n      <g>\n       <use style=\"stroke:#000000;stroke-width:0.8;\" x=\"120.165625\" xlink:href=\"#mfcb424821b\" y=\"224.64\"/>\n      </g>\n     </g>\n     <g id=\"text_3\">\n      <!-- 50.0 -->\n      <g transform=\"translate(109.032813 239.238437)scale(0.1 -0.1)\">\n       <use xlink:href=\"#DejaVuSans-53\"/>\n       <use x=\"63.623047\" xlink:href=\"#DejaVuSans-48\"/>\n       <use x=\"127.246094\" xlink:href=\"#DejaVuSans-46\"/>\n       <use x=\"159.033203\" xlink:href=\"#DejaVuSans-48\"/>\n      </g>\n     </g>\n    </g>\n    <g id=\"xtick_4\">\n     <g id=\"line2d_4\">\n      <g>\n       <use style=\"stroke:#000000;stroke-width:0.8;\" x=\"162.015625\" xlink:href=\"#mfcb424821b\" y=\"224.64\"/>\n      </g>\n     </g>\n     <g id=\"text_4\">\n      <!-- 52.5 -->\n      <defs>\n       <path d=\"M 19.1875 8.296875 \nL 53.609375 8.296875 \nL 53.609375 0 \nL 7.328125 0 \nL 7.328125 8.296875 \nQ 12.9375 14.109375 22.625 23.890625 \nQ 32.328125 33.6875 34.8125 36.53125 \nQ 39.546875 41.84375 41.421875 45.53125 \nQ 43.3125 49.21875 43.3125 52.78125 \nQ 43.3125 58.59375 39.234375 62.25 \nQ 35.15625 65.921875 28.609375 65.921875 \nQ 23.96875 65.921875 18.8125 64.3125 \nQ 13.671875 62.703125 7.8125 59.421875 \nL 7.8125 69.390625 \nQ 13.765625 71.78125 18.9375 73 \nQ 24.125 74.21875 28.421875 74.21875 \nQ 39.75 74.21875 46.484375 68.546875 \nQ 53.21875 62.890625 53.21875 53.421875 \nQ 53.21875 48.921875 51.53125 44.890625 \nQ 49.859375 40.875 45.40625 35.40625 \nQ 44.1875 33.984375 37.640625 27.21875 \nQ 31.109375 20.453125 19.1875 8.296875 \nz\n\" id=\"DejaVuSans-50\"/>\n      </defs>\n      <g transform=\"translate(150.882813 239.238437)scale(0.1 -0.1)\">\n       <use xlink:href=\"#DejaVuSans-53\"/>\n       <use x=\"63.623047\" xlink:href=\"#DejaVuSans-50\"/>\n       <use x=\"127.246094\" xlink:href=\"#DejaVuSans-46\"/>\n       <use x=\"159.033203\" xlink:href=\"#DejaVuSans-53\"/>\n      </g>\n     </g>\n    </g>\n    <g id=\"xtick_5\">\n     <g id=\"line2d_5\">\n      <g>\n       <use style=\"stroke:#000000;stroke-width:0.8;\" x=\"203.865625\" xlink:href=\"#mfcb424821b\" y=\"224.64\"/>\n      </g>\n     </g>\n     <g id=\"text_5\">\n      <!-- 55.0 -->\n      <g transform=\"translate(192.732813 239.238437)scale(0.1 -0.1)\">\n       <use xlink:href=\"#DejaVuSans-53\"/>\n       <use x=\"63.623047\" xlink:href=\"#DejaVuSans-53\"/>\n       <use x=\"127.246094\" xlink:href=\"#DejaVuSans-46\"/>\n       <use x=\"159.033203\" xlink:href=\"#DejaVuSans-48\"/>\n      </g>\n     </g>\n    </g>\n    <g id=\"xtick_6\">\n     <g id=\"line2d_6\">\n      <g>\n       <use style=\"stroke:#000000;stroke-width:0.8;\" x=\"245.715625\" xlink:href=\"#mfcb424821b\" y=\"224.64\"/>\n      </g>\n     </g>\n     <g id=\"text_6\">\n      <!-- 57.5 -->\n      <g transform=\"translate(234.582813 239.238437)scale(0.1 -0.1)\">\n       <use xlink:href=\"#DejaVuSans-53\"/>\n       <use x=\"63.623047\" xlink:href=\"#DejaVuSans-55\"/>\n       <use x=\"127.246094\" xlink:href=\"#DejaVuSans-46\"/>\n       <use x=\"159.033203\" xlink:href=\"#DejaVuSans-53\"/>\n      </g>\n     </g>\n    </g>\n    <g id=\"xtick_7\">\n     <g id=\"line2d_7\">\n      <g>\n       <use style=\"stroke:#000000;stroke-width:0.8;\" x=\"287.565625\" xlink:href=\"#mfcb424821b\" y=\"224.64\"/>\n      </g>\n     </g>\n     <g id=\"text_7\">\n      <!-- 60.0 -->\n      <defs>\n       <path d=\"M 33.015625 40.375 \nQ 26.375 40.375 22.484375 35.828125 \nQ 18.609375 31.296875 18.609375 23.390625 \nQ 18.609375 15.53125 22.484375 10.953125 \nQ 26.375 6.390625 33.015625 6.390625 \nQ 39.65625 6.390625 43.53125 10.953125 \nQ 47.40625 15.53125 47.40625 23.390625 \nQ 47.40625 31.296875 43.53125 35.828125 \nQ 39.65625 40.375 33.015625 40.375 \nz\nM 52.59375 71.296875 \nL 52.59375 62.3125 \nQ 48.875 64.0625 45.09375 64.984375 \nQ 41.3125 65.921875 37.59375 65.921875 \nQ 27.828125 65.921875 22.671875 59.328125 \nQ 17.53125 52.734375 16.796875 39.40625 \nQ 19.671875 43.65625 24.015625 45.921875 \nQ 28.375 48.1875 33.59375 48.1875 \nQ 44.578125 48.1875 50.953125 41.515625 \nQ 57.328125 34.859375 57.328125 23.390625 \nQ 57.328125 12.15625 50.6875 5.359375 \nQ 44.046875 -1.421875 33.015625 -1.421875 \nQ 20.359375 -1.421875 13.671875 8.265625 \nQ 6.984375 17.96875 6.984375 36.375 \nQ 6.984375 53.65625 15.1875 63.9375 \nQ 23.390625 74.21875 37.203125 74.21875 \nQ 40.921875 74.21875 44.703125 73.484375 \nQ 48.484375 72.75 52.59375 71.296875 \nz\n\" id=\"DejaVuSans-54\"/>\n      </defs>\n      <g transform=\"translate(276.432813 239.238437)scale(0.1 -0.1)\">\n       <use xlink:href=\"#DejaVuSans-54\"/>\n       <use x=\"63.623047\" xlink:href=\"#DejaVuSans-48\"/>\n       <use x=\"127.246094\" xlink:href=\"#DejaVuSans-46\"/>\n       <use x=\"159.033203\" xlink:href=\"#DejaVuSans-48\"/>\n      </g>\n     </g>\n    </g>\n    <g id=\"xtick_8\">\n     <g id=\"line2d_8\">\n      <g>\n       <use style=\"stroke:#000000;stroke-width:0.8;\" x=\"329.415625\" xlink:href=\"#mfcb424821b\" y=\"224.64\"/>\n      </g>\n     </g>\n     <g id=\"text_8\">\n      <!-- 62.5 -->\n      <g transform=\"translate(318.282813 239.238437)scale(0.1 -0.1)\">\n       <use xlink:href=\"#DejaVuSans-54\"/>\n       <use x=\"63.623047\" xlink:href=\"#DejaVuSans-50\"/>\n       <use x=\"127.246094\" xlink:href=\"#DejaVuSans-46\"/>\n       <use x=\"159.033203\" xlink:href=\"#DejaVuSans-53\"/>\n      </g>\n     </g>\n    </g>\n    <g id=\"xtick_9\">\n     <g id=\"line2d_9\">\n      <g>\n       <use style=\"stroke:#000000;stroke-width:0.8;\" x=\"371.265625\" xlink:href=\"#mfcb424821b\" y=\"224.64\"/>\n      </g>\n     </g>\n     <g id=\"text_9\">\n      <!-- 65.0 -->\n      <g transform=\"translate(360.132813 239.238437)scale(0.1 -0.1)\">\n       <use xlink:href=\"#DejaVuSans-54\"/>\n       <use x=\"63.623047\" xlink:href=\"#DejaVuSans-53\"/>\n       <use x=\"127.246094\" xlink:href=\"#DejaVuSans-46\"/>\n       <use x=\"159.033203\" xlink:href=\"#DejaVuSans-48\"/>\n      </g>\n     </g>\n    </g>\n   </g>\n   <g id=\"matplotlib.axis_2\">\n    <g id=\"ytick_1\">\n     <g id=\"line2d_10\">\n      <defs>\n       <path d=\"M 0 0 \nL -3.5 0 \n\" id=\"mebdad98656\" style=\"stroke:#000000;stroke-width:0.8;\"/>\n      </defs>\n      <g>\n       <use style=\"stroke:#000000;stroke-width:0.8;\" x=\"36.465625\" xlink:href=\"#mebdad98656\" y=\"214.756364\"/>\n      </g>\n     </g>\n     <g id=\"text_10\">\n      <!-- 0.00 -->\n      <g transform=\"translate(7.2 218.555582)scale(0.1 -0.1)\">\n       <use xlink:href=\"#DejaVuSans-48\"/>\n       <use x=\"63.623047\" xlink:href=\"#DejaVuSans-46\"/>\n       <use x=\"95.410156\" xlink:href=\"#DejaVuSans-48\"/>\n       <use x=\"159.033203\" xlink:href=\"#DejaVuSans-48\"/>\n      </g>\n     </g>\n    </g>\n    <g id=\"ytick_2\">\n     <g id=\"line2d_11\">\n      <g>\n       <use style=\"stroke:#000000;stroke-width:0.8;\" x=\"36.465625\" xlink:href=\"#mebdad98656\" y=\"189.96567\"/>\n      </g>\n     </g>\n     <g id=\"text_11\">\n      <!-- 0.05 -->\n      <g transform=\"translate(7.2 193.764889)scale(0.1 -0.1)\">\n       <use xlink:href=\"#DejaVuSans-48\"/>\n       <use x=\"63.623047\" xlink:href=\"#DejaVuSans-46\"/>\n       <use x=\"95.410156\" xlink:href=\"#DejaVuSans-48\"/>\n       <use x=\"159.033203\" xlink:href=\"#DejaVuSans-53\"/>\n      </g>\n     </g>\n    </g>\n    <g id=\"ytick_3\">\n     <g id=\"line2d_12\">\n      <g>\n       <use style=\"stroke:#000000;stroke-width:0.8;\" x=\"36.465625\" xlink:href=\"#mebdad98656\" y=\"165.174976\"/>\n      </g>\n     </g>\n     <g id=\"text_12\">\n      <!-- 0.10 -->\n      <defs>\n       <path d=\"M 12.40625 8.296875 \nL 28.515625 8.296875 \nL 28.515625 63.921875 \nL 10.984375 60.40625 \nL 10.984375 69.390625 \nL 28.421875 72.90625 \nL 38.28125 72.90625 \nL 38.28125 8.296875 \nL 54.390625 8.296875 \nL 54.390625 0 \nL 12.40625 0 \nz\n\" id=\"DejaVuSans-49\"/>\n      </defs>\n      <g transform=\"translate(7.2 168.974195)scale(0.1 -0.1)\">\n       <use xlink:href=\"#DejaVuSans-48\"/>\n       <use x=\"63.623047\" xlink:href=\"#DejaVuSans-46\"/>\n       <use x=\"95.410156\" xlink:href=\"#DejaVuSans-49\"/>\n       <use x=\"159.033203\" xlink:href=\"#DejaVuSans-48\"/>\n      </g>\n     </g>\n    </g>\n    <g id=\"ytick_4\">\n     <g id=\"line2d_13\">\n      <g>\n       <use style=\"stroke:#000000;stroke-width:0.8;\" x=\"36.465625\" xlink:href=\"#mebdad98656\" y=\"140.384283\"/>\n      </g>\n     </g>\n     <g id=\"text_13\">\n      <!-- 0.15 -->\n      <g transform=\"translate(7.2 144.183501)scale(0.1 -0.1)\">\n       <use xlink:href=\"#DejaVuSans-48\"/>\n       <use x=\"63.623047\" xlink:href=\"#DejaVuSans-46\"/>\n       <use x=\"95.410156\" xlink:href=\"#DejaVuSans-49\"/>\n       <use x=\"159.033203\" xlink:href=\"#DejaVuSans-53\"/>\n      </g>\n     </g>\n    </g>\n    <g id=\"ytick_5\">\n     <g id=\"line2d_14\">\n      <g>\n       <use style=\"stroke:#000000;stroke-width:0.8;\" x=\"36.465625\" xlink:href=\"#mebdad98656\" y=\"115.593589\"/>\n      </g>\n     </g>\n     <g id=\"text_14\">\n      <!-- 0.20 -->\n      <g transform=\"translate(7.2 119.392808)scale(0.1 -0.1)\">\n       <use xlink:href=\"#DejaVuSans-48\"/>\n       <use x=\"63.623047\" xlink:href=\"#DejaVuSans-46\"/>\n       <use x=\"95.410156\" xlink:href=\"#DejaVuSans-50\"/>\n       <use x=\"159.033203\" xlink:href=\"#DejaVuSans-48\"/>\n      </g>\n     </g>\n    </g>\n    <g id=\"ytick_6\">\n     <g id=\"line2d_15\">\n      <g>\n       <use style=\"stroke:#000000;stroke-width:0.8;\" x=\"36.465625\" xlink:href=\"#mebdad98656\" y=\"90.802895\"/>\n      </g>\n     </g>\n     <g id=\"text_15\">\n      <!-- 0.25 -->\n      <g transform=\"translate(7.2 94.602114)scale(0.1 -0.1)\">\n       <use xlink:href=\"#DejaVuSans-48\"/>\n       <use x=\"63.623047\" xlink:href=\"#DejaVuSans-46\"/>\n       <use x=\"95.410156\" xlink:href=\"#DejaVuSans-50\"/>\n       <use x=\"159.033203\" xlink:href=\"#DejaVuSans-53\"/>\n      </g>\n     </g>\n    </g>\n    <g id=\"ytick_7\">\n     <g id=\"line2d_16\">\n      <g>\n       <use style=\"stroke:#000000;stroke-width:0.8;\" x=\"36.465625\" xlink:href=\"#mebdad98656\" y=\"66.012202\"/>\n      </g>\n     </g>\n     <g id=\"text_16\">\n      <!-- 0.30 -->\n      <defs>\n       <path d=\"M 40.578125 39.3125 \nQ 47.65625 37.796875 51.625 33 \nQ 55.609375 28.21875 55.609375 21.1875 \nQ 55.609375 10.40625 48.1875 4.484375 \nQ 40.765625 -1.421875 27.09375 -1.421875 \nQ 22.515625 -1.421875 17.65625 -0.515625 \nQ 12.796875 0.390625 7.625 2.203125 \nL 7.625 11.71875 \nQ 11.71875 9.328125 16.59375 8.109375 \nQ 21.484375 6.890625 26.8125 6.890625 \nQ 36.078125 6.890625 40.9375 10.546875 \nQ 45.796875 14.203125 45.796875 21.1875 \nQ 45.796875 27.640625 41.28125 31.265625 \nQ 36.765625 34.90625 28.71875 34.90625 \nL 20.21875 34.90625 \nL 20.21875 43.015625 \nL 29.109375 43.015625 \nQ 36.375 43.015625 40.234375 45.921875 \nQ 44.09375 48.828125 44.09375 54.296875 \nQ 44.09375 59.90625 40.109375 62.90625 \nQ 36.140625 65.921875 28.71875 65.921875 \nQ 24.65625 65.921875 20.015625 65.03125 \nQ 15.375 64.15625 9.8125 62.3125 \nL 9.8125 71.09375 \nQ 15.4375 72.65625 20.34375 73.4375 \nQ 25.25 74.21875 29.59375 74.21875 \nQ 40.828125 74.21875 47.359375 69.109375 \nQ 53.90625 64.015625 53.90625 55.328125 \nQ 53.90625 49.265625 50.4375 45.09375 \nQ 46.96875 40.921875 40.578125 39.3125 \nz\n\" id=\"DejaVuSans-51\"/>\n      </defs>\n      <g transform=\"translate(7.2 69.81142)scale(0.1 -0.1)\">\n       <use xlink:href=\"#DejaVuSans-48\"/>\n       <use x=\"63.623047\" xlink:href=\"#DejaVuSans-46\"/>\n       <use x=\"95.410156\" xlink:href=\"#DejaVuSans-51\"/>\n       <use x=\"159.033203\" xlink:href=\"#DejaVuSans-48\"/>\n      </g>\n     </g>\n    </g>\n    <g id=\"ytick_8\">\n     <g id=\"line2d_17\">\n      <g>\n       <use style=\"stroke:#000000;stroke-width:0.8;\" x=\"36.465625\" xlink:href=\"#mebdad98656\" y=\"41.221508\"/>\n      </g>\n     </g>\n     <g id=\"text_17\">\n      <!-- 0.35 -->\n      <g transform=\"translate(7.2 45.020727)scale(0.1 -0.1)\">\n       <use xlink:href=\"#DejaVuSans-48\"/>\n       <use x=\"63.623047\" xlink:href=\"#DejaVuSans-46\"/>\n       <use x=\"95.410156\" xlink:href=\"#DejaVuSans-51\"/>\n       <use x=\"159.033203\" xlink:href=\"#DejaVuSans-53\"/>\n      </g>\n     </g>\n    </g>\n    <g id=\"ytick_9\">\n     <g id=\"line2d_18\">\n      <g>\n       <use style=\"stroke:#000000;stroke-width:0.8;\" x=\"36.465625\" xlink:href=\"#mebdad98656\" y=\"16.430814\"/>\n      </g>\n     </g>\n     <g id=\"text_18\">\n      <!-- 0.40 -->\n      <g transform=\"translate(7.2 20.230033)scale(0.1 -0.1)\">\n       <use xlink:href=\"#DejaVuSans-48\"/>\n       <use x=\"63.623047\" xlink:href=\"#DejaVuSans-46\"/>\n       <use x=\"95.410156\" xlink:href=\"#DejaVuSans-52\"/>\n       <use x=\"159.033203\" xlink:href=\"#DejaVuSans-48\"/>\n      </g>\n     </g>\n    </g>\n   </g>\n   <g id=\"line2d_19\">\n    <path clip-path=\"url(#p970db6708d)\" d=\"M -1 214.756364 \nL 54.713733 214.661606 \nL 59.69049 214.466465 \nL 63.008328 214.174693 \nL 66.326166 213.634222 \nL 67.985084 213.220562 \nL 69.644003 212.674953 \nL 71.302922 211.963079 \nL 72.961841 211.044366 \nL 74.62076 209.871695 \nL 76.279679 208.391377 \nL 77.938598 206.543496 \nL 79.597517 204.262701 \nL 81.256436 201.479535 \nL 82.915355 198.12237 \nL 84.574274 194.119976 \nL 86.233193 189.40474 \nL 87.892111 183.916472 \nL 89.55103 177.606703 \nL 91.209949 170.443297 \nL 92.868868 162.415157 \nL 94.527787 153.536748 \nL 96.186706 143.852088 \nL 99.504544 122.405506 \nL 104.481301 87.228273 \nL 107.799139 64.191406 \nL 109.458057 53.548819 \nL 111.116976 43.840736 \nL 112.775895 35.318893 \nL 114.434814 28.213148 \nL 116.093733 22.721213 \nL 117.752652 18.999519 \nL 119.411571 17.155819 \nL 121.07049 17.244007 \nL 122.729409 19.261496 \nL 124.388328 23.14935 \nL 126.047247 28.795139 \nL 127.706166 36.038342 \nL 129.365084 44.677928 \nL 131.024003 54.481613 \nL 134.341841 76.558386 \nL 140.977517 123.430394 \nL 144.295355 144.764055 \nL 145.954274 154.37808 \nL 147.613193 163.180542 \nL 149.272111 171.130252 \nL 150.93103 178.215247 \nL 152.589949 184.448727 \nL 154.248868 189.864507 \nL 155.907787 194.512311 \nL 157.566706 198.453174 \nL 159.225625 201.755187 \nL 160.884544 204.489739 \nL 162.543463 206.728358 \nL 164.202382 208.540198 \nL 165.861301 209.990161 \nL 167.52022 211.137624 \nL 169.179139 212.035686 \nL 170.838057 212.730865 \nL 172.496976 213.263151 \nL 175.814814 213.968401 \nL 179.132652 214.356575 \nL 184.109409 214.62214 \nL 192.404003 214.738477 \nL 225.582382 214.756363 \nL 390.598438 214.756364 \nL 390.598438 214.756364 \n\" style=\"fill:none;stroke:#1f77b4;stroke-linecap:square;stroke-width:1.5;\"/>\n   </g>\n   <g id=\"line2d_20\">\n    <path clip-path=\"url(#p970db6708d)\" d=\"M -1 214.756364 \nL 222.264544 214.658213 \nL 227.241301 214.456887 \nL 230.559139 214.156547 \nL 233.876976 213.60128 \nL 235.535895 213.176886 \nL 237.194814 212.617672 \nL 238.853733 211.888767 \nL 240.512652 210.949014 \nL 242.171571 209.750691 \nL 243.83049 208.239523 \nL 245.489409 206.355059 \nL 247.148328 204.031512 \nL 248.807247 201.199139 \nL 250.466166 197.786231 \nL 252.125084 193.721744 \nL 253.784003 188.938576 \nL 255.442922 183.377418 \nL 257.101841 176.991091 \nL 258.76076 169.749177 \nL 260.419679 161.642726 \nL 262.078598 152.68873 \nL 263.737517 142.934068 \nL 267.055355 121.376695 \nL 277.008868 52.623755 \nL 278.667787 43.013362 \nL 280.326706 34.611169 \nL 281.985625 27.644524 \nL 283.644544 22.30774 \nL 285.303463 18.753099 \nL 286.962382 17.083636 \nL 288.621301 17.348178 \nL 290.28022 19.538968 \nL 291.939139 23.592049 \nL 293.598057 29.390359 \nL 295.256976 36.769353 \nL 296.915895 45.524756 \nL 298.574814 55.421942 \nL 301.892652 77.614287 \nL 308.528328 124.451238 \nL 311.846166 145.6699 \nL 313.505084 155.212683 \nL 315.164003 163.938858 \nL 316.822922 171.810043 \nL 318.481841 178.816739 \nL 320.14076 184.974213 \nL 321.799679 190.31792 \nL 323.458598 194.898799 \nL 325.117517 198.778696 \nL 326.776436 202.026149 \nL 328.435355 204.71268 \nL 330.094274 206.909696 \nL 331.753193 208.686031 \nL 333.412111 210.106132 \nL 335.07103 211.228825 \nL 336.729949 212.10662 \nL 338.388868 212.785435 \nL 340.047787 213.304677 \nL 343.365625 213.99168 \nL 346.683463 214.369079 \nL 351.66022 214.626686 \nL 359.954814 214.73916 \nL 390.598438 214.756362 \nL 390.598438 214.756362 \n\" style=\"fill:none;stroke:#ff7f0e;stroke-linecap:square;stroke-width:1.5;\"/>\n   </g>\n   <g id=\"patch_3\">\n    <path d=\"M 36.465625 224.64 \nL 36.465625 7.2 \n\" style=\"fill:none;stroke:#000000;stroke-linecap:square;stroke-linejoin:miter;stroke-width:0.8;\"/>\n   </g>\n   <g id=\"patch_4\">\n    <path d=\"M 371.265625 224.64 \nL 371.265625 7.2 \n\" style=\"fill:none;stroke:#000000;stroke-linecap:square;stroke-linejoin:miter;stroke-width:0.8;\"/>\n   </g>\n   <g id=\"patch_5\">\n    <path d=\"M 36.465625 224.64 \nL 371.265625 224.64 \n\" style=\"fill:none;stroke:#000000;stroke-linecap:square;stroke-linejoin:miter;stroke-width:0.8;\"/>\n   </g>\n   <g id=\"patch_6\">\n    <path d=\"M 36.465625 7.2 \nL 371.265625 7.2 \n\" style=\"fill:none;stroke:#000000;stroke-linecap:square;stroke-linejoin:miter;stroke-width:0.8;\"/>\n   </g>\n  </g>\n </g>\n <defs>\n  <clipPath id=\"p970db6708d\">\n   <rect height=\"217.44\" width=\"334.8\" x=\"36.465625\" y=\"7.2\"/>\n  </clipPath>\n </defs>\n</svg>\n"
          },
          "metadata": {
            "tags": [],
            "needs_background": "light"
          }
        }
      ]
    },
    {
      "cell_type": "markdown",
      "metadata": {
        "id": "lxs1eCTO-ZV2"
      },
      "source": [
        "The two normal curves are completely seperated now."
      ]
    },
    {
      "cell_type": "code",
      "metadata": {
        "colab": {
          "base_uri": "https://localhost:8080/"
        },
        "id": "cfe_C1e2-NX-",
        "outputId": "353c24ec-b04f-4ede-fd41-67bd8d36a1a6"
      },
      "source": [
        "print (binom.ppf(0.95,1000,0.5))\n",
        "print (binom.ppf(0.05,1000,0.6))"
      ],
      "execution_count": null,
      "outputs": [
        {
          "output_type": "stream",
          "text": [
            "526.0\n",
            "574.0\n"
          ],
          "name": "stdout"
        }
      ]
    },
    {
      "cell_type": "markdown",
      "metadata": {
        "id": "ITZ8ZkAa-n2q"
      },
      "source": [
        "### **Exercise**\n",
        "\n",
        "What are our errors now?\n"
      ]
    },
    {
      "cell_type": "code",
      "metadata": {
        "colab": {
          "base_uri": "https://localhost:8080/"
        },
        "id": "sAHkOvG8-a0N",
        "outputId": "38c0a9bb-9937-4a5d-ef00-d2cc3c015bf2"
      },
      "source": [
        "print (1-binom.cdf(550, 1000, 0.5))\n",
        "print (binom.cdf(550, 1000, 0.6))"
      ],
      "execution_count": null,
      "outputs": [
        {
          "output_type": "stream",
          "text": [
            "0.0006958707972113398\n",
            "0.0007412028990062971\n"
          ],
          "name": "stdout"
        }
      ]
    },
    {
      "cell_type": "markdown",
      "metadata": {
        "id": "srd-PFH7-6V4"
      },
      "source": [
        "**With a cutoff of 550, both our errors come down to under 0.1%.**"
      ]
    },
    {
      "cell_type": "markdown",
      "metadata": {
        "id": "XH0SE1v3BJNi"
      },
      "source": [
        "## **CORRELATION VS. CAUSATION**"
      ]
    },
    {
      "cell_type": "markdown",
      "metadata": {
        "id": "W8iB3E81BMiX"
      },
      "source": [
        "### **Correlation vs. Causation**\n",
        "\n",
        "**Does it rain more on cooler days?**\n",
        "\n",
        "We associate rain with cold weather.\n",
        "\n",
        "Does it actually rain more when days are cooler?\n",
        "\n",
        "Maybe it dependes on where you are.\n",
        "\n",
        "Some places have summer monsoons, so maybe as it gets warmer there, it rains more.\n",
        "\n",
        "- Warmer weather increases evaporation, which can increase humidity. In warm weather, there is water in the air to form precipitation. This mecahnism would suggest **warmer weather = more rain**.\n",
        "- Cooler weather decreases dew point (i.e. air can hold less water). This suggests if humid air enters the air and cools, it will turn into rain. This mechanism would suggest **cooler weather = more rain**."
      ]
    },
    {
      "cell_type": "markdown",
      "metadata": {
        "id": "juNQeCQECvgC"
      },
      "source": [
        "**How correlations are importante?**\n",
        "\n",
        "If two valiables X and Y are correlated, then X is useful for predicting Y.\n",
        "\n",
        "If we are trying to model Y, and we find things that correlate with Y, we may improve the modeling.\n",
        "\n",
        "We should be careful about changing X with the hope of changing Y.\n",
        "\n",
        "X and Y can be correlated for different reasons:\n",
        "- X causes Y (what we want)\n",
        "- Y causes X (mixing up cause-and-effect)\n",
        "- X and Y are both caused by something else (confounding)\n",
        "- X and Y aren't really related, we just got unlucky in the sample (spurious)"
      ]
    },
    {
      "cell_type": "markdown",
      "metadata": {
        "id": "ONvDrA_dEG4c"
      },
      "source": [
        "### **Mixing up cause and effect**\n",
        "\n",
        "1 - Student test scores are **positively correlated** with amount of time studied.\n",
        "\n",
        "This **doesn't** mean we should get students to study more by curving everyone's grades upward (this would likely have the opposite effect!). It is more likely that studying helps students learn materials, so studying causes better performance.\n",
        "\n",
        "2 - Customer satisfaction is **negatively correlated** with customer service call volume.\n",
        "\n",
        "This **doesn't** mean that we should remove or hide the customer service numbers, with the hope of improving customer satisfaction."
      ]
    },
    {
      "cell_type": "markdown",
      "metadata": {
        "id": "1yAMQscbExex"
      },
      "source": [
        "### **Confounding Variables**\n",
        "\n",
        "A **confounding variable** is something that causes both X and Y to change.\n",
        "\n",
        "X and Y are correlated even though X doesn't cause Y and Y doesn't cause X."
      ]
    },
    {
      "cell_type": "markdown",
      "metadata": {
        "id": "D-mbm6RCFy8g"
      },
      "source": [
        "**Confounding Variables**\n",
        "\n",
        "Examples of confounding variables:\n",
        "\n",
        "1 - The number of annual car accidents and the number of people named John are positively correlated (both are correlated with the **population size**).\n",
        "\n",
        "2 - The amount of ice-cream sold and the number of drowning in a week are positively correlated (both are positively correlated with **temperature**).\n",
        "\n",
        "3 - Number of factories a chip manufacturer owns and the number of chips sold are positively correlated (but both are driven by **demand from the market**)."
      ]
    },
    {
      "cell_type": "markdown",
      "metadata": {
        "id": "CRux4W461a7l"
      },
      "source": [
        "# **Summary/Review**"
      ]
    },
    {
      "cell_type": "markdown",
      "metadata": {
        "id": "lIdDiy9Q1ko3"
      },
      "source": [
        "**Estimation and Inference**\n",
        "\n",
        "Inferential Statistics consist in learning characteristics of the population from a sample. The population characteristics are parameters, while the sample characteristics are statistics. A parametric model uses a certain number of parameters like mean and standard deviation.\n",
        "\n",
        "The most common way of estimating parameters in a parametric model through maximum likelihood estimation.\n",
        "\n",
        "Through a hypothesis test, you test for a specific value of parameter.\n",
        "\n",
        "Estimation represents a process of determining a population parameter based on a model fitted to the data.\n",
        "\n",
        "The most common distribution functions are: uniform, normal, log normal, exponential and poisson.\n",
        "\n",
        "A frequentist approach focused in observing many repeats of an experiment. A bayesian approach describes parameters through probability distributions."
      ]
    },
    {
      "cell_type": "markdown",
      "metadata": {
        "id": "w8Y-Ar5m2f9z"
      },
      "source": [
        "**Hypothesis Testing**\n",
        "\n",
        "A hypothesis is a statement about a population parameter. You commonly have two hypothesis: the null hypothesis and the alternative hypothesis.\n",
        "\n",
        "A hypothesis test gives you a rule to decide for which values of the test statistic you accept the null hypothesis and for which values you reject the null hypothesis and accept the alternative hypothesis.\n",
        "\n",
        "A type 1 error occurs when an effect is due to chance, but we find it to be significant in the model.\n",
        "\n",
        "A type 2 error occurs when we ascribe the effect to chance, but the chance is non-coincidental."
      ]
    },
    {
      "cell_type": "markdown",
      "metadata": {
        "id": "CV880vdg3KXo"
      },
      "source": [
        "**Significance level and p-values**\n",
        "\n",
        "A significance level is a probability threshold below which the null hypothesis can be rejected. You must choose the significance level vefore computing the test statistic. It is usually 0.01 or 0.05.\n",
        "\n",
        "A p-value is the smallest significance level at which the null hypothesis would be rejected. The confidence interval contains the values of the statistic for which we accept the null hypothesis.\n",
        "\n",
        "Correlations are usefull as effects can help predict an outcome, but correlation does not imply causation.\n",
        "\n",
        "When making recommendations, one should take into consideration confounding variables and the fact that correlation across two variables do not imply that an increase or decrese in one of them will drive an increase or decrease of the other.\n",
        "\n",
        "Spurious correlations happen in data. They are just coincidences given a particular data sample."
      ]
    },
    {
      "cell_type": "markdown",
      "metadata": {
        "id": "T7ft9fyt-9D4"
      },
      "source": [
        "# **Credit**\n",
        "---\n",
        "My notes from Machine Learning Foundation (C) 2020 IBM Corporation courses"
      ]
    }
  ]
}