{
  "nbformat": 4,
  "nbformat_minor": 0,
  "metadata": {
    "colab": {
      "name": "Week 3 - Regression with Regularization Techniques: Ridge, LASSO and Elastic Net.ipynb",
      "provenance": [],
      "collapsed_sections": [
        "nTzKzSeBEoh-"
      ],
      "toc_visible": true
    },
    "kernelspec": {
      "name": "python3",
      "display_name": "Python 3"
    },
    "language_info": {
      "name": "python"
    }
  },
  "cells": [
    {
      "cell_type": "markdown",
      "metadata": {
        "id": "XAMZOBooEPUM"
      },
      "source": [
        "<p align=\"left\">\n",
        "<img src=\"https://raw.githubusercontent.com/Raoni-Silva/IBM_MachineLearning/main/Image/ibm-logo.png\"\n",
        "width=\"500\" />\n",
        "</p>"
      ]
    },
    {
      "cell_type": "markdown",
      "metadata": {
        "id": "QaKLGj_yEQmS"
      },
      "source": [
        "# **Supervised Machine Learning: Regression**\n",
        "\n",
        "**Notebook content**\n",
        "> **WEEK 3** - Regression with Regularization Techniques: Ridge, LASSO and Elastic Net\n",
        "> * 3.1 - Regularization Techniques\n",
        "> * 3.2 - Polynomial Features and Regularization Demo\n",
        "> * 3.3 - Details of Regularization"
      ]
    },
    {
      "cell_type": "markdown",
      "metadata": {
        "id": "nTzKzSeBEoh-"
      },
      "source": [
        "# **Week 3.1 - Regularization Techniques**\n",
        "\n",
        "Notebook of my notes for the week 3.1 of the course [Supervised Machine Learning: Regression](https://www.coursera.org/learn/supervised-machine-learning-regression) as part of the [IBM Machine Learning Professional Certificate](https://www.coursera.org/professional-certificates/ibm-machine-learning)."
      ]
    },
    {
      "cell_type": "markdown",
      "metadata": {
        "id": "4DacyYqEFHes"
      },
      "source": [
        "## **BIAS VARIANCE TRADE OFF**"
      ]
    },
    {
      "cell_type": "markdown",
      "metadata": {
        "id": "iaUwaQo9FjS2"
      },
      "source": [
        "### **Bias and Variance: Intuition**\n",
        "\n",
        "* **Bias:** is a tendency to miss\n",
        "\n",
        "* **Variance:** is tendency to be inconsistent\n",
        "\n",
        "Ideally we want a low bias and low variance model: highly consistent predictions that are clo to perfect average.\n",
        "\n",
        "* **Tendency:** expectation of out-of-sample behavior over many training set samples.\n",
        "\n",
        "\n",
        "<p align=\"left\">\n",
        "<img src=\"https://raw.githubusercontent.com/Raoni-Silva/IBM_MachineLearning/main/02%20-%20Supervised%20Machine%20Learning%20-%20Regression/Images/Variance%20X%20Bias.JPG\"\n",
        "width=\"400\" />\n",
        "</p>\n",
        "\n",
        "\n"
      ]
    },
    {
      "cell_type": "markdown",
      "metadata": {
        "id": "_o2hpWGrNkl0"
      },
      "source": [
        "### **3 Sources of Model Error**\n",
        "\n",
        "* being wrong $\\longrightarrow$ **Bias**\n",
        "* being unstable $\\longrightarrow$ **Variance**\n",
        "* unavoidable randomness $\\longrightarrow$ **Irreducible Error**\n",
        "\n",
        "\n",
        "**High Bias**\n",
        "\n",
        ">Tendency of predictions to miss true values.\n",
        ">\n",
        ">- Worsened by missing information, overly-simplistic assumptions.\n",
        ">- Miss real patterns \n",
        ">\n",
        "> Associated with **UNDERFIT** and low complexity models.\n",
        "\n",
        "**High Variance**\n",
        "\n",
        "> Tendency of predictions to fluctuate.\n",
        ">\n",
        ">- Characterized by sensitivy or output to small changes in input data.\n",
        ">- Often due to overly complex or poorly-fit models\n",
        ">\n",
        "> Associated with **OVERFIT** and overly complex models.\n",
        "\n",
        "**Irreductible Error**\n",
        "\n",
        "> Tendency to intrinsic uncertanty/randomness.\n",
        ">\n",
        ">- Present in even the best possible model."
      ]
    },
    {
      "cell_type": "markdown",
      "metadata": {
        "id": "xkCQEsISWeFa"
      },
      "source": [
        "### **Bias-Variance Tradeoff**\n",
        "\n",
        "Summary of bias-variance tradeoff:\n",
        "- Model adjustment that decrease bias often increase variance, and vice versa.\n",
        "- The bias-variance tradeoff is analogous to a **complexity tradeoff**.\n",
        "- Finding the best model means choosing the right level of complexity.\n",
        "- Want a model elaborate enough to **not underfit**, but not so exceedingly elaborate that it **overfit**.\n",
        "\n",
        "<p align=\"left\">\n",
        "<img src=\"https://raw.githubusercontent.com/Raoni-Silva/IBM_MachineLearning/main/02%20-%20Supervised%20Machine%20Learning%20-%20Regression/Images/Bias%20Variance%20Tradeoff.JPG\"\n",
        "width=\"500\" />\n",
        "</p>\n",
        "\n",
        "- The higher the degree of a polynomial regression, the more complex the model (lower bias, higher variance).\n",
        "\n",
        "- At lower degrees, we can see **visual signs of bias**: predictions are too rigid to capture the curve pattern in the data.\n",
        "- At higher degrees, we see **visual signs of variance**: predictions fluctuate widly because of the model's sensitivity.\n",
        "- The goal is to find the right degree, such that the model has sufficient complexity to describe the data without overfitting.\n",
        "\n",
        "\n",
        "\n"
      ]
    },
    {
      "cell_type": "markdown",
      "metadata": {
        "id": "-mn13h0ldkKf"
      },
      "source": [
        "## **REGULARIZATION**"
      ]
    },
    {
      "cell_type": "markdown",
      "metadata": {
        "id": "Toi6fey8a1sZ"
      },
      "source": [
        "### **Regularization**\n",
        "\n",
        "Another way of tuning the model other than with polynomial degrees is by using **regularization**.\n",
        "\n",
        "**Whta does Regularization Accomplish?**\n",
        "\n",
        "Adjusted cost function: $M(w)+\\lambda R(w)$\n",
        "\n",
        "* $M(w)$: model error\n",
        "* $R(w)$: function of estimated parameter(s)\n",
        "* $\\lambda$: regularization strength parameter\n",
        "\n",
        "Regularization adds an (adjustable) **regularization strength** parameter directly into the cost function.\n",
        "\n",
        "This $\\lambda$ (lambda) adds a penalty proportional to the size of the estimated model parameter, or a function of the parameter. The larger the $\\lambda$ the more we penalize stronger parameters, and the less complex this model will be.\n",
        "\n",
        "Increasing the cost function controls the amount of the penalty.\n",
        "\n",
        "The **regularization strength** parameter $\\lambda| allows us to manage the **complexity tradeoff**:\n",
        "- **more** regularization introduces a simpler model or more bias.\n",
        "- **less** regularization makes the model more complex and increases variance.\n",
        "\n",
        "If our model is overfit (variance too high), regularization can improve the generalization error and reduce variance."
      ]
    },
    {
      "cell_type": "markdown",
      "metadata": {
        "id": "TUX3wZNcddLp"
      },
      "source": [
        "### **Regularization and Feature Selection**\n",
        "\n",
        "Regularization performs feature selection by shrinking the contribution of features.\n",
        "\n",
        "For L1-regularization, this is accomplished by driving some coefficients to zero.\n",
        "\n",
        "Feature selection can also be performed by removing features.\n",
        "\n",
        "**Why if Feature Selection Important?**\n",
        "\n",
        "Reducing the number of features can prevent overfitting.\n",
        "\n",
        "For some models, fewer features can improve fitting time and/or results.\n",
        "\n",
        "Identifying most critical features can improve model interpretability."
      ]
    },
    {
      "cell_type": "markdown",
      "metadata": {
        "id": "66H0iH14l09v"
      },
      "source": [
        "## **RIDGE REGRESSION (L2)**"
      ]
    },
    {
      "cell_type": "markdown",
      "metadata": {
        "id": "x480i9lOmDjT"
      },
      "source": [
        "Keep in mind that scaling matters now, unlike linear regression.\n",
        "\n",
        "This can be done by **standardization technique**:\n",
        "\n",
        "$$\n",
        "x'=\\frac{x- \\bar x }{\\sigma}\n",
        "$$\n",
        "\n",
        "**Ridge Regression:** the complexity penalty $\\lambda$ is applied proportionally to squared coefficient values.\n",
        "- The penalty term has the effect of \"shrinking\" coefficients toward 0.\n",
        "- This imposes bias on the model, but also reduces variance.\n",
        "- We can select the best regularization strength lambda via cross-validation.\n",
        "- It's best practice to scale features (i.e. using StandardScaler) so penalties arent impacted by variable scale.\n",
        "\n",
        "$$\n",
        "J(\\beta_{0},\\beta_{1})=\\frac{1}{2m} \\sum_{i=1} ^{m}((\\beta_{0}+\\beta_{1}x_{obs}^{(i)})-y_{obs}^{(i)})^{2}+\\lambda \\sum_{j=1} ^{k} \\beta_{j}^{2}\n",
        "$$\n"
      ]
    },
    {
      "cell_type": "markdown",
      "metadata": {
        "id": "0b6GrzvuoW16"
      },
      "source": [
        "## **LASSO REGRESSION (L1)**"
      ]
    },
    {
      "cell_type": "markdown",
      "metadata": {
        "id": "msu_g6GuGTfD"
      },
      "source": [
        "Keep in mind that scaling matters now, unlike linear regression.\n",
        "\n",
        "In **LASSO regression**: the complexity penalty $\\lambda$ is proportional to the absolute value of coefficients.\n",
        "- LASSO: Least Absolute Shrinkage and Selection Operator.\n",
        "- Similar effect to **Ridge** in terms of complexity tradeoff: increasing lambda raises bias but lower variance.\n",
        "- LASSO is more likely than Ridge to perform **feature selection**, in that for a fixed $\\lambda$, LASSO is more likely to result in coefficients being set to zero.\n",
        "\n",
        "$$\n",
        "J(\\beta_{0},\\beta_{1})=\\frac{1}{2m} \\sum_{i=1} ^{m}((\\beta_{0}+\\beta_{1}x_{obs}^{(i)})-y_{obs}^{(i)})^{2}+\\lambda \\sum_{j=1} ^{k} |\\beta_{j}|\n",
        "$$\n",
        "\n",
        "Penalty selectively shrinks some coefficients.\n",
        "\n",
        "Can be used for feature selection.\n",
        "\n",
        "Slower to converge than Ridge regression."
      ]
    },
    {
      "cell_type": "markdown",
      "metadata": {
        "id": "wgkAs7DFLDoE"
      },
      "source": [
        "## **ELASTIC NET**"
      ]
    },
    {
      "cell_type": "markdown",
      "metadata": {
        "id": "W1uUiu5BLKIL"
      },
      "source": [
        "Keep in mind that scaling matters now, unlike linear regression.\n",
        "\n",
        "**Elastic Net** is an hybrid approach, that introduces a new parameter $\\alpha$ (alpha) that determines a weighted average of L1 and L2 penalties.\n",
        "\n",
        "Validation gives us an empirical method for selecting between different models.\n",
        "\n",
        "$$\n",
        "\\lambda \\sum_{j=1}^{p}(\\alpha \\beta_{j}^{2} + (1 - \\alpha)| \\beta_{j}|)\n",
        "$$\n",
        "\n",
        "**Elastic Net Regularization**\n",
        "\n",
        "$$\n",
        "J(\\beta_{0},\\beta_{1})=\\frac{1}{2m} \\sum_{i=1} ^{m}((\\beta_{0}+\\beta_{1}x_{obs}^{(i)})-y_{obs}^{(i)})^{2}+\\lambda \\sum_{j=1} ^{k} |\\beta_{j}|+\\lambda_{2} \\sum_{j=1} ^{k} \\beta_{j}^{2}\n",
        "$$\n",
        "\n",
        "**Elastic Net** combines penaltis from both **Ridge** and **LASSO** regression.\n",
        "\n",
        "It requires tuning of an additional parameter that determines emphasis of L1 vs. L2 regularization penalties."
      ]
    },
    {
      "cell_type": "markdown",
      "metadata": {
        "id": "_J9_Xn4mM7YB"
      },
      "source": [
        "## **RECURSIVE FEATURE ELIMINATION**"
      ]
    },
    {
      "cell_type": "markdown",
      "metadata": {
        "id": "p1QlwymtNu2X"
      },
      "source": [
        "### **Recursive Feature Elimination (RFE)** \n",
        "\n",
        "Is an approach that combines:\n",
        "- A model or estimation approach\n",
        "- A desired number of features\n",
        "\n",
        "RFE then repeatedly applies the model, measures feature importance, and recursively removes less important features."
      ]
    },
    {
      "cell_type": "markdown",
      "metadata": {
        "id": "8IjDxBX6ONGH"
      },
      "source": [
        "### **Syntax**\n",
        "\n",
        "Import the class containing the feature selection method\n",
        "\n",
        "\n",
        "```\n",
        "from sklearn.feature_selection import RFE\n",
        "```\n",
        "\n",
        "Create an instance of the class\n",
        "\n",
        "\n",
        "```\n",
        "rfeMod = RFE(model, n_features_to_select=5)\n",
        "```\n",
        "The model can be any algorithm that has `feature importances` or `coefficients`. It can be a `linear regression`, `LASSO` or even a more complex like `random forest`.\n",
        "\n",
        "Fit the instance on the data and then predict the expected value\n",
        "\n",
        "\n",
        "```\n",
        "rfeMod = rfeMod.fit(X_train, y_train)\n",
        "y_predict = rfeMod.predict(X_test)\n",
        "```\n",
        "\n",
        "\n",
        "\n",
        "\n"
      ]
    },
    {
      "cell_type": "markdown",
      "metadata": {
        "id": "OnhRhqN4RbQd"
      },
      "source": [
        "### **RFECV**\n",
        "\n",
        "The **RFECV** class will perform feature elimination using cross validation."
      ]
    },
    {
      "cell_type": "markdown",
      "metadata": {
        "id": "BmQ6XW35aKyB"
      },
      "source": [
        "# **Week 3.2 - Polynomial Features and Regularization Demo**\n",
        "\n",
        "Notebook of my notes for the week 3.2 of the course [Supervised Machine Learning: Regression](https://www.coursera.org/learn/supervised-machine-learning-regression) as part of the [IBM Machine Learning Professional Certificate](https://www.coursera.org/professional-certificates/ibm-machine-learning)."
      ]
    },
    {
      "cell_type": "markdown",
      "metadata": {
        "id": "r1Kzzs2TL3V1"
      },
      "source": [
        "### **Section 2, Part d:**  Regularization and Gradient Descent\n",
        "\n",
        "**Introduction**\n",
        "\n",
        "We will begin with a short tutorial on regression, polynomial features, and regularization based on a very simple, sparse data set that contains a column of `x` data and associated `y` noisy data. The data file is called `X_Y_Sinusoid_Data.csv`. "
      ]
    },
    {
      "cell_type": "markdown",
      "metadata": {
        "id": "5OW0V9_QMRoQ"
      },
      "source": [
        "#### **Question 1**\n",
        "\n",
        "* Import the data. \n",
        "\n",
        "* Also generate approximately 100 equally spaced x data points over the range of 0 to 1. Using these points, calculate the y-data which represents the \"ground truth\" (the real function) from the equation: $y = sin(2\\pi x)$\n",
        "\n",
        "* Plot the sparse data (`x` vs `y`) and the calculated (\"real\") data."
      ]
    },
    {
      "cell_type": "code",
      "metadata": {
        "id": "OD8q4vpJPCAh"
      },
      "source": [
        "import pandas as pd\n",
        "import numpy as np\n",
        "import matplotlib.pyplot as plt\n",
        "import seaborn as sns"
      ],
      "execution_count": null,
      "outputs": []
    },
    {
      "cell_type": "code",
      "metadata": {
        "id": "l0t0E-i-aPgZ"
      },
      "source": [
        "url = 'https://raw.githubusercontent.com/Raoni-Silva/IBM_MachineLearning/main/02%20-%20Supervised%20Machine%20Learning%20-%20Regression/Data/X_Y_Sinusoid_Data.csv'\n",
        "\n",
        "data = pd.read_csv(url)\n",
        "\n",
        "X_real = np.linspace(0, 1.0, 100)\n",
        "Y_real = np.sin(2 * np.pi * X_real)"
      ],
      "execution_count": null,
      "outputs": []
    },
    {
      "cell_type": "code",
      "metadata": {
        "colab": {
          "base_uri": "https://localhost:8080/",
          "height": 204
        },
        "id": "5sSeRSXIMlb9",
        "outputId": "e0d61e15-7543-4db0-99ad-a36b98030af4"
      },
      "source": [
        "data.head()"
      ],
      "execution_count": null,
      "outputs": [
        {
          "output_type": "execute_result",
          "data": {
            "text/html": [
              "<div>\n",
              "<style scoped>\n",
              "    .dataframe tbody tr th:only-of-type {\n",
              "        vertical-align: middle;\n",
              "    }\n",
              "\n",
              "    .dataframe tbody tr th {\n",
              "        vertical-align: top;\n",
              "    }\n",
              "\n",
              "    .dataframe thead th {\n",
              "        text-align: right;\n",
              "    }\n",
              "</style>\n",
              "<table border=\"1\" class=\"dataframe\">\n",
              "  <thead>\n",
              "    <tr style=\"text-align: right;\">\n",
              "      <th></th>\n",
              "      <th>x</th>\n",
              "      <th>y</th>\n",
              "    </tr>\n",
              "  </thead>\n",
              "  <tbody>\n",
              "    <tr>\n",
              "      <th>0</th>\n",
              "      <td>0.038571</td>\n",
              "      <td>0.066391</td>\n",
              "    </tr>\n",
              "    <tr>\n",
              "      <th>1</th>\n",
              "      <td>0.166776</td>\n",
              "      <td>1.027483</td>\n",
              "    </tr>\n",
              "    <tr>\n",
              "      <th>2</th>\n",
              "      <td>0.183153</td>\n",
              "      <td>1.245302</td>\n",
              "    </tr>\n",
              "    <tr>\n",
              "      <th>3</th>\n",
              "      <td>0.187359</td>\n",
              "      <td>1.004781</td>\n",
              "    </tr>\n",
              "    <tr>\n",
              "      <th>4</th>\n",
              "      <td>0.243116</td>\n",
              "      <td>1.264121</td>\n",
              "    </tr>\n",
              "  </tbody>\n",
              "</table>\n",
              "</div>"
            ],
            "text/plain": [
              "          x         y\n",
              "0  0.038571  0.066391\n",
              "1  0.166776  1.027483\n",
              "2  0.183153  1.245302\n",
              "3  0.187359  1.004781\n",
              "4  0.243116  1.264121"
            ]
          },
          "metadata": {
            "tags": []
          },
          "execution_count": 4
        }
      ]
    },
    {
      "cell_type": "code",
      "metadata": {
        "colab": {
          "base_uri": "https://localhost:8080/",
          "height": 318
        },
        "id": "hBwdNw1rO888",
        "outputId": "a8b22730-85c4-4cd9-9892-6a3963d0fcd0"
      },
      "source": [
        "sns.set_style('white')\n",
        "sns.set_context('talk')\n",
        "sns.set_palette('dark')\n",
        "\n",
        "# Plot of the noisy (sparse)\n",
        "ax = data.plot('x', 'y', ls='', marker='o', label='data')\n",
        "ax.plot(X_real, Y_real, ls='--', marker='', label='real function')\n",
        "\n",
        "ax.legend()\n",
        "ax.set(xlabel='x data', ylabel='y data')"
      ],
      "execution_count": null,
      "outputs": [
        {
          "output_type": "execute_result",
          "data": {
            "text/plain": [
              "[Text(0, 0.5, 'y data'), Text(0.5, 0, 'x data')]"
            ]
          },
          "metadata": {
            "tags": []
          },
          "execution_count": 5
        },
        {
          "output_type": "display_data",
          "data": {
            "image/png": "[encoded data removed]",
            "text/plain": [
              "<Figure size 432x288 with 1 Axes>"
            ]
          },
          "metadata": {
            "tags": []
          }
        }
      ]
    },
    {
      "cell_type": "markdown",
      "metadata": {
        "id": "qb7VbPtgQhC_"
      },
      "source": [
        "#### **Question 2**\n",
        "\n",
        "\n",
        "* Using the `PolynomialFeatures` class from Scikit-learn's preprocessing library, create 20th order polynomial features.\n",
        "* Fit this data using linear regression. \n",
        "* Plot the resulting predicted value compared to the calculated data.\n",
        "\n",
        "Note that `PolynomialFeatures` requires either a dataframe (with one column, not a Series) or a 2D array of dimension (`X`, 1), where `X` is the length."
      ]
    },
    {
      "cell_type": "code",
      "metadata": {
        "colab": {
          "base_uri": "https://localhost:8080/",
          "height": 518
        },
        "id": "fD0Ty6WCPvJL",
        "outputId": "7f16f78d-675b-4230-c7ff-22df5f603819"
      },
      "source": [
        "from sklearn.preprocessing import PolynomialFeatures\n",
        "from sklearn.linear_model import LinearRegression\n",
        "\n",
        "# Setup the polynomial feature\n",
        "degree = 20\n",
        "pf = PolynomialFeatures(degree)\n",
        "lr = LinearRegression()\n",
        "\n",
        "# Extract X- and Y- data from the dataframe\n",
        "X_data = data[['x']]\n",
        "Y_data = data['y']\n",
        "\n",
        "# Create the features and fit the model\n",
        "X_poly = pf.fit_transform(X_data)\n",
        "lr = lr.fit(X_poly, Y_data)\n",
        "Y_pred = lr.predict(X_poly)\n",
        "\n",
        "# Plot the results\n",
        "plt.figure(figsize=(12,8))\n",
        "plt.plot(X_data, Y_data, marker='o', ls='', label='data', alpha=1)\n",
        "plt.plot(X_real, Y_real, ls='--', label='real function')\n",
        "plt.plot(X_data, Y_pred, marker='^', alpha=0.5, label='predictions w/ polynomial features')\n",
        "plt.legend()\n",
        "ax = plt.gca()\n",
        "ax.set(xlabel='x data', ylabel='y data');"
      ],
      "execution_count": null,
      "outputs": [
        {
          "output_type": "display_data",
          "data": {
            "image/png": "[encoded data removed]",
            "text/plain": [
              "<Figure size 864x576 with 1 Axes>"
            ]
          },
          "metadata": {
            "tags": []
          }
        }
      ]
    },
    {
      "cell_type": "markdown",
      "metadata": {
        "id": "jWyAbII_TdVd"
      },
      "source": [
        "#### **Question 3**\n",
        "\n",
        "* Perform the regression on using the data with polynomial features using ridge regression ($\\alpha$=0.001) and lasso regression ($\\alpha$=0.0001). \n",
        "* Plot the results, as was done in Question 1. \n",
        "* Also plot the magnitude of the coefficients obtained from these regressions, and compare them to those obtained from linear regression in the previous question. The linear regression coefficients will likely need a separate plot (or their own y-axis) due to their large magnitude. \n",
        "\n",
        "What does the comparatively large magnitude of the data tell you about the role of regularization?"
      ]
    },
    {
      "cell_type": "code",
      "metadata": {
        "colab": {
          "base_uri": "https://localhost:8080/",
          "height": 518
        },
        "id": "QSzknOEQSgpH",
        "outputId": "ad3c3437-a814-47d3-de92-d4d9ad5ee850"
      },
      "source": [
        "# Mute the sklearn warning about regularization\n",
        "import warnings\n",
        "warnings.filterwarnings('ignore', module='sklearn')\n",
        "\n",
        "from sklearn.linear_model import Ridge, Lasso\n",
        "\n",
        "# The Ridge Regression\n",
        "rr = Ridge(alpha=0.001)\n",
        "rr = rr.fit(X_poly, Y_data)\n",
        "Y_pred_rr = rr.predict(X_poly)\n",
        "\n",
        "# The Lasso Regression\n",
        "lassor = Lasso(alpha=0.0001)\n",
        "lassor = lassor.fit(X_poly, Y_data)\n",
        "Y_pred_lr = lassor.predict(X_poly)\n",
        "\n",
        "# The plot of the predicted values\n",
        "plt.figure(figsize=(12,8))\n",
        "plt.plot(X_data, Y_data, marker='o', ls='', label='data')\n",
        "plt.plot(X_real, Y_real, ls='--', label='real function')\n",
        "plt.plot(X_data, Y_pred, label='linear regression', marker='^', alpha=0.5)\n",
        "plt.plot(X_data, Y_pred_rr, label='ridge regression', marker='^', alpha=0.5)\n",
        "plt.plot(X_data, Y_pred_lr, label='lasso regression', marker='^', alpha=0.5)\n",
        "\n",
        "plt.legend()\n",
        "\n",
        "ax = plt.gca()\n",
        "ax.set(xlabel='x data', ylabel='y data');"
      ],
      "execution_count": null,
      "outputs": [
        {
          "output_type": "display_data",
          "data": {
            "image/png": "[encoded data removed]",
            "text/plain": [
              "<Figure size 864x576 with 1 Axes>"
            ]
          },
          "metadata": {
            "tags": []
          }
        }
      ]
    },
    {
      "cell_type": "code",
      "metadata": {
        "colab": {
          "base_uri": "https://localhost:8080/",
          "height": 297
        },
        "id": "qOyIVmtJXGoM",
        "outputId": "13068730-1a64-4db9-8bf3-17e158495334"
      },
      "source": [
        "# let's look at the absolute value of coefficients for each model\n",
        "\n",
        "coefficients = pd.DataFrame()\n",
        "coefficients['linear regression'] = lr.coef_\n",
        "coefficients['ridge regression'] = rr.coef_\n",
        "coefficients['lasso regression'] = lassor.coef_\n",
        "coefficients = coefficients.applymap(abs)\n",
        "\n",
        "coefficients.describe() # Huge difference in scale between non-regularized vs. regularized regressions"
      ],
      "execution_count": null,
      "outputs": [
        {
          "output_type": "execute_result",
          "data": {
            "text/html": [
              "<div>\n",
              "<style scoped>\n",
              "    .dataframe tbody tr th:only-of-type {\n",
              "        vertical-align: middle;\n",
              "    }\n",
              "\n",
              "    .dataframe tbody tr th {\n",
              "        vertical-align: top;\n",
              "    }\n",
              "\n",
              "    .dataframe thead th {\n",
              "        text-align: right;\n",
              "    }\n",
              "</style>\n",
              "<table border=\"1\" class=\"dataframe\">\n",
              "  <thead>\n",
              "    <tr style=\"text-align: right;\">\n",
              "      <th></th>\n",
              "      <th>linear regression</th>\n",
              "      <th>ridge regression</th>\n",
              "      <th>lasso regression</th>\n",
              "    </tr>\n",
              "  </thead>\n",
              "  <tbody>\n",
              "    <tr>\n",
              "      <th>count</th>\n",
              "      <td>2.100000e+01</td>\n",
              "      <td>21.000000</td>\n",
              "      <td>21.000000</td>\n",
              "    </tr>\n",
              "    <tr>\n",
              "      <th>mean</th>\n",
              "      <td>5.761504e+13</td>\n",
              "      <td>2.169397</td>\n",
              "      <td>2.167284</td>\n",
              "    </tr>\n",
              "    <tr>\n",
              "      <th>std</th>\n",
              "      <td>6.017426e+13</td>\n",
              "      <td>2.900278</td>\n",
              "      <td>4.706731</td>\n",
              "    </tr>\n",
              "    <tr>\n",
              "      <th>min</th>\n",
              "      <td>1.610728e+07</td>\n",
              "      <td>0.000000</td>\n",
              "      <td>0.000000</td>\n",
              "    </tr>\n",
              "    <tr>\n",
              "      <th>25%</th>\n",
              "      <td>3.402091e+12</td>\n",
              "      <td>0.467578</td>\n",
              "      <td>0.000000</td>\n",
              "    </tr>\n",
              "    <tr>\n",
              "      <th>50%</th>\n",
              "      <td>3.614874e+13</td>\n",
              "      <td>1.017272</td>\n",
              "      <td>0.252181</td>\n",
              "    </tr>\n",
              "    <tr>\n",
              "      <th>75%</th>\n",
              "      <td>1.068696e+14</td>\n",
              "      <td>2.883507</td>\n",
              "      <td>1.641353</td>\n",
              "    </tr>\n",
              "    <tr>\n",
              "      <th>max</th>\n",
              "      <td>1.652485e+14</td>\n",
              "      <td>12.429635</td>\n",
              "      <td>20.176708</td>\n",
              "    </tr>\n",
              "  </tbody>\n",
              "</table>\n",
              "</div>"
            ],
            "text/plain": [
              "       linear regression  ridge regression  lasso regression\n",
              "count       2.100000e+01         21.000000         21.000000\n",
              "mean        5.761504e+13          2.169397          2.167284\n",
              "std         6.017426e+13          2.900278          4.706731\n",
              "min         1.610728e+07          0.000000          0.000000\n",
              "25%         3.402091e+12          0.467578          0.000000\n",
              "50%         3.614874e+13          1.017272          0.252181\n",
              "75%         1.068696e+14          2.883507          1.641353\n",
              "max         1.652485e+14         12.429635         20.176708"
            ]
          },
          "metadata": {
            "tags": []
          },
          "execution_count": 8
        }
      ]
    },
    {
      "cell_type": "code",
      "metadata": {
        "colab": {
          "base_uri": "https://localhost:8080/"
        },
        "id": "85Dy_5-RYjcX",
        "outputId": "778ae20d-6f00-4f6f-b30a-e242b45b29ea"
      },
      "source": [
        "# here we can see the lasso reducing a number of coefficients to zero\n",
        "(coefficients>0).sum()"
      ],
      "execution_count": null,
      "outputs": [
        {
          "output_type": "execute_result",
          "data": {
            "text/plain": [
              "linear regression    21\n",
              "ridge regression     20\n",
              "lasso regression     15\n",
              "dtype: int64"
            ]
          },
          "metadata": {
            "tags": []
          },
          "execution_count": 9
        }
      ]
    },
    {
      "cell_type": "code",
      "metadata": {
        "id": "RU52EDi5Y6G9",
        "colab": {
          "base_uri": "https://localhost:8080/",
          "height": 535
        },
        "outputId": "d10086c4-0c6e-46c7-a31f-5649f6da0264"
      },
      "source": [
        "colors = sns.color_palette()\n",
        "\n",
        "plt.figure(figsize=(12,8))\n",
        "\n",
        "# Setup the dual y-axes\n",
        "ax1 = plt.axes()\n",
        "ax2 = ax1.twinx()\n",
        "\n",
        "# Plot the linear regression data\n",
        "ax1.plot(lr.coef_.ravel(), color=colors[0], marker='o', label='linear regression')\n",
        "\n",
        "\n",
        "# Plot the regularization data sets\n",
        "ax2.plot(rr.coef_.ravel(), color=colors[1], marker='o', label='ridge regression')\n",
        "\n",
        "ax2.plot(lassor.coef_.ravel(), color=colors[2], marker='o', label='lasso regression')\n",
        "\n",
        "# Customize axes scales\n",
        "ax1.set_ylim(-2e14, 2e14)\n",
        "ax2.set_ylim(-25, 25)\n",
        "\n",
        "# Combine the legends\n",
        "h1, l1 = ax1.get_legend_handles_labels()\n",
        "h2, l2 = ax2.get_legend_handles_labels()\n",
        "ax1.legend(h1+h2, l1+l2)\n",
        "\n",
        "ax1.set(xlabel='coefficients', ylabel='linear regression')\n",
        "ax2.set(ylabel='ridge and lasso regression')\n",
        "\n",
        "ax1.set_xticks(range(len(lr.coef_)));"
      ],
      "execution_count": null,
      "outputs": [
        {
          "output_type": "display_data",
          "data": {
            "image/png": "[encoded data removed]",
            "text/plain": [
              "<Figure size 864x576 with 2 Axes>"
            ]
          },
          "metadata": {
            "tags": []
          }
        }
      ]
    },
    {
      "cell_type": "markdown",
      "metadata": {
        "id": "rRM8I73j1cZk"
      },
      "source": [
        "#### **Question 4**\n",
        "\n",
        "For the remaining questions, we will be working with the [data set](https://www.kaggle.com/c/house-prices-advanced-regression-techniques) from last lesson, which is based on housing prices in Ames, Iowa. There are an extensive number of features--see the exercises from week three for a discussion of these features.\n",
        "\n",
        "To begin:\n",
        "\n",
        "* Import the data with Pandas, remove any null values, and one hot encode categoricals. Either Scikit-learn's feature encoders or Pandas `get_dummies` method can be used.\n",
        "* Split the data into train and test sets. \n",
        "* Log transform skewed features. \n",
        "* Scaling can be attempted, although it can be interesting to see how well regularization works without scaling features."
      ]
    },
    {
      "cell_type": "code",
      "metadata": {
        "id": "v9XqNNUWze59"
      },
      "source": [
        "import pandas as pd\n",
        "import numpy as np\n"
      ],
      "execution_count": null,
      "outputs": []
    },
    {
      "cell_type": "code",
      "metadata": {
        "id": "bwkbbeQI2DV1"
      },
      "source": [
        "url = 'https://raw.githubusercontent.com/Raoni-Silva/IBM_MachineLearning/main/02%20-%20Supervised%20Machine%20Learning%20-%20Regression/Data/Ames_Housing_Sales.csv'\n",
        "\n",
        "data = pd.read_csv(url)"
      ],
      "execution_count": null,
      "outputs": []
    },
    {
      "cell_type": "code",
      "metadata": {
        "colab": {
          "base_uri": "https://localhost:8080/"
        },
        "id": "NH_9oJdC3_Ad",
        "outputId": "71da14ba-7a4b-4b47-be79-2c322485d110"
      },
      "source": [
        "# One hot encoding\n",
        "data = pd.get_dummies(data, drop_first=True)\n",
        "data.columns"
      ],
      "execution_count": null,
      "outputs": [
        {
          "output_type": "execute_result",
          "data": {
            "text/plain": [
              "Index(['1stFlrSF', '2ndFlrSF', '3SsnPorch', 'BedroomAbvGr', 'BsmtFinSF1',\n",
              "       'BsmtFinSF2', 'BsmtFullBath', 'BsmtHalfBath', 'BsmtUnfSF',\n",
              "       'EnclosedPorch',\n",
              "       ...\n",
              "       'SaleType_CWD', 'SaleType_Con', 'SaleType_ConLD', 'SaleType_ConLI',\n",
              "       'SaleType_ConLw', 'SaleType_New', 'SaleType_Oth', 'SaleType_WD',\n",
              "       'Street_Pave', 'Utilities_NoSeWa'],\n",
              "      dtype='object', length=252)"
            ]
          },
          "metadata": {
            "tags": []
          },
          "execution_count": 15
        }
      ]
    },
    {
      "cell_type": "code",
      "metadata": {
        "id": "8txsu6SV4Nr9"
      },
      "source": [
        "# Split train test sets\n",
        "from sklearn.model_selection import train_test_split\n",
        "\n",
        "train, test = train_test_split(data, test_size=0.3, random_state=42)"
      ],
      "execution_count": null,
      "outputs": []
    },
    {
      "cell_type": "code",
      "metadata": {
        "id": "K_foOurg41Z1"
      },
      "source": [
        "# Create a list of columns that are no one hot encoded\n",
        "mask = data.apply(lambda x: x.nunique())>2\n",
        "num_cols = data.columns[mask]"
      ],
      "execution_count": null,
      "outputs": []
    },
    {
      "cell_type": "code",
      "metadata": {
        "colab": {
          "base_uri": "https://localhost:8080/",
          "height": 793
        },
        "id": "UKOqM2Ky5B6l",
        "outputId": "b75b846b-c1a1-4adc-c80d-20165f228026"
      },
      "source": [
        "skew_limit = 0.75\n",
        "skew_vals = train[num_cols].skew()\n",
        "\n",
        "skew_cols = (skew_vals[skew_vals > skew_limit].sort_values(ascending=False).to_frame().rename(columns={0: 'Skew'}))\n",
        "\n",
        "skew_cols"
      ],
      "execution_count": null,
      "outputs": [
        {
          "output_type": "execute_result",
          "data": {
            "text/html": [
              "<div>\n",
              "<style scoped>\n",
              "    .dataframe tbody tr th:only-of-type {\n",
              "        vertical-align: middle;\n",
              "    }\n",
              "\n",
              "    .dataframe tbody tr th {\n",
              "        vertical-align: top;\n",
              "    }\n",
              "\n",
              "    .dataframe thead th {\n",
              "        text-align: right;\n",
              "    }\n",
              "</style>\n",
              "<table border=\"1\" class=\"dataframe\">\n",
              "  <thead>\n",
              "    <tr style=\"text-align: right;\">\n",
              "      <th></th>\n",
              "      <th>Skew</th>\n",
              "    </tr>\n",
              "  </thead>\n",
              "  <tbody>\n",
              "    <tr>\n",
              "      <th>MiscVal</th>\n",
              "      <td>26.915364</td>\n",
              "    </tr>\n",
              "    <tr>\n",
              "      <th>PoolArea</th>\n",
              "      <td>15.777668</td>\n",
              "    </tr>\n",
              "    <tr>\n",
              "      <th>LotArea</th>\n",
              "      <td>11.501694</td>\n",
              "    </tr>\n",
              "    <tr>\n",
              "      <th>LowQualFinSF</th>\n",
              "      <td>11.210638</td>\n",
              "    </tr>\n",
              "    <tr>\n",
              "      <th>3SsnPorch</th>\n",
              "      <td>10.150612</td>\n",
              "    </tr>\n",
              "    <tr>\n",
              "      <th>KitchenAbvGr</th>\n",
              "      <td>5.497813</td>\n",
              "    </tr>\n",
              "    <tr>\n",
              "      <th>ScreenPorch</th>\n",
              "      <td>4.599803</td>\n",
              "    </tr>\n",
              "    <tr>\n",
              "      <th>BsmtFinSF2</th>\n",
              "      <td>4.466378</td>\n",
              "    </tr>\n",
              "    <tr>\n",
              "      <th>BsmtHalfBath</th>\n",
              "      <td>3.882163</td>\n",
              "    </tr>\n",
              "    <tr>\n",
              "      <th>EnclosedPorch</th>\n",
              "      <td>3.218303</td>\n",
              "    </tr>\n",
              "    <tr>\n",
              "      <th>LotFrontage</th>\n",
              "      <td>3.138032</td>\n",
              "    </tr>\n",
              "    <tr>\n",
              "      <th>MasVnrArea</th>\n",
              "      <td>2.492814</td>\n",
              "    </tr>\n",
              "    <tr>\n",
              "      <th>OpenPorchSF</th>\n",
              "      <td>2.295489</td>\n",
              "    </tr>\n",
              "    <tr>\n",
              "      <th>SalePrice</th>\n",
              "      <td>2.106910</td>\n",
              "    </tr>\n",
              "    <tr>\n",
              "      <th>BsmtFinSF1</th>\n",
              "      <td>2.010766</td>\n",
              "    </tr>\n",
              "    <tr>\n",
              "      <th>TotalBsmtSF</th>\n",
              "      <td>1.979164</td>\n",
              "    </tr>\n",
              "    <tr>\n",
              "      <th>1stFlrSF</th>\n",
              "      <td>1.539692</td>\n",
              "    </tr>\n",
              "    <tr>\n",
              "      <th>GrLivArea</th>\n",
              "      <td>1.455564</td>\n",
              "    </tr>\n",
              "    <tr>\n",
              "      <th>MSSubClass</th>\n",
              "      <td>1.403929</td>\n",
              "    </tr>\n",
              "    <tr>\n",
              "      <th>WoodDeckSF</th>\n",
              "      <td>1.334388</td>\n",
              "    </tr>\n",
              "    <tr>\n",
              "      <th>OverallCond</th>\n",
              "      <td>0.986483</td>\n",
              "    </tr>\n",
              "    <tr>\n",
              "      <th>BsmtUnfSF</th>\n",
              "      <td>0.900308</td>\n",
              "    </tr>\n",
              "    <tr>\n",
              "      <th>GarageArea</th>\n",
              "      <td>0.838422</td>\n",
              "    </tr>\n",
              "    <tr>\n",
              "      <th>2ndFlrSF</th>\n",
              "      <td>0.773655</td>\n",
              "    </tr>\n",
              "  </tbody>\n",
              "</table>\n",
              "</div>"
            ],
            "text/plain": [
              "                    Skew\n",
              "MiscVal        26.915364\n",
              "PoolArea       15.777668\n",
              "LotArea        11.501694\n",
              "LowQualFinSF   11.210638\n",
              "3SsnPorch      10.150612\n",
              "KitchenAbvGr    5.497813\n",
              "ScreenPorch     4.599803\n",
              "BsmtFinSF2      4.466378\n",
              "BsmtHalfBath    3.882163\n",
              "EnclosedPorch   3.218303\n",
              "LotFrontage     3.138032\n",
              "MasVnrArea      2.492814\n",
              "OpenPorchSF     2.295489\n",
              "SalePrice       2.106910\n",
              "BsmtFinSF1      2.010766\n",
              "TotalBsmtSF     1.979164\n",
              "1stFlrSF        1.539692\n",
              "GrLivArea       1.455564\n",
              "MSSubClass      1.403929\n",
              "WoodDeckSF      1.334388\n",
              "OverallCond     0.986483\n",
              "BsmtUnfSF       0.900308\n",
              "GarageArea      0.838422\n",
              "2ndFlrSF        0.773655"
            ]
          },
          "metadata": {
            "tags": []
          },
          "execution_count": 22
        }
      ]
    },
    {
      "cell_type": "markdown",
      "metadata": {
        "id": "0PcnxHEb6ZKe"
      },
      "source": [
        "Transform all the columns where the skew is greather than 0.75, excluding `SalePrice`."
      ]
    },
    {
      "cell_type": "code",
      "metadata": {
        "colab": {
          "base_uri": "https://localhost:8080/",
          "height": 391
        },
        "id": "w-A5cQCb6NZ-",
        "outputId": "e4ab7b7c-87a1-4239-baa9-b3ef38f34590"
      },
      "source": [
        "# OPTIONAL: Let's look at what happens to one of these features, when we apply np.log1p visually.\n",
        "\n",
        "field = \"BsmtFinSF1\"\n",
        "fig, (ax_before, ax_after) = plt.subplots(1, 2, figsize=(10, 5))\n",
        "train[field].hist(ax=ax_before)\n",
        "train[field].apply(np.log1p).hist(ax=ax_after)\n",
        "ax_before.set(title='before np.log1p', ylabel='frequency', xlabel='value')\n",
        "ax_after.set(title='after np.log1p', ylabel='frequency', xlabel='value')\n",
        "fig.suptitle('Field \"{}\"'.format(field));\n",
        "# a little bit better"
      ],
      "execution_count": null,
      "outputs": [
        {
          "output_type": "display_data",
          "data": {
            "image/png": "[encoded data removed]",
            "text/plain": [
              "<Figure size 720x360 with 2 Axes>"
            ]
          },
          "metadata": {
            "tags": []
          }
        }
      ]
    },
    {
      "cell_type": "code",
      "metadata": {
        "id": "2bRvycKj9ao3"
      },
      "source": [
        "# Mute the setting with a copy warnings\n",
        "pd.options.mode.chained_assignment = None\n",
        "\n",
        "# Log transformation\n",
        "for col in skew_cols.index.tolist():\n",
        "  if col == 'SalePrice':\n",
        "    continue\n",
        "  train[col] = np.log1p(train[col])\n",
        "  test[col] = test[col].apply(np.log1p) # same thing"
      ],
      "execution_count": null,
      "outputs": []
    },
    {
      "cell_type": "code",
      "metadata": {
        "id": "ziPq6nmM_OtZ"
      },
      "source": [
        "# Separate features from predictor\n",
        "feature_cols = [x for x in train.columns if x != 'SalePrice']\n",
        "X_train = train[feature_cols]\n",
        "y_train = train['SalePrice']\n",
        "\n",
        "X_test = test[feature_cols]\n",
        "y_test = test['SalePrice']"
      ],
      "execution_count": null,
      "outputs": []
    },
    {
      "cell_type": "markdown",
      "metadata": {
        "id": "n44yunWu_sx-"
      },
      "source": [
        "#### **Question 5**\n",
        "\n",
        "* Write a function **`rmse`** that takes in truth and prediction values and returns the root-mean-squared error. Use sklearn's `mean_squared_error`.  "
      ]
    },
    {
      "cell_type": "code",
      "metadata": {
        "id": "f5OBV5G__m73"
      },
      "source": [
        "from sklearn.metrics import mean_squared_error\n",
        "\n",
        "def rmse(ytrue, ypredicted):\n",
        "  return np.sqrt(mean_squared_error(ytrue, ypredicted))"
      ],
      "execution_count": null,
      "outputs": []
    },
    {
      "cell_type": "markdown",
      "metadata": {
        "id": "Oz8Txo97AEG-"
      },
      "source": [
        "* Fit a basic linear regression model\n",
        "* print the root-mean-squared error for this model\n",
        "* plot the predicted vs actual sale price based on the model.  "
      ]
    },
    {
      "cell_type": "code",
      "metadata": {
        "colab": {
          "base_uri": "https://localhost:8080/"
        },
        "id": "3J9rGf9-__2X",
        "outputId": "d87282a4-d164-4f56-800a-7502e1c3b996"
      },
      "source": [
        "from sklearn.linear_model import LinearRegression\n",
        "\n",
        "linearRegression = LinearRegression().fit(X_train, y_train)\n",
        "\n",
        "linearRegression_rmse = rmse(y_test, linearRegression.predict(X_test))\n",
        "\n",
        "print(linearRegression_rmse)"
      ],
      "execution_count": null,
      "outputs": [
        {
          "output_type": "stream",
          "text": [
            "78634.28580633736\n"
          ],
          "name": "stdout"
        }
      ]
    },
    {
      "cell_type": "code",
      "metadata": {
        "colab": {
          "base_uri": "https://localhost:8080/",
          "height": 538
        },
        "id": "AOqD2qOdAVrJ",
        "outputId": "1044caa0-21de-4747-e009-d31f65e8d37e"
      },
      "source": [
        "f = plt.figure(figsize=(8,8))\n",
        "ax = plt.axes()\n",
        "\n",
        "ax.plot(y_test, linearRegression.predict(X_test), marker='o', ls='', ms=3.0)\n",
        "\n",
        "lim = (0, y_test.max())\n",
        "\n",
        "ax.set(xlabel='Actual Price',\n",
        "       ylabel='Predicted Price',\n",
        "       xlim=lim,\n",
        "       ylim=lim,\n",
        "       title='Linear Regression Results');"
      ],
      "execution_count": null,
      "outputs": [
        {
          "output_type": "display_data",
          "data": {
            "image/png": "[encoded data removed]",
            "text/plain": [
              "<Figure size 576x576 with 1 Axes>"
            ]
          },
          "metadata": {
            "tags": []
          }
        }
      ]
    },
    {
      "cell_type": "markdown",
      "metadata": {
        "id": "58jEnsxCCrSO"
      },
      "source": [
        "#### **Question 6**\n",
        "\n",
        "Ridge regression uses L2 normalization to reduce the magnitude of the coefficients. This can be helpful in situations where there is high variance. The regularization functions in Scikit-learn each contain versions that have cross-validation built in.\n",
        "\n",
        "* Fit a regular (non-cross validated) Ridge model to a range of $\\alpha$ values and plot the RMSE using the cross validated error function you created above.\n",
        "* Use $$[0.005, 0.05, 0.1, 0.3, 1, 3, 5, 10, 15, 30, 80]$$ as the range of alphas.\n",
        "* Then repeat the fitting of the Ridge models using the range of $\\alpha$ values from the prior section. Compare the results."
      ]
    },
    {
      "cell_type": "code",
      "metadata": {
        "colab": {
          "base_uri": "https://localhost:8080/"
        },
        "id": "s2WdFR1GA2Kr",
        "outputId": "9d2cfefb-568f-454f-f127-f7a11521bd50"
      },
      "source": [
        "from sklearn.linear_model import RidgeCV\n",
        "\n",
        "alphas = [0.005, 0.05, 0.1, 0.3, 1, 3, 5, 10, 15, 30, 80]\n",
        "\n",
        "ridgeCV = RidgeCV(alphas=alphas, cv=4).fit(X_train, y_train)\n",
        "\n",
        "ridgeCV_rmse = rmse(y_test, ridgeCV.predict(X_test))\n",
        "\n",
        "print(ridgeCV.alpha_, ridgeCV_rmse)"
      ],
      "execution_count": null,
      "outputs": [
        {
          "output_type": "stream",
          "text": [
            "10.0 32205.825151330868\n"
          ],
          "name": "stdout"
        }
      ]
    },
    {
      "cell_type": "markdown",
      "metadata": {
        "id": "agaggTzuFmhh"
      },
      "source": [
        "#### **Question 7**\n",
        "\n",
        "\n",
        "Much like the `RidgeCV` function, there is also a `LassoCV` function that uses an L1 regularization function and cross-validation. L1 regularization will selectively shrink some coefficients, effectively performing feature elimination.\n",
        "\n",
        "The `LassoCV` function does not allow the scoring function to be set. However, the custom error function (`rmse`) created above can be used to evaluate the error on the final model.\n",
        "\n",
        "Similarly, there is also an elastic net function with cross validation, `ElasticNetCV`, which is a combination of L2 and L1 regularization.\n",
        "\n",
        "* Fit a Lasso model using cross validation and determine the optimum value for $\\alpha$ and the RMSE using the function created above. Note that the magnitude of $\\alpha$ may be different from the Ridge model.\n",
        "* Repeat this with the Elastic net model.\n",
        "* Compare the results via table and/or plot.\n",
        "\n",
        "Use the following alphas:  \n",
        "`[1e-5, 5e-5, 0.0001, 0.0005]`"
      ]
    },
    {
      "cell_type": "code",
      "metadata": {
        "colab": {
          "base_uri": "https://localhost:8080/"
        },
        "id": "NIGnU1t7FgTz",
        "outputId": "4788c244-81f4-4a4a-b23d-c44d9897b883"
      },
      "source": [
        "from sklearn.linear_model import LassoCV\n",
        "\n",
        "alphas2 = np.array([0.005, 0.05, 0.1, 1, 5, 20, 50, 80, 100, 120, 140])\n",
        "\n",
        "lassoCV = LassoCV(alphas=alphas2, max_iter=5e4, cv=4).fit(X_train, y_train)\n",
        "\n",
        "lassoCV_rmse = rmse(y_test, lassoCV.predict(X_test))\n",
        "\n",
        "print(lassoCV.alpha_, lassoCV_rmse)"
      ],
      "execution_count": null,
      "outputs": [
        {
          "output_type": "stream",
          "text": [
            "120.0 37010.761796394465\n"
          ],
          "name": "stdout"
        }
      ]
    },
    {
      "cell_type": "markdown",
      "metadata": {
        "id": "MXguZR-pKsgs"
      },
      "source": [
        "We can determine how many of these features remain non-zero."
      ]
    },
    {
      "cell_type": "code",
      "metadata": {
        "colab": {
          "base_uri": "https://localhost:8080/"
        },
        "id": "BMLir8KvKUda",
        "outputId": "e61f9996-b978-48c6-b571-0dfd384cbe1c"
      },
      "source": [
        "print('Of {} coefficients, {} are non-zero with Lasso.'.format(len(lassoCV.coef_), len(lassoCV.coef_.nonzero()[0])))"
      ],
      "execution_count": null,
      "outputs": [
        {
          "output_type": "stream",
          "text": [
            "Of 251 coefficients, 102 are non-zero with Lasso.\n"
          ],
          "name": "stdout"
        }
      ]
    },
    {
      "cell_type": "markdown",
      "metadata": {
        "id": "NM07aD8BLOEW"
      },
      "source": [
        "Now try the elastic net, with the same alphas as in Lasso, and l1_ratios between 0.1 and 0.9"
      ]
    },
    {
      "cell_type": "code",
      "metadata": {
        "colab": {
          "base_uri": "https://localhost:8080/"
        },
        "id": "kaxDAIpSK8el",
        "outputId": "e645e387-e4c5-4843-a3fb-4e95d566cfdc"
      },
      "source": [
        "from sklearn.linear_model import ElasticNetCV\n",
        "\n",
        "l1_ratios = np.linspace(0.1, 0.9, 9)\n",
        "\n",
        "elasticNetCV = ElasticNetCV(alphas=alphas2, l1_ratio=l1_ratios, max_iter=1e4).fit(X_train, y_train)\n",
        "\n",
        "elasticNetCV_rmse = rmse(y_test, elasticNetCV.predict(X_test))\n",
        "\n",
        "print(elasticNetCV.alpha_, elasticNetCV.l1_ratio_, elasticNetCV_rmse)"
      ],
      "execution_count": null,
      "outputs": [
        {
          "output_type": "stream",
          "text": [
            "0.1 0.9 32213.839417433966\n"
          ],
          "name": "stdout"
        }
      ]
    },
    {
      "cell_type": "markdown",
      "metadata": {
        "id": "j9PI-SlxMMib"
      },
      "source": [
        "Comparing the RMSE calculation from all models is easiest in a table."
      ]
    },
    {
      "cell_type": "code",
      "metadata": {
        "colab": {
          "base_uri": "https://localhost:8080/",
          "height": 173
        },
        "id": "ApTy310oMKPr",
        "outputId": "339a18e6-ccf6-4683-f780-844caf823059"
      },
      "source": [
        "rmse_vals = [linearRegression_rmse, ridgeCV_rmse, lassoCV_rmse, elasticNetCV_rmse]\n",
        "\n",
        "labels = ['Linear', 'Ridge', 'Lasse', 'ElasticNet']\n",
        "\n",
        "rmse_df = pd.Series(rmse_vals, index=labels).to_frame()\n",
        "rmse_df.rename(columns={0: 'RMSE'}, inplace=True)\n",
        "rmse_df"
      ],
      "execution_count": null,
      "outputs": [
        {
          "output_type": "execute_result",
          "data": {
            "text/html": [
              "<div>\n",
              "<style scoped>\n",
              "    .dataframe tbody tr th:only-of-type {\n",
              "        vertical-align: middle;\n",
              "    }\n",
              "\n",
              "    .dataframe tbody tr th {\n",
              "        vertical-align: top;\n",
              "    }\n",
              "\n",
              "    .dataframe thead th {\n",
              "        text-align: right;\n",
              "    }\n",
              "</style>\n",
              "<table border=\"1\" class=\"dataframe\">\n",
              "  <thead>\n",
              "    <tr style=\"text-align: right;\">\n",
              "      <th></th>\n",
              "      <th>RMSE</th>\n",
              "    </tr>\n",
              "  </thead>\n",
              "  <tbody>\n",
              "    <tr>\n",
              "      <th>Linear</th>\n",
              "      <td>78634.285806</td>\n",
              "    </tr>\n",
              "    <tr>\n",
              "      <th>Ridge</th>\n",
              "      <td>32205.825151</td>\n",
              "    </tr>\n",
              "    <tr>\n",
              "      <th>Lasse</th>\n",
              "      <td>37010.761796</td>\n",
              "    </tr>\n",
              "    <tr>\n",
              "      <th>ElasticNet</th>\n",
              "      <td>32213.839417</td>\n",
              "    </tr>\n",
              "  </tbody>\n",
              "</table>\n",
              "</div>"
            ],
            "text/plain": [
              "                    RMSE\n",
              "Linear      78634.285806\n",
              "Ridge       32205.825151\n",
              "Lasse       37010.761796\n",
              "ElasticNet  32213.839417"
            ]
          },
          "metadata": {
            "tags": []
          },
          "execution_count": 40
        }
      ]
    },
    {
      "cell_type": "markdown",
      "metadata": {
        "id": "K-Ci28H3OrE6"
      },
      "source": [
        "We can also make a plot of actual vs predicted housing prices as before."
      ]
    },
    {
      "cell_type": "code",
      "metadata": {
        "colab": {
          "base_uri": "https://localhost:8080/",
          "height": 538
        },
        "id": "r8AuMhCkOfm2",
        "outputId": "6ff08858-2756-4995-e5b8-75f746811699"
      },
      "source": [
        "f = plt.figure(figsize=(8,8))\n",
        "ax = plt.axes()\n",
        "\n",
        "labels = ['Ridge', 'Lasso', 'ElasticNet']\n",
        "\n",
        "models = [ridgeCV, lassoCV, elasticNetCV]\n",
        "\n",
        "for mod, lab in zip(models, labels):\n",
        "  ax.plot(y_test, mod.predict(X_test), marker='o', ls='', ms=3.0, label=lab)\n",
        "\n",
        "leg = plt.legend(frameon=True)\n",
        "leg.get_frame().set_edgecolor('black')\n",
        "leg.get_frame().set_linewidth(1.0)\n",
        "\n",
        "ax.set(xlabel='Actual Price',\n",
        "       ylabel='Predicted Price',\n",
        "       title='Linear Regression Results');"
      ],
      "execution_count": null,
      "outputs": [
        {
          "output_type": "display_data",
          "data": {
            "image/png": "[encoded data removed]",
            "text/plain": [
              "<Figure size 576x576 with 1 Axes>"
            ]
          },
          "metadata": {
            "tags": []
          }
        }
      ]
    },
    {
      "cell_type": "markdown",
      "metadata": {
        "id": "wq5hdSP9XaKj"
      },
      "source": [
        "# **Week 3.3 - Details of Regularization**\n",
        "\n",
        "Notebook of my notes for the week 3.3 of the course [Supervised Machine Learning: Regression](https://www.coursera.org/learn/supervised-machine-learning-regression) as part of the [IBM Machine Learning Professional Certificate](https://www.coursera.org/professional-certificates/ibm-machine-learning)."
      ]
    },
    {
      "cell_type": "markdown",
      "metadata": {
        "id": "o3rimJ8OXvuf"
      },
      "source": [
        "## **HOW REGULARIZATION WORKS**"
      ]
    },
    {
      "cell_type": "markdown",
      "metadata": {
        "id": "jHYjGjAaX2Ck"
      },
      "source": [
        "### **Analytic View**\n",
        "\n",
        "Increasing L2/L1 penalties force coeeficients to be smaller, restricting their plausible range.\n",
        "\n",
        "A smaller range for coefficients must be simpler/lower variance than a model with an infinite possible coefficient range."
      ]
    },
    {
      "cell_type": "markdown",
      "metadata": {
        "id": "kearwGPUYdKQ"
      },
      "source": [
        "### **Geometric View**\n",
        "\n",
        "Below are mathematically equivalent formulations of the optimization objectives of Ridge/LASSO\n",
        "\n",
        "* **Ridge**\n",
        "\n",
        "minimize $\\beta$ \n",
        "$$\\{\\sum_{i=1}^{n}(y_{i}-\\beta_{0}-\\sum_{j=1}^{p}\\beta_{j}x_{ij})^2\\} $$ \n",
        "\n",
        "subject to \n",
        "\n",
        "$$ \\sum_{j=1}^{p}\\beta_{j}^{2}\\leq S$$\n",
        "\n",
        "\n",
        "* **LASSO**\n",
        "\n",
        "minimize $\\beta$ \n",
        "$$\\{\\sum_{i=1}^{n}(y_{i}-\\beta_{0}-\\sum_{j=1}^{p}\\beta_{j}x_{ij})^2\\} $$ \n",
        "\n",
        "subject to \n",
        "\n",
        "$$ \\sum_{j=1}^{p}|\\beta_{j}|\\leq S$$\n"
      ]
    },
    {
      "cell_type": "markdown",
      "metadata": {
        "id": "6yQ5CUwmcu8G"
      },
      "source": [
        "### **Probabilistic View**\n",
        "\n",
        "$$\n",
        "p(\\beta|X,Y)\\alpha f(Y|X,\\beta)p(\\beta|X)=f(Y|X,\\beta)p(\\beta)\n",
        "$$\n",
        "<br>\n",
        "$$\n",
        "p(\\beta)=\\Pi_{j=a}^{p}g(\\beta_{j})\n",
        "$$\n",
        "\n",
        "**Bayes:** Regularization imposes certain priors on the regression coefficients.\n",
        "\n",
        "Letting $f$ be the likelihood (probability of target given parameter vector $\\beta$), and $p(\\beta)$ the prior distribution of $\\beta$, we can calculate the posterior of $\\beta$.\n",
        "\n",
        "$p(\\beta)$ is derived from independent draws of a prior coefficient density function $g$ that we choose when regularizing.\n",
        "\n",
        "L2 (ridge) regularization imposes a **Gaussian prior** on the coefficients, while L1 (lasso) regularization imposes a **Laplacian prior**.\n",
        "\n",
        "Visualizing these prior distributions again reveals the difference in behavior between Ridge and LASSO: the Laplacian distribution has peaked density at 0, explaining its tendency to zero out some coefficients.\n",
        "\n",
        "<p align=\"left\">\n",
        "<img src=\"https://raw.githubusercontent.com/Raoni-Silva/IBM_MachineLearning/main/02%20-%20Supervised%20Machine%20Learning%20-%20Regression/Images/Probabilistic%20View.JPG\"\n",
        "width=\"800\" />\n",
        "</p>\n"
      ]
    },
    {
      "cell_type": "markdown",
      "metadata": {
        "id": "R7vPkR-Zg0cU"
      },
      "source": [
        "## **REGULARIZATION RECAP**"
      ]
    },
    {
      "cell_type": "markdown",
      "metadata": {
        "id": "6tE23uiJg3XD"
      },
      "source": [
        "**Complexity Tradeoff**\n",
        "\n",
        ">Reduce complexity by penalizing it in cost function.\n",
        ">\n",
        ">Increases bias, but reduces variance (may be worth the trade-off).\n",
        ">\n",
        ">Options: L2, L1, can validate the choice and strength.\n",
        "\n",
        "\n",
        "**Regularization**\n",
        "\n",
        "> Optimizing predictive models is about finding the right bias/variance tradeoff.\n",
        ">\n",
        ">We need models that are sufficient complex to capture patterns in data, but not so complex that they overfit.\n",
        "\n",
        "**How it Works**\n",
        "\n",
        "> **Analytically:**penalty constrains the coefficient range.\n",
        ">\n",
        "> **Geometrically:** L1/L2 imposes bounded regions.\n",
        ">\n",
        "> **Probabilistically:** imposes prior on coefficients."
      ]
    },
    {
      "cell_type": "markdown",
      "metadata": {
        "id": "njC4-Yy8i4-v"
      },
      "source": [
        "### **Section 2, Part e:** Regularization LAB\n",
        "\n",
        "**Learning objectives**\n",
        "\n",
        "By the end of this lesson, you will be able to:\n",
        "\n",
        "* Implement data standardization\n",
        "* Implement variants of regularized regression\n",
        "* Combine data standardization with the train-test split procedure\n",
        "* Implement regularization to prevent overfitting in regression problems"
      ]
    },
    {
      "cell_type": "markdown",
      "metadata": {
        "id": "ri8XzjB_kg1o"
      },
      "source": [
        "#### **Helper.py**\n",
        "\n"
      ]
    },
    {
      "cell_type": "code",
      "metadata": {
        "id": "J1HqZ4Z2XeBA"
      },
      "source": [
        "import numpy as np\n",
        "import pandas as pd\n",
        "import matplotlib.pyplot as plt\n",
        "\n",
        "np.random.seed(72018)\n",
        "\n",
        "from sklearn.datasets import load_boston\n",
        "\n",
        "def to_2d(array):\n",
        "    return array.reshape(array.shape[0], -1)\n",
        "\n",
        "def boston_dataframe(description=False):\n",
        "    boston = load_boston()\n",
        "    \n",
        "    data = boston.data\n",
        "    target = boston.target\n",
        "    names = boston.feature_names\n",
        "    \n",
        "    target = to_2d(target)\n",
        "    \n",
        "    data_all = np.concatenate([data, target], axis=1)\n",
        "    names_all = np.concatenate([names, np.array(['MEDV'])], axis=0)\n",
        "    \n",
        "    if description:\n",
        "        \n",
        "        return pd.DataFrame(data=data_all, columns=names_all), boston.DESCR\n",
        "    \n",
        "    else: \n",
        "        \n",
        "        return pd.DataFrame(data=data_all, columns=names_all)\n",
        "    \n",
        "def plot_exponential_data():\n",
        "    data = np.exp(np.random.normal(size=1000))\n",
        "    plt.hist(data)\n",
        "    plt.show()\n",
        "    return data\n",
        "    \n",
        "def plot_square_normal_data():\n",
        "    data = np.square(np.random.normal(loc=5, size=1000))\n",
        "    plt.hist(data)\n",
        "    plt.show()\n",
        "    return data"
      ],
      "execution_count": null,
      "outputs": []
    },
    {
      "cell_type": "code",
      "metadata": {
        "id": "4mkfv1ejkpmm"
      },
      "source": [
        "np.set_printoptions(precision=3, suppress=True)"
      ],
      "execution_count": null,
      "outputs": []
    },
    {
      "cell_type": "markdown",
      "metadata": {
        "id": "0RU1Y1wslYQj"
      },
      "source": [
        "#### **Loading in Boston Data**"
      ]
    },
    {
      "cell_type": "code",
      "metadata": {
        "id": "CKfxwbdGlVJ2"
      },
      "source": [
        "boston = boston_dataframe(description=True)\n",
        "boston_data = boston[0]\n",
        "boston_description = boston[1]"
      ],
      "execution_count": null,
      "outputs": []
    },
    {
      "cell_type": "markdown",
      "metadata": {
        "id": "0QNyEEXYmkuo"
      },
      "source": [
        "#### **Data standardization**\n",
        "\n",
        "**Standardizing** data refers to transforming each variable so that it more closely follows a **standard** normal distribution, with mean 0 standard deviation 1.\n",
        "\n",
        "The `StandarScaler` object in Scikit Learn can do this.\n",
        "\n",
        "**Generate X and y:**"
      ]
    },
    {
      "cell_type": "code",
      "metadata": {
        "id": "Tx9nbhqLmkDH"
      },
      "source": [
        "y_col = 'MEDV'\n",
        "\n",
        "X = boston_data.drop(y_col, axis=1)\n",
        "y = boston_data[y_col]"
      ],
      "execution_count": null,
      "outputs": []
    },
    {
      "cell_type": "markdown",
      "metadata": {
        "id": "Ekzpa1iwosXG"
      },
      "source": [
        "**Import, fit and transform using `StandardScaler`**"
      ]
    },
    {
      "cell_type": "code",
      "metadata": {
        "id": "y0pSk_cmorEZ"
      },
      "source": [
        "from sklearn.preprocessing import StandardScaler\n",
        "\n",
        "s = StandardScaler()\n",
        "X_ss = s.fit_transform(X)"
      ],
      "execution_count": null,
      "outputs": []
    },
    {
      "cell_type": "markdown",
      "metadata": {
        "id": "wRu-2F6ZpNJh"
      },
      "source": [
        "#### **Exercise 1:** Confirm standard scaling"
      ]
    },
    {
      "cell_type": "code",
      "metadata": {
        "colab": {
          "base_uri": "https://localhost:8080/"
        },
        "id": "RSyELVKOpLzI",
        "outputId": "ee4051f7-12aa-4bf4-d9de-f8e7abc817f3"
      },
      "source": [
        "X2 = np.array(X)\n",
        "man_transform = (X2-X2.mean(axis=0))/X2.std(axis=0)\n",
        "np.allclose(man_transform, X_ss)"
      ],
      "execution_count": null,
      "outputs": [
        {
          "output_type": "execute_result",
          "data": {
            "text/plain": [
              "True"
            ]
          },
          "metadata": {
            "tags": []
          },
          "execution_count": 6
        }
      ]
    },
    {
      "cell_type": "markdown",
      "metadata": {
        "id": "Xi4TH_fmsQzr"
      },
      "source": [
        "#### **Coefficients with and without scaling**"
      ]
    },
    {
      "cell_type": "code",
      "metadata": {
        "id": "ez2B_STOphW3"
      },
      "source": [
        "from sklearn.linear_model import LinearRegression\n",
        "\n",
        "lr = LinearRegression()\n",
        "\n",
        "y_col = 'MEDV'\n",
        "\n",
        "X = boston_data.drop(y_col, axis=1)\n",
        "y = boston_data[y_col]"
      ],
      "execution_count": null,
      "outputs": []
    },
    {
      "cell_type": "code",
      "metadata": {
        "colab": {
          "base_uri": "https://localhost:8080/"
        },
        "id": "Cgw2sadastgR",
        "outputId": "9ff95a4e-784f-453a-9864-baf2888d5774"
      },
      "source": [
        "lr.fit(X, y)\n",
        "print(lr.coef_) # min = -18"
      ],
      "execution_count": null,
      "outputs": [
        {
          "output_type": "stream",
          "text": [
            "[ -0.108   0.046   0.021   2.687 -17.767   3.81    0.001  -1.476   0.306\n",
            "  -0.012  -0.953   0.009  -0.525]\n"
          ],
          "name": "stdout"
        }
      ]
    },
    {
      "cell_type": "markdown",
      "metadata": {
        "id": "v7Vt_Mgls2nt"
      },
      "source": [
        "**Discussion:**\n",
        "\n",
        "The coefficients are on widely different scales. Is this \"bad\"?"
      ]
    },
    {
      "cell_type": "code",
      "metadata": {
        "id": "YMSqkGEssw84"
      },
      "source": [
        "from sklearn.preprocessing import StandardScaler"
      ],
      "execution_count": null,
      "outputs": []
    },
    {
      "cell_type": "code",
      "metadata": {
        "id": "ImcyKB9ttBDX"
      },
      "source": [
        "s = StandardScaler()\n",
        "X_ss = s.fit_transform(X)"
      ],
      "execution_count": null,
      "outputs": []
    },
    {
      "cell_type": "code",
      "metadata": {
        "colab": {
          "base_uri": "https://localhost:8080/"
        },
        "id": "0SvFC_O3tEWg",
        "outputId": "fd8c616f-2876-42fe-ce19-70cbeb6e6e3d"
      },
      "source": [
        "lr2 = LinearRegression()\n",
        "lr2.fit(X_ss, y)\n",
        "print(lr2.coef_) # coefficients now \"on the same scale\""
      ],
      "execution_count": null,
      "outputs": [
        {
          "output_type": "stream",
          "text": [
            "[-0.928  1.082  0.141  0.682 -2.057  2.674  0.019 -3.104  2.662 -2.077\n",
            " -2.061  0.849 -3.744]\n"
          ],
          "name": "stdout"
        }
      ]
    },
    {
      "cell_type": "markdown",
      "metadata": {
        "id": "LGxVijtxtUT5"
      },
      "source": [
        "#### **Exercise 2:** Most impactful features\n",
        "\n",
        "Based on these results, what is the most \"impactful\" feature (this is intended to be slightly ambiguous)? \"In what direction\" does it affect \"y\"?\n",
        "\n",
        "**Hint:** Recall from last week that we can \"zip up\" the names of the features of a DataFrame `df` with a model `model` fitted on that DataFrame using:\n",
        "\n",
        "```python\n",
        "dict(zip(df.columns.values, model.coef_))\n",
        "```\n"
      ]
    },
    {
      "cell_type": "code",
      "metadata": {
        "colab": {
          "base_uri": "https://localhost:8080/",
          "height": 452
        },
        "id": "3HyMPmYatJNP",
        "outputId": "a95c343c-491d-4d48-9725-4101ec0217d1"
      },
      "source": [
        "pd.DataFrame(zip(X.columns, lr2.coef_)).sort_values(by=1)"
      ],
      "execution_count": null,
      "outputs": [
        {
          "output_type": "execute_result",
          "data": {
            "text/html": [
              "<div>\n",
              "<style scoped>\n",
              "    .dataframe tbody tr th:only-of-type {\n",
              "        vertical-align: middle;\n",
              "    }\n",
              "\n",
              "    .dataframe tbody tr th {\n",
              "        vertical-align: top;\n",
              "    }\n",
              "\n",
              "    .dataframe thead th {\n",
              "        text-align: right;\n",
              "    }\n",
              "</style>\n",
              "<table border=\"1\" class=\"dataframe\">\n",
              "  <thead>\n",
              "    <tr style=\"text-align: right;\">\n",
              "      <th></th>\n",
              "      <th>0</th>\n",
              "      <th>1</th>\n",
              "    </tr>\n",
              "  </thead>\n",
              "  <tbody>\n",
              "    <tr>\n",
              "      <th>12</th>\n",
              "      <td>LSTAT</td>\n",
              "      <td>-3.743627</td>\n",
              "    </tr>\n",
              "    <tr>\n",
              "      <th>7</th>\n",
              "      <td>DIS</td>\n",
              "      <td>-3.104044</td>\n",
              "    </tr>\n",
              "    <tr>\n",
              "      <th>9</th>\n",
              "      <td>TAX</td>\n",
              "      <td>-2.076782</td>\n",
              "    </tr>\n",
              "    <tr>\n",
              "      <th>10</th>\n",
              "      <td>PTRATIO</td>\n",
              "      <td>-2.060607</td>\n",
              "    </tr>\n",
              "    <tr>\n",
              "      <th>4</th>\n",
              "      <td>NOX</td>\n",
              "      <td>-2.056718</td>\n",
              "    </tr>\n",
              "    <tr>\n",
              "      <th>0</th>\n",
              "      <td>CRIM</td>\n",
              "      <td>-0.928146</td>\n",
              "    </tr>\n",
              "    <tr>\n",
              "      <th>6</th>\n",
              "      <td>AGE</td>\n",
              "      <td>0.019466</td>\n",
              "    </tr>\n",
              "    <tr>\n",
              "      <th>2</th>\n",
              "      <td>INDUS</td>\n",
              "      <td>0.140900</td>\n",
              "    </tr>\n",
              "    <tr>\n",
              "      <th>3</th>\n",
              "      <td>CHAS</td>\n",
              "      <td>0.681740</td>\n",
              "    </tr>\n",
              "    <tr>\n",
              "      <th>11</th>\n",
              "      <td>B</td>\n",
              "      <td>0.849268</td>\n",
              "    </tr>\n",
              "    <tr>\n",
              "      <th>1</th>\n",
              "      <td>ZN</td>\n",
              "      <td>1.081569</td>\n",
              "    </tr>\n",
              "    <tr>\n",
              "      <th>8</th>\n",
              "      <td>RAD</td>\n",
              "      <td>2.662218</td>\n",
              "    </tr>\n",
              "    <tr>\n",
              "      <th>5</th>\n",
              "      <td>RM</td>\n",
              "      <td>2.674230</td>\n",
              "    </tr>\n",
              "  </tbody>\n",
              "</table>\n",
              "</div>"
            ],
            "text/plain": [
              "          0         1\n",
              "12    LSTAT -3.743627\n",
              "7       DIS -3.104044\n",
              "9       TAX -2.076782\n",
              "10  PTRATIO -2.060607\n",
              "4       NOX -2.056718\n",
              "0      CRIM -0.928146\n",
              "6       AGE  0.019466\n",
              "2     INDUS  0.140900\n",
              "3      CHAS  0.681740\n",
              "11        B  0.849268\n",
              "1        ZN  1.081569\n",
              "8       RAD  2.662218\n",
              "5        RM  2.674230"
            ]
          },
          "metadata": {
            "tags": []
          },
          "execution_count": 13
        }
      ]
    },
    {
      "cell_type": "markdown",
      "metadata": {
        "id": "SiBRDpy0v3sN"
      },
      "source": [
        "Looking just at the strength of the standardized coefficients LSTAT, DIS, RM and RAD are all the 'most impactful'. Sklearn does not have built in statistical signifigance of each of these variables which would aid in making this claim stronger/weaker"
      ]
    },
    {
      "cell_type": "markdown",
      "metadata": {
        "id": "H8tg0DiKv5ic"
      },
      "source": [
        "#### **Lasso with and without scaling**\n",
        "\n",
        "We discussed Lasso in lecture. \n",
        "\n",
        "Let's review together:\n",
        "\n",
        "1. What is different about Lasso vs. regular Linear Regression?\n",
        "1. Is standardization more or less important with Lasso vs. Linear Regression? Why?"
      ]
    },
    {
      "cell_type": "code",
      "metadata": {
        "id": "JiKmUv4vugKK"
      },
      "source": [
        "from sklearn.linear_model import Lasso\n",
        "from sklearn.preprocessing import PolynomialFeatures"
      ],
      "execution_count": null,
      "outputs": []
    },
    {
      "cell_type": "markdown",
      "metadata": {
        "id": "3lKLqJXXwWeQ"
      },
      "source": [
        "**Create polynomial features**"
      ]
    },
    {
      "cell_type": "code",
      "metadata": {
        "id": "Pdh66zL_wU-R"
      },
      "source": [
        "pf = PolynomialFeatures(degree=2, include_bias=False)\n",
        "X_pf = pf.fit_transform(X)"
      ],
      "execution_count": null,
      "outputs": []
    },
    {
      "cell_type": "markdown",
      "metadata": {
        "id": "T7U7I5-DwiGL"
      },
      "source": [
        "**Note:** We use `include_bias=False` since `Lasso` include a bias by default."
      ]
    },
    {
      "cell_type": "code",
      "metadata": {
        "id": "RK-WuuI_whUZ"
      },
      "source": [
        "X_pf_ss = s.fit_transform(X_pf)"
      ],
      "execution_count": null,
      "outputs": []
    },
    {
      "cell_type": "markdown",
      "metadata": {
        "id": "0fuOfF5OwuH5"
      },
      "source": [
        "**Lasso**"
      ]
    },
    {
      "cell_type": "code",
      "metadata": {
        "colab": {
          "base_uri": "https://localhost:8080/"
        },
        "id": "0XqaeugjwtK5",
        "outputId": "0d43d4f4-1ac0-4720-9a94-73dcb513b9b0"
      },
      "source": [
        "las = Lasso()\n",
        "las.fit(X_pf_ss, y)\n",
        "las.coef_"
      ],
      "execution_count": null,
      "outputs": [
        {
          "output_type": "execute_result",
          "data": {
            "text/plain": [
              "array([-0.   ,  0.   , -0.   ,  0.   , -0.   ,  0.   , -0.   , -0.   ,\n",
              "       -0.   , -0.   , -0.991,  0.   , -0.   , -0.   ,  0.   , -0.   ,\n",
              "        0.068, -0.   , -0.   , -0.   , -0.   , -0.   , -0.   , -0.   ,\n",
              "       -0.   , -0.   ,  0.   ,  0.   ,  0.   ,  0.   ,  0.   ,  0.   ,\n",
              "        0.   ,  0.   ,  0.   ,  0.   ,  0.   ,  0.   , -0.   ,  0.   ,\n",
              "       -0.   , -0.   , -0.   , -0.05 , -0.   , -0.   , -0.   , -0.   ,\n",
              "       -0.   ,  0.   ,  0.   ,  0.   ,  0.   ,  0.   ,  0.   ,  0.   ,\n",
              "        0.   ,  0.   ,  0.   , -0.   , -0.   , -0.   , -0.   , -0.   ,\n",
              "       -0.   , -0.   ,  0.   , -0.   ,  3.3  , -0.   , -0.   , -0.   ,\n",
              "       -0.   , -0.   ,  0.42 , -3.498, -0.   , -0.   , -0.   , -0.   ,\n",
              "       -0.   ,  0.   , -0.   , -0.   , -0.   , -0.146, -0.   , -0.   ,\n",
              "       -0.   , -0.   , -0.   , -0.   , -0.   , -0.   , -0.   , -0.   ,\n",
              "       -0.   , -0.   , -0.   ,  0.   , -0.   ,  0.   , -0.   , -0.   ])"
            ]
          },
          "metadata": {
            "tags": []
          },
          "execution_count": 17
        }
      ]
    },
    {
      "cell_type": "markdown",
      "metadata": {
        "id": "photoylzzwdy"
      },
      "source": [
        "#### **Exercise 3:** Compare Lasso's alphas\n",
        "\n",
        "Compare \n",
        "\n",
        "* Sum of magnitudes of the coefficients\n",
        "* Number of coefficients that are zero\n",
        "\n",
        "for Lasso with alpha 0.1 vs. 1.\n",
        "\n",
        "Before doing the exercise, answer the following questions in one sentence each:\n",
        "\n",
        "* Which do you expect to have greater magnitude?\n",
        "* Which do you expect to have more zeros?"
      ]
    },
    {
      "cell_type": "code",
      "metadata": {
        "colab": {
          "base_uri": "https://localhost:8080/"
        },
        "id": "Z283rsdIwz4y",
        "outputId": "88471e5c-6db0-4be3-aca9-b0088ed93137"
      },
      "source": [
        "las01 = Lasso(alpha=0.1)\n",
        "las01.fit(X_pf_ss, y)\n",
        "print('sum of coefficients:', abs(las01.coef_).sum())\n",
        "print('number of coefficients not equal to 0:', (las01.coef_!=0).sum())"
      ],
      "execution_count": null,
      "outputs": [
        {
          "output_type": "stream",
          "text": [
            "sum of coefficients: 26.138682362877965\n",
            "number of coefficients not equal to 0: 23\n"
          ],
          "name": "stdout"
        }
      ]
    },
    {
      "cell_type": "code",
      "metadata": {
        "colab": {
          "base_uri": "https://localhost:8080/"
        },
        "id": "G5E6KuIK3dQ-",
        "outputId": "6168cc79-e2bb-4fd1-9a68-a66e6d0bb242"
      },
      "source": [
        "las1 = Lasso(alpha=1)\n",
        "las1.fit(X_pf_ss, y)\n",
        "print('sum of coefficients:', abs(las1.coef_).sum())\n",
        "print('number of coefficients not equal to 0:', (las1.coef_!=0).sum())"
      ],
      "execution_count": null,
      "outputs": [
        {
          "output_type": "stream",
          "text": [
            "sum of coefficients: 8.47240504455307\n",
            "number of coefficients not equal to 0: 7\n"
          ],
          "name": "stdout"
        }
      ]
    },
    {
      "cell_type": "markdown",
      "metadata": {
        "id": "hDBhjRFG3n52"
      },
      "source": [
        "With more regularization (higher alpha) we will expect the penalty for higher weights to be greater and thus the coefficients to be pushed down. Thus a higher alpha means lower magnitude with more coefficients pushed down to 0."
      ]
    },
    {
      "cell_type": "markdown",
      "metadata": {
        "id": "9S1Wl9lz5jHk"
      },
      "source": [
        "#### **Exercise 4:** $R^{2}$\n",
        "\n",
        "Calculate the $R^2$ of each model without train/test split.\n",
        "\n",
        "Recall that we import $R^2$ using:\n",
        "\n",
        "```python\n",
        "from sklearn.metrics import r2_score\n",
        "```"
      ]
    },
    {
      "cell_type": "code",
      "metadata": {
        "colab": {
          "base_uri": "https://localhost:8080/"
        },
        "id": "AykPQniz3ifU",
        "outputId": "9154438c-5bdf-48ef-cf25-a5947845dbb2"
      },
      "source": [
        "from sklearn.metrics import r2_score\n",
        "r2_score(y, las.predict(X_pf_ss))"
      ],
      "execution_count": null,
      "outputs": [
        {
          "output_type": "execute_result",
          "data": {
            "text/plain": [
              "0.7207000417838496"
            ]
          },
          "metadata": {
            "tags": []
          },
          "execution_count": 22
        }
      ]
    },
    {
      "cell_type": "code",
      "metadata": {
        "colab": {
          "base_uri": "https://localhost:8080/"
        },
        "id": "GoM56Obk6PxF",
        "outputId": "e35d35f0-55ab-41d9-e7f8-538462371566"
      },
      "source": [
        "r2_score(y, las01.predict(X_pf_ss))"
      ],
      "execution_count": null,
      "outputs": [
        {
          "output_type": "execute_result",
          "data": {
            "text/plain": [
              "0.8366045990855128"
            ]
          },
          "metadata": {
            "tags": []
          },
          "execution_count": 23
        }
      ]
    },
    {
      "cell_type": "markdown",
      "metadata": {
        "id": "2VuEnCmH60ON"
      },
      "source": [
        "**Discuss:**\n",
        "\n",
        "Will regularization ever increase model performance if we evaluate on the same dataset that we trained on?"
      ]
    },
    {
      "cell_type": "markdown",
      "metadata": {
        "id": "6A4Dvz6p65ea"
      },
      "source": [
        "#### **With train/test split**\n",
        "\n",
        "**Discuss:**\n",
        "\n",
        "Are there any issues with what we've done so far?\n",
        "\n",
        "**Hint:** Think about the way we have done feature scaling.\n"
      ]
    },
    {
      "cell_type": "code",
      "metadata": {
        "id": "U_G3jVpP6Yt8"
      },
      "source": [
        "from sklearn.model_selection import train_test_split"
      ],
      "execution_count": null,
      "outputs": []
    },
    {
      "cell_type": "code",
      "metadata": {
        "id": "jGR2z4FE7VOG"
      },
      "source": [
        "X_train, X_test, y_train, y_test = train_test_split(X_pf, y, test_size=0.3, random_state=72018)"
      ],
      "execution_count": null,
      "outputs": []
    },
    {
      "cell_type": "code",
      "metadata": {
        "colab": {
          "base_uri": "https://localhost:8080/"
        },
        "id": "QCzM4TCT7cvd",
        "outputId": "df26ce2b-f23f-4fb2-a6a2-530d0aeb1a4d"
      },
      "source": [
        "X_train_s = s.fit_transform(X_train)\n",
        "las.fit(X_train_s, y_train)\n",
        "X_test_s = s.transform(X_test)\n",
        "y_pred = las.predict(X_test_s)\n",
        "r2_score(y_pred, y_test)"
      ],
      "execution_count": null,
      "outputs": [
        {
          "output_type": "execute_result",
          "data": {
            "text/plain": [
              "0.33177406838134416"
            ]
          },
          "metadata": {
            "tags": []
          },
          "execution_count": 27
        }
      ]
    },
    {
      "cell_type": "code",
      "metadata": {
        "colab": {
          "base_uri": "https://localhost:8080/"
        },
        "id": "NL6R_08s76bF",
        "outputId": "a900b1b5-3468-4a38-f14d-1c6959053e30"
      },
      "source": [
        "X_train_s = s.fit_transform(X_train)\n",
        "las01.fit(X_train_s, y_train)\n",
        "X_test_s = s.transform(X_test)\n",
        "y_pred = las01.predict(X_test_s)\n",
        "r2_score(y_pred, y_test)"
      ],
      "execution_count": null,
      "outputs": [
        {
          "output_type": "execute_result",
          "data": {
            "text/plain": [
              "0.7102444090776476"
            ]
          },
          "metadata": {
            "tags": []
          },
          "execution_count": 28
        }
      ]
    },
    {
      "cell_type": "markdown",
      "metadata": {
        "id": "1HzhFzpe9V4x"
      },
      "source": [
        "Exercise\n",
        "\n",
        "\n",
        "**Part 1:**\n",
        "\n",
        "Do the same thing with Lasso of:\n",
        "\n",
        "* `alpha` of 0.001\n",
        "* Increase `max_iter` to 100000 to ensure convergence. \n",
        "\n",
        "Calculate the $R^2$ of the model.\n",
        "\n",
        "Feel free to copy-paste code from above, but write a one sentence comment above each line of code explaining why you're doing what you're doing.\n",
        "\n",
        "**Part 2:**\n",
        "\n",
        "Do the same procedure as before, but with Linear Regression.\n",
        "\n",
        "Calculate the $R^2$ of this model.\n",
        "\n",
        "**Part 3:**\n",
        "\n",
        "Compare the sums of the absolute values of the coefficients for both models, as well as the number of coefficients that are zero. Based on these measures, which model is a \"simpler\" description of the relationship between the features and the target?"
      ]
    },
    {
      "cell_type": "code",
      "metadata": {
        "colab": {
          "base_uri": "https://localhost:8080/"
        },
        "id": "WJJdIoDA8Xou",
        "outputId": "27fb835d-eb36-4d08-9a65-8f661318fbbd"
      },
      "source": [
        "# Part 1\n",
        "\n",
        "# Decreasing reguarization and ensuring convergence\n",
        "las001 = Lasso(alpha=0.001, max_iter=100000)\n",
        "\n",
        "# Transforming training set to get standardized units\n",
        "X_train_s = s.fit_transform(X_train)\n",
        "\n",
        "# Fitting model to trainig set\n",
        "las001.fit(X_train_s, y_train)\n",
        "\n",
        "# Transforming test set using the parameters defined from training set\n",
        "X_test_s = s.transform(X_test)\n",
        "\n",
        "# Finding prediction on test set\n",
        "y_pred = las001.predict(X_test_s)\n",
        "\n",
        "#Calculating r2 score\n",
        "print('r2 score for alpha - 0.001:', r2_score(y_pred, y_test))"
      ],
      "execution_count": null,
      "outputs": [
        {
          "output_type": "stream",
          "text": [
            "r2 score for alpha - 0.001: 0.8686454101886707\n"
          ],
          "name": "stdout"
        }
      ]
    },
    {
      "cell_type": "code",
      "metadata": {
        "colab": {
          "base_uri": "https://localhost:8080/"
        },
        "id": "ESxLhqk1_4jY",
        "outputId": "436a4dfa-1dc4-489d-b5bf-b460b508ef15"
      },
      "source": [
        "# Part 2\n",
        "\n",
        "# Using vanilla Linear Regression\n",
        "lr = LinearRegression()\n",
        "\n",
        "# Fitting model to training set\n",
        "lr.fit(X_train_s, y_train)\n",
        "\n",
        "# Predicting on test set\n",
        "y_pred_lr = lr.predict(X_test_s)\n",
        "\n",
        "# Calculating r2 score\n",
        "print('r2 score for Linear Regression:', r2_score(y_pred_lr, y_test))"
      ],
      "execution_count": null,
      "outputs": [
        {
          "output_type": "stream",
          "text": [
            "r2 score for Linear Regression: 0.8555202098064171\n"
          ],
          "name": "stdout"
        }
      ]
    },
    {
      "cell_type": "code",
      "metadata": {
        "colab": {
          "base_uri": "https://localhost:8080/"
        },
        "id": "AZEA6_SgAStH",
        "outputId": "903dd232-7746-4311-86dc-aeb26058d193"
      },
      "source": [
        "# Part 3\n",
        "print('Magnitude of Lasso coefficients:', abs(las001.coef_).sum())\n",
        "print('Number of coefficients not equal to 0 for Lasso:,', (las001.coef_!=0).sum())\n",
        "\n",
        "print('Magnitude of Linear Regression coefficients:', abs(lr.coef_).sum())\n",
        "print('Number of coefficients not equal to 0 for Linear Regression:,', (lr.coef_!=0).sum())"
      ],
      "execution_count": null,
      "outputs": [
        {
          "output_type": "stream",
          "text": [
            "Magnitude of Lasso coefficients: 436.26164263065647\n",
            "Number of coefficients not equal to 0 for Lasso:, 89\n",
            "Magnitude of Linear Regression coefficients: 1185.285825446812\n",
            "Number of coefficients not equal to 0 for Linear Regression:, 104\n"
          ],
          "name": "stdout"
        }
      ]
    },
    {
      "cell_type": "markdown",
      "metadata": {
        "id": "2kRdMQXeBFYY"
      },
      "source": [
        "#### **L1 vs. L2 Regularization**\n",
        "\n",
        "As we have seen: `Lasso` and `Ridge` regression have the same syntax in SciKit Learn.\n",
        "\n",
        "Now we're going to compare the results from Ridge vs. Lasso regression:\n",
        "\n",
        "**Ridge**"
      ]
    },
    {
      "cell_type": "code",
      "metadata": {
        "id": "i_nAJFH8A2Ef"
      },
      "source": [
        "from sklearn.linear_model import Ridge"
      ],
      "execution_count": null,
      "outputs": []
    },
    {
      "cell_type": "markdown",
      "metadata": {
        "id": "EHLlEaZNBewm"
      },
      "source": [
        "#### **Exercise 5:** Ridge vs. Lasso\n",
        "\n",
        "1. Define a Ridge object `r` with the same `alpha` as `las001`.\n",
        "2. Fit that object on `X` and `y` and print out the resulting coefficients."
      ]
    },
    {
      "cell_type": "code",
      "metadata": {
        "colab": {
          "base_uri": "https://localhost:8080/"
        },
        "id": "xxarl6YIBKgO",
        "outputId": "1deb8a3c-e8a8-4e43-d173-18d6bd8001f7"
      },
      "source": [
        "# Decreasing regularization and ensuring convergence\n",
        "r = Ridge(alpha = 0.001)\n",
        "X_train_s = s.fit_transform(X_train)\n",
        "r.fit(X_train_s, y_train)\n",
        "X_test_s = s.transform(X_test)\n",
        "y_pred_r = r.predict(X_test_s)\n",
        "\n",
        "# Calculating r2 score\n",
        "r.coef_"
      ],
      "execution_count": null,
      "outputs": [
        {
          "output_type": "execute_result",
          "data": {
            "text/plain": [
              "array([  8.727,  10.354, -24.683,   5.299,  -3.13 ,  14.781,  22.301,\n",
              "       -23.483,  27.356,  -1.512,  16.949,  22.531,  11.444,   1.055,\n",
              "         0.437,  14.259,   1.83 ,  -8.737,   4.726,  -3.748,  -3.557,\n",
              "       -16.521,  -6.918,   6.064,  -1.363,   4.604,  -1.303,  -0.057,\n",
              "        -0.301, -12.828,   2.016,   1.084,  -0.655,  -1.092,   4.458,\n",
              "        -4.247,   4.156,  -1.282,   8.71 ,  -0.285,  -8.595,  11.595,\n",
              "         6.544,   1.271,   1.827,   1.007,   1.554,   5.173,  -4.685,\n",
              "         5.299,  -3.199,  -8.715,   0.983,   1.119,   0.284,  -1.683,\n",
              "        -2.884,   2.985,  -0.756,  12.297,   0.931,  -7.594,  18.292,\n",
              "       -22.124,  35.725, -21.894,  -7.789,   1.774,   4.101, -12.263,\n",
              "        -3.741,  -5.525, -16.111,  -5.706,  -4.666,  -9.884,   0.989,\n",
              "        -0.092,  17.145, -14.214,  -2.955,  -2.785,  -5.404,  11.825,\n",
              "         0.085,  -4.352,  -5.616,  -2.843,   0.826, -29.129,  49.636,\n",
              "       -21.571,  -1.263,  -8.811, -15.822,  11.975,  -1.023,   2.911,\n",
              "        -0.656,  -4.955,   2.817,  -2.463,  -2.381,   1.686])"
            ]
          },
          "metadata": {
            "tags": []
          },
          "execution_count": 36
        }
      ]
    },
    {
      "cell_type": "code",
      "metadata": {
        "colab": {
          "base_uri": "https://localhost:8080/"
        },
        "id": "BG5BsiVyB9ym",
        "outputId": "5152b335-1867-479c-f351-988d1f9c35a4"
      },
      "source": [
        "las001.coef_"
      ],
      "execution_count": null,
      "outputs": [
        {
          "output_type": "execute_result",
          "data": {
            "text/plain": [
              "array([  0.   ,   0.   , -16.945,   2.562,   0.   ,  13.392,   9.907,\n",
              "       -19.96 ,   9.039,   0.   ,   6.138,  17.628,  11.446,   1.21 ,\n",
              "         0.226,  11.578,   2.197,  -7.397,   4.117,  -1.589,  -2.157,\n",
              "        -9.837,   0.   ,   0.   ,  -1.089,   3.793,   0.389,   0.2  ,\n",
              "        -0.297,  -3.352,   0.396,   0.719,  -0.756,  -0.753,   2.388,\n",
              "        -0.845,   2.524,  -0.973,   3.882,  -0.983,   6.609,   6.138,\n",
              "         4.201,   0.858,   1.96 ,   2.661,  -4.148,   2.937,  -4.556,\n",
              "         2.112,  -1.983,  -7.439,   1.607,   1.668,  -1.262,  -0.   ,\n",
              "        -0.   ,   2.622,  -0.861,   3.353,  -0.   ,  -2.451,   9.171,\n",
              "        -6.917,   0.   ,  -5.618,  -5.716,   0.521,   3.354,  -7.528,\n",
              "        -0.   ,  -6.646, -10.212,  -6.346,  -2.95 ,  -9.559,   0.327,\n",
              "         0.56 ,  11.006,  -6.666,  -1.158,  -2.25 ,  -3.53 ,   9.035,\n",
              "        -0.   ,  -2.316,  -2.   ,  -1.124,   0.804, -20.861,  27.166,\n",
              "         0.   ,  -1.51 ,  -6.745,  -5.098,  15.455,   0.   ,   0.   ,\n",
              "         0.629,  -3.959,   2.502,  -2.499,  -2.23 ,   2.201])"
            ]
          },
          "metadata": {
            "tags": []
          },
          "execution_count": 37
        }
      ]
    },
    {
      "cell_type": "code",
      "metadata": {
        "colab": {
          "base_uri": "https://localhost:8080/"
        },
        "id": "iAg-XjbvCHpH",
        "outputId": "d9a1bb4e-15f1-4854-c729-84c455050ecb"
      },
      "source": [
        "print(np.sum(np.abs(r.coef_)))\n",
        "print(np.sum(np.abs(las001.coef_)))\n",
        "\n",
        "print(np.sum(r.coef_ != 0))\n",
        "print(np.sum(las001.coef_ != 0))"
      ],
      "execution_count": null,
      "outputs": [
        {
          "output_type": "stream",
          "text": [
            "795.6521694295291\n",
            "436.26164263065647\n",
            "104\n",
            "89\n"
          ],
          "name": "stdout"
        }
      ]
    },
    {
      "cell_type": "markdown",
      "metadata": {
        "id": "ze-Q97ThCn_X"
      },
      "source": [
        "**Conclusion:** Ridge does not make any coefficients 0. In addition, on this particular dataset, Lasso provides stronger overall regularization than Ridge for this value of `alpha` (not necessarily true in general)."
      ]
    },
    {
      "cell_type": "code",
      "metadata": {
        "colab": {
          "base_uri": "https://localhost:8080/"
        },
        "id": "i_G5l7WRCcfP",
        "outputId": "07997423-720a-4dee-c58d-0f58f3a16262"
      },
      "source": [
        "y_pred = r.predict(X_test_s)\n",
        "print(r2_score(y_test, y_pred))\n",
        "\n",
        "y_pred = las001.predict(X_test_s)\n",
        "print(r2_score(y_test, y_pred))"
      ],
      "execution_count": null,
      "outputs": [
        {
          "output_type": "stream",
          "text": [
            "0.8701706652186734\n",
            "0.88481414213672\n"
          ],
          "name": "stdout"
        }
      ]
    },
    {
      "cell_type": "markdown",
      "metadata": {
        "id": "wqC1cdoCC7-E"
      },
      "source": [
        "**Conclusion**: Ignoring issues of overfitting, Ridge does slightly better than Lasso when `alpha` is set to 0.001 for each (not necessarily true in general)."
      ]
    },
    {
      "cell_type": "markdown",
      "metadata": {
        "id": "Ga8cg8aTDBUF"
      },
      "source": [
        "#### **Does it matter when you scale?**"
      ]
    },
    {
      "cell_type": "code",
      "metadata": {
        "id": "jfZkzj6MC2vH"
      },
      "source": [
        "X_train, X_test, y_train, y_test = train_test_split(X_ss, y, test_size=0.3, random_state=72018)"
      ],
      "execution_count": null,
      "outputs": []
    },
    {
      "cell_type": "code",
      "metadata": {
        "colab": {
          "base_uri": "https://localhost:8080/"
        },
        "id": "68h_XmOcDINP",
        "outputId": "9de4d8d6-94bf-485f-ff5e-2f75f4e441d7"
      },
      "source": [
        "lr = LinearRegression()\n",
        "lr.fit(X_train, y_train)\n",
        "y_pred = lr.predict(X_test)\n",
        "r2_score(y_pred, y_test)"
      ],
      "execution_count": null,
      "outputs": [
        {
          "output_type": "execute_result",
          "data": {
            "text/plain": [
              "0.5832942094971806"
            ]
          },
          "metadata": {
            "tags": []
          },
          "execution_count": 46
        }
      ]
    },
    {
      "cell_type": "code",
      "metadata": {
        "id": "s2xPQ-TMDO94"
      },
      "source": [
        "X_train, X_test, y_train, y_test = train_test_split(X, y, test_size=0.3, random_state=72018)"
      ],
      "execution_count": null,
      "outputs": []
    },
    {
      "cell_type": "code",
      "metadata": {
        "colab": {
          "base_uri": "https://localhost:8080/"
        },
        "id": "pyJIvs4UDRnA",
        "outputId": "072c34f5-dccb-46aa-e478-9d7cbcc2c877"
      },
      "source": [
        "s = StandardScaler()\n",
        "lr_s = LinearRegression()\n",
        "X_train_s = s.fit_transform(X_train)\n",
        "lr_s.fit(X_train_s, y_train)\n",
        "X_test_s = s.transform(X_test)\n",
        "y_pred_s = lr_s.predict(X_test_s)\n",
        "r2_score(y_pred_s, y_test)"
      ],
      "execution_count": null,
      "outputs": [
        {
          "output_type": "execute_result",
          "data": {
            "text/plain": [
              "0.5832942094971801"
            ]
          },
          "metadata": {
            "tags": []
          },
          "execution_count": 48
        }
      ]
    },
    {
      "cell_type": "markdown",
      "metadata": {
        "id": "gi9uMNl0Dd4D"
      },
      "source": [
        "**Conclusion:** It doesn't matter whether you scale before or afterwards, in terms of the raw predictions, for Linear Regression. However, it matters for other algorithms. Plus, as we'll see later, we can make scaling part of a `Pipeline`."
      ]
    },
    {
      "cell_type": "markdown",
      "metadata": {
        "id": "zuis6EAsFeM6"
      },
      "source": [
        "# **Summary/Review**"
      ]
    },
    {
      "cell_type": "markdown",
      "metadata": {
        "id": "WRSmOyQbFe8I"
      },
      "source": [
        "**Regularization Techniques**\n",
        "\n",
        "Three sources of error for your model are: bias, variance and irreducible error.\n",
        "\n",
        "Regularization is a way to achieve building simple models with relative low error. It helps you avoid overfitting by penalizing high-valued coefficients. It reduces parameters and shrink the model.\n",
        "\n",
        "Regularization adds an adjustable regularization strength parameter directly into the cost function.\n",
        "\n",
        "Regularization performs feature selection by shrinking the contribution of features, which can prevent overfitting.\n",
        "\n",
        "In **Ridge Regression**, the complexity penalty $\\lambda$ is applied proportionally to squared coefficient values.\n",
        "- The penalty term has the effect of \"shrinking\" coefficients toward 0.\n",
        "- This imposes bias on the model, but also reduces variance.\n",
        "- We can select the best regularization strength lambda via cross-validation.\n",
        "- It's a best practice to scale features (i.e. using `StantardScaler`) so penalties aren't impacted by variable scale.\n",
        "\n",
        "In **LASSO Regression** the complexity penalty $\\lambda$ is proportional to the absolute value of coefficients. LASSO stands for: Least Absolute Shrinkage and Selection Operator.\n",
        "- Similar effect to Ridge em terms of complexity tradeoff: increasing lambda raises bias but lower variance.\n",
        "- LASSO is more likely than Ridge to perform feature selection, in that for a fixed $\\lambda$, LASSO is more likely to result in coefficients being set to zero.\n",
        "\n",
        "Elastic Net combines penalties from both Ridge and LASSO regression. It requires tuning of an additional parameter that determines emphasis of L1 vs. L2 regularization penalties.\n",
        "\n",
        "LASSO's feature selection property yields an interpretability advantage, but may underperform if the target truly depends on many of the features.\n",
        "\n",
        "Elastic Net, an alternative hybrid approach, introduces a new parameter $\\alpha$ (alpha) that determines weighted average of L1 and L2 penalties.\n",
        "\n",
        "Regularization techniques have an analytical, a geometric and a probabilistic interpretation."
      ]
    },
    {
      "cell_type": "markdown",
      "metadata": {
        "id": "7x4azPAiE7e5"
      },
      "source": [
        "# **Credit**\n",
        "---\n",
        "My notes from Machine Learning Foundation (C) 2020 IBM Corporation courses"
      ]
    }
  ]
}