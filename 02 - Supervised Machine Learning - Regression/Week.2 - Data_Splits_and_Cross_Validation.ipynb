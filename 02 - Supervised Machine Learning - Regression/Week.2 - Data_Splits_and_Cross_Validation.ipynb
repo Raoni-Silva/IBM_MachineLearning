{
  "nbformat": 4,
  "nbformat_minor": 0,
  "metadata": {
    "colab": {
      "name": "Week 2 - Data Splits and Cross Validation.ipynb",
      "provenance": [],
      "collapsed_sections": [],
      "toc_visible": true
    },
    "kernelspec": {
      "name": "python3",
      "display_name": "Python 3"
    },
    "language_info": {
      "name": "python"
    }
  },
  "cells": [
    {
      "cell_type": "markdown",
      "metadata": {
        "id": "K5z0cHXvdgmO"
      },
      "source": [
        "<p align=\"left\">\n",
        "<img src=\"https://raw.githubusercontent.com/Raoni-Silva/IBM_MachineLearning/main/Image/ibm-logo.png\"\n",
        "width=\"500\" />\n",
        "</p>"
      ]
    },
    {
      "cell_type": "markdown",
      "metadata": {
        "id": "5-KUyq7XdiEE"
      },
      "source": [
        "# **Supervised Machine Learning: Regression**\n",
        "\n",
        "**Notebook content**\n",
        "> **WEEK 2** - Data Splits and Cross Validation\n",
        "> * 2.1 - Training and Test Splits\n",
        "> * 2.2 - Cross Validation\n",
        "> * 2.3 - Polynomial Regression"
      ]
    },
    {
      "cell_type": "markdown",
      "metadata": {
        "id": "q1B0ITjXd68H"
      },
      "source": [
        "# **Week 2.1 - Training and Test Splits**\n",
        "\n",
        "Notebook of my notes for the week 2.1 of the course [Supervised Machine Learning: Regression](https://www.coursera.org/learn/supervised-machine-learning-regression) as part of the [IBM Machine Learning Professional Certificate](https://www.coursera.org/professional-certificates/ibm-machine-learning)."
      ]
    },
    {
      "cell_type": "markdown",
      "metadata": {
        "id": "Ps-U5o-8eeto"
      },
      "source": [
        "## **TRAIN TEST SPLIT**"
      ]
    },
    {
      "cell_type": "markdown",
      "metadata": {
        "id": "JrNi1z0SexgO"
      },
      "source": [
        "### **Training and Test Split**\n",
        "\n",
        "* **Training Data $\\longrightarrow$ Fit the model**\n",
        "* **Training Data $\\longrightarrow$ Measure performance**\n",
        "\n",
        "    * Predict label with model\n",
        "    * Compare with actual value\n",
        "    * Measure error"
      ]
    },
    {
      "cell_type": "markdown",
      "metadata": {
        "id": "l0wMAWNffmfV"
      },
      "source": [
        "### **Syntax**\n",
        "\n",
        "Import the train and test function\n",
        "\n",
        "\n",
        "```\n",
        "from sklearn.model_selection import train_test_split\n",
        "```\n",
        "\n",
        "Split the data and put 35% into test set\n",
        "\n",
        "```\n",
        "train, test = train_test_split(data, test_size=0.3)\n",
        "```\n",
        "\n",
        "Other method for splitting data\n",
        "\n",
        "\n",
        "```\n",
        "from sklearn.model_selection import ShuffleSplit\n",
        "```\n",
        "\n",
        "\n",
        "\n"
      ]
    },
    {
      "cell_type": "markdown",
      "metadata": {
        "id": "UZyUKfxLhuBF"
      },
      "source": [
        "### **Course 2, Part b:** Regression Setup, Train-test Split LAB\n",
        "\n",
        "**Introduction**\n",
        "\n",
        "We will be working with a data set based on [housing prices in Ames, Iowa](https://www.kaggle.com/c/house-prices-advanced-regression-techniques). It was compiled for educational use to be a modernized and expanded alternative to the well-known Boston Housing dataset. This version of the data set has had some missing values filled for convenience.\n",
        "\n",
        "There are an extensive number of features, so they've been described in the table below.\n",
        "\n",
        "**Predictor**\n",
        "\n",
        "* SalePrice: The property's sale price in dollars. \n",
        "\n",
        "**Features**\n",
        "\n",
        "* MoSold: Month Sold\n",
        "* YrSold: Year Sold   \n",
        "* SaleType: Type of sale\n",
        "* SaleCondition: Condition of sale\n",
        "* MSSubClass: The building class\n",
        "* MSZoning: The general zoning classification\n",
        "* ..."
      ]
    },
    {
      "cell_type": "markdown",
      "metadata": {
        "id": "eQKSNLrwi-FL"
      },
      "source": [
        "#### **Question 1**\n",
        "\n",
        "* Import the data using Pandas and examine the shape. There are 79 feature columns plus the predictor, the sale price (`SalePrice`). \n",
        "* There are three different types: integers (`int64`), floats (`float64`), and strings (`object`, categoricals). Examine how many there are of each data type. "
      ]
    },
    {
      "cell_type": "code",
      "metadata": {
        "colab": {
          "base_uri": "https://localhost:8080/"
        },
        "id": "m6fi2Ii6ib-x",
        "outputId": "03fe1d53-1bfd-43ed-dd90-446bcf4a9f5f"
      },
      "source": [
        "import pandas as pd\n",
        "import numpy as np\n",
        "\n",
        "# Import the data using the file path\n",
        "filepath = 'https://raw.githubusercontent.com/Raoni-Silva/IBM_MachineLearning/main/02%20-%20Supervised%20Machine%20Learning%20-%20Regression/Data/Ames_Housing_Sales.csv'\n",
        "data = pd.read_csv(filepath, sep=',')\n",
        "\n",
        "print(data.shape)"
      ],
      "execution_count": null,
      "outputs": [
        {
          "output_type": "stream",
          "text": [
            "(1379, 80)\n"
          ],
          "name": "stdout"
        }
      ]
    },
    {
      "cell_type": "code",
      "metadata": {
        "colab": {
          "base_uri": "https://localhost:8080/"
        },
        "id": "kdrUISNhjS1Z",
        "outputId": "53b8d3ff-d564-4e97-857b-674d127f0364"
      },
      "source": [
        "data.dtypes.value_counts()"
      ],
      "execution_count": null,
      "outputs": [
        {
          "output_type": "execute_result",
          "data": {
            "text/plain": [
              "object     43\n",
              "float64    21\n",
              "int64      16\n",
              "dtype: int64"
            ]
          },
          "metadata": {
            "tags": []
          },
          "execution_count": 2
        }
      ]
    },
    {
      "cell_type": "markdown",
      "metadata": {
        "id": "I1DrcMQRj-1W"
      },
      "source": [
        "#### **Question 2**\n",
        "\n",
        "A significant challenge, particularly when dealing with data that have many columns, is ensuring each column gets encoded correctly. \n",
        "\n",
        "This is particularly true with data columns that are ordered categoricals (ordinals) vs unordered categoricals. Unordered categoricals should be one-hot encoded, however this can significantly increase the number of features and creates features that are highly correlated with each other.\n",
        "\n",
        "Determine how many total features would be present, relative to what currently exists, if all string (object) features are one-hot encoded. Recall that the total number of one-hot encoded columns is `n-1`, where `n` is the number of categories."
      ]
    },
    {
      "cell_type": "code",
      "metadata": {
        "id": "sDZaQN89j8oB"
      },
      "source": [
        "# Select the object (string) columns\n",
        "mask = data.dtypes == np.object\n",
        "categorical_cols = data.columns[mask]"
      ],
      "execution_count": null,
      "outputs": []
    },
    {
      "cell_type": "code",
      "metadata": {
        "colab": {
          "base_uri": "https://localhost:8080/"
        },
        "id": "VLGjp6EdkUwh",
        "outputId": "f8e8fd23-c449-4d5a-c246-f49f354fca0d"
      },
      "source": [
        "# Determine how many extra columns would be created\n",
        "num_ohc_cols = (data[categorical_cols]\n",
        "                .apply(lambda x: x.nunique())\n",
        "                .sort_values(ascending=False))\n",
        "\n",
        "# No need to encode if there is only one value\n",
        "small_num_ohc_cols = num_ohc_cols.loc[num_ohc_cols>1]\n",
        "\n",
        "# Number of one-hot columns is one less than the number of categories\n",
        "small_num_ohc_cols -= 1\n",
        "\n",
        "# This is 215 columns, assuming the original ones are dropped. \n",
        "# This is quite a few extra columns!\n",
        "small_num_ohc_cols.sum()"
      ],
      "execution_count": null,
      "outputs": [
        {
          "output_type": "execute_result",
          "data": {
            "text/plain": [
              "215"
            ]
          },
          "metadata": {
            "tags": []
          },
          "execution_count": 4
        }
      ]
    },
    {
      "cell_type": "markdown",
      "metadata": {
        "id": "-u14YmwMk7ry"
      },
      "source": [
        "#### **Question 3**\n",
        "\n",
        "Let's create a new data set where all of the above categorical features will be one-hot encoded. We can fit this data and see how it affects the results.\n",
        "\n",
        "* Used the dataframe `.copy()` method to create a completely separate copy of the dataframe for one-hot encoding\n",
        "* On this new dataframe, one-hot encode each of the appropriate columns and add it back to the dataframe. Be sure to drop the original column.\n",
        "* For the data that are not one-hot encoded, drop the columns that are string categoricals.\n",
        "\n",
        "For the first step, numerically encoding the string categoricals, either Scikit-learn;s `LabelEncoder` or `DictVectorizer` can be used. However, the former is probably easier since it doesn't require specifying a numerical value for each category, and we are going to one-hot encode all of the numerical values anyway. (Can you think of a time when `DictVectorizer` might be preferred?)"
      ]
    },
    {
      "cell_type": "code",
      "metadata": {
        "id": "ImUzwI9-kdWx"
      },
      "source": [
        "from sklearn.preprocessing import OneHotEncoder\n",
        "\n",
        "# Copy data\n",
        "data_ohc = data.copy()\n",
        "\n",
        "# Create onehotencoder object\n",
        "ohc = OneHotEncoder()\n",
        "\n",
        "for col in num_ohc_cols.index:\n",
        "\n",
        "  # One hot encode the data--this returns a sparse array\n",
        "  new_dat = ohc.fit_transform(data_ohc[[col]])\n",
        "\n",
        "  # Drop original column from datafram\n",
        "  data_ohc = data_ohc.drop(col, axis=1)\n",
        "\n",
        "  # Gets names of all unique values in column so we can identify later\n",
        "  cats = ohc.categories_\n",
        "\n",
        "  # Create column names for each OHE column bt value\n",
        "  new_cols = ['_'.join([col,cat]) for cat in cats[0]]\n",
        "\n",
        "  # Create the new dataframe\n",
        "  new_df = pd.DataFrame(new_dat.toarray(), columns=new_cols)\n",
        "\n",
        "  # Append the new data to the dataframe\n",
        "  data_ohc = pd.concat([data_ohc, new_df], axis=1)"
      ],
      "execution_count": null,
      "outputs": []
    },
    {
      "cell_type": "code",
      "metadata": {
        "colab": {
          "base_uri": "https://localhost:8080/"
        },
        "id": "k-RRKZ42leWh",
        "outputId": "dc9f3adc-7dfe-48c7-a857-33941e4fe0ee"
      },
      "source": [
        "# Column difference is as calculated above\n",
        "data_ohc.shape[1] - data.shape[1]"
      ],
      "execution_count": null,
      "outputs": [
        {
          "output_type": "execute_result",
          "data": {
            "text/plain": [
              "215"
            ]
          },
          "metadata": {
            "tags": []
          },
          "execution_count": 6
        }
      ]
    },
    {
      "cell_type": "code",
      "metadata": {
        "colab": {
          "base_uri": "https://localhost:8080/"
        },
        "id": "6kuxb2knL3AM",
        "outputId": "873020f0-c366-47b9-b4b8-68c6b2af9dee"
      },
      "source": [
        "print(data.shape[1])\n",
        "\n",
        "# Remove the strings columns from the dataframe\n",
        "data = data.drop(num_ohc_cols.index, axis=1)\n",
        "\n",
        "print(data.shape[1])"
      ],
      "execution_count": null,
      "outputs": [
        {
          "output_type": "stream",
          "text": [
            "80\n",
            "37\n"
          ],
          "name": "stdout"
        }
      ]
    },
    {
      "cell_type": "markdown",
      "metadata": {
        "id": "174lJ5iDNPO-"
      },
      "source": [
        "#### **Question 4**\n",
        "\n",
        "* Create train and test splits of both data sets. To ensure the data gets split the same way, use the same `random_state` in each of the two splits.\n",
        "* For each data set, fit a basic linear regression model on the training data. \n",
        "* Calculate the mean squared error on both the train and test sets for the respective models. Which model produces smaller error on the test data and why?"
      ]
    },
    {
      "cell_type": "code",
      "metadata": {
        "id": "WCeJ00b_MT1U"
      },
      "source": [
        "from sklearn.model_selection import train_test_split\n",
        "\n",
        "y_col = 'SalePrice'\n",
        "\n",
        "# Data not one-hot encoded\n",
        "feature_cols = [x for x in data.columns if x != y_col]\n",
        "X_data = data[feature_cols]\n",
        "y_data = data[y_col]\n",
        "\n",
        "X_train, X_test, y_train, y_test = train_test_split(X_data, y_data, test_size=0.3, random_state=42)\n",
        "\n",
        "# Data one-hot encoded\n",
        "feature_cols = [x for x in data_ohc.columns if x != y_col]\n",
        "X_data_ohc = data_ohc[feature_cols]\n",
        "y_data_ohc = data_ohc[y_col]\n",
        "\n",
        "X_train_ohc, X_test_ohc, y_train_ohc, y_test_ohc = train_test_split(X_data_ohc, y_data_ohc, test_size=0.3, random_state=42)"
      ],
      "execution_count": null,
      "outputs": []
    },
    {
      "cell_type": "code",
      "metadata": {
        "colab": {
          "base_uri": "https://localhost:8080/"
        },
        "id": "NZPMggwUVUBZ",
        "outputId": "adc1c3b3-821c-41bd-c5df-24a36d6d5385"
      },
      "source": [
        "# Compare the indices to ensure they are identical\n",
        "(X_train_ohc.index == X_train.index).all()"
      ],
      "execution_count": null,
      "outputs": [
        {
          "output_type": "execute_result",
          "data": {
            "text/plain": [
              "True"
            ]
          },
          "metadata": {
            "tags": []
          },
          "execution_count": 9
        }
      ]
    },
    {
      "cell_type": "code",
      "metadata": {
        "colab": {
          "base_uri": "https://localhost:8080/",
          "height": 111
        },
        "id": "R5bvZWt_Ofzl",
        "outputId": "7b232994-200a-4474-e9d8-68e8a1a636cf"
      },
      "source": [
        "from sklearn.linear_model import LinearRegression\n",
        "from sklearn.metrics import mean_squared_error\n",
        "\n",
        "LR = LinearRegression()\n",
        "\n",
        "# Storage for error values\n",
        "error_df = list()\n",
        "\n",
        "# Data that have not been one-hot encoded\n",
        "LR = LR.fit(X_train, y_train)\n",
        "y_train_pred = LR.predict(X_train)\n",
        "y_test_pred = LR.predict(X_test)\n",
        "\n",
        "error_df.append(pd.Series({'train': mean_squared_error(y_train, y_train_pred),\n",
        "                           'test': mean_squared_error(y_test, y_test_pred)},\n",
        "                          name='no enc'))\n",
        "\n",
        "# Data that have been one-hot encoded\n",
        "LR = LR.fit(X_train_ohc, y_train_ohc)\n",
        "y_train_ohc_pred = LR.predict(X_train_ohc)\n",
        "y_test_ohc_pred = LR.predict(X_test_ohc)\n",
        "\n",
        "error_df.append(pd.Series({'train': mean_squared_error(y_train_ohc, y_train_ohc_pred),\n",
        "                           'test': mean_squared_error(y_test_ohc, y_test_ohc_pred)},\n",
        "                          name='one_hot enc'))\n",
        "\n",
        "# Assemble the result\n",
        "error_df = pd.concat(error_df, axis=1)\n",
        "error_df"
      ],
      "execution_count": null,
      "outputs": [
        {
          "output_type": "execute_result",
          "data": {
            "text/html": [
              "<div>\n",
              "<style scoped>\n",
              "    .dataframe tbody tr th:only-of-type {\n",
              "        vertical-align: middle;\n",
              "    }\n",
              "\n",
              "    .dataframe tbody tr th {\n",
              "        vertical-align: top;\n",
              "    }\n",
              "\n",
              "    .dataframe thead th {\n",
              "        text-align: right;\n",
              "    }\n",
              "</style>\n",
              "<table border=\"1\" class=\"dataframe\">\n",
              "  <thead>\n",
              "    <tr style=\"text-align: right;\">\n",
              "      <th></th>\n",
              "      <th>no enc</th>\n",
              "      <th>one_hot enc</th>\n",
              "    </tr>\n",
              "  </thead>\n",
              "  <tbody>\n",
              "    <tr>\n",
              "      <th>train</th>\n",
              "      <td>1.131507e+09</td>\n",
              "      <td>3.177264e+08</td>\n",
              "    </tr>\n",
              "    <tr>\n",
              "      <th>test</th>\n",
              "      <td>1.372182e+09</td>\n",
              "      <td>2.089927e+17</td>\n",
              "    </tr>\n",
              "  </tbody>\n",
              "</table>\n",
              "</div>"
            ],
            "text/plain": [
              "             no enc   one_hot enc\n",
              "train  1.131507e+09  3.177264e+08\n",
              "test   1.372182e+09  2.089927e+17"
            ]
          },
          "metadata": {
            "tags": []
          },
          "execution_count": 10
        }
      ]
    },
    {
      "cell_type": "markdown",
      "metadata": {
        "id": "bsUBw5xBXiTp"
      },
      "source": [
        "#### **Question 5**\n",
        "\n",
        "For each of the data sets (one-hot encoded and not encoded):\n",
        "\n",
        "* Scale the all the non-hot encoded values using one of the following: `StandardScaler`, `MinMaxScaler`, `MaxAbsScaler`.\n",
        "* Compare the error calculated on the test sets\n",
        "\n",
        "Be sure to calculate the skew (to decide if a transformation should be done) and fit the scaler on *ONLY* the training data, but then apply it to both the train and test data identically."
      ]
    },
    {
      "cell_type": "code",
      "metadata": {
        "id": "_ucMBKmRQC5-",
        "colab": {
          "base_uri": "https://localhost:8080/"
        },
        "outputId": "6de1297d-ab05-408a-b9db-60e20c8b4827"
      },
      "source": [
        "from sklearn.preprocessing import StandardScaler, MinMaxScaler\n",
        "\n",
        "scalers = {'standard': StandardScaler(),\n",
        "           'minmax': MinMaxScaler()}\n",
        "\n",
        "# Initialize model\n",
        "LR = LinearRegression()\n",
        "\n",
        "# Iterate over all possible combinations and get the errors\n",
        "errors = {}\n",
        "for scaler_label, scaler in scalers.items():\n",
        "  trainingset = scaler.fit_transform(X_train)\n",
        "  testset = scaler.transform(X_test)\n",
        "  LR.fit(trainingset, y_train)\n",
        "  predictions = LR.predict(testset)\n",
        "  key = scaler_label + 'scaling: '\n",
        "  errors[key] = mean_squared_error(y_test, predictions)\n",
        "\n",
        "errors = pd.Series(errors)\n",
        "\n",
        "for key, error_val in errors.items():\n",
        "  print(key, error_val)"
      ],
      "execution_count": null,
      "outputs": [
        {
          "output_type": "stream",
          "text": [
            "standardscaling:  1372182358.9345078\n",
            "minmaxscaling:  1372182358.9345083\n"
          ],
          "name": "stdout"
        }
      ]
    },
    {
      "cell_type": "markdown",
      "metadata": {
        "id": "4xGUV-J4dGcq"
      },
      "source": [
        "#### **Question 6**\n",
        "\n",
        "Plot predictions vs actual for one of the models."
      ]
    },
    {
      "cell_type": "code",
      "metadata": {
        "colab": {
          "base_uri": "https://localhost:8080/",
          "height": 321
        },
        "id": "H6jrWZWDZbDz",
        "outputId": "0cf09763-b9c4-4a4f-f987-4adc22f0ae7f"
      },
      "source": [
        "import matplotlib.pyplot as plt\n",
        "import seaborn as sns\n",
        "%matplotlib inline\n",
        "\n",
        "sns.set_context('talk')\n",
        "sns.set_style('ticks')\n",
        "sns.set_palette('dark')\n",
        "\n",
        "ax = plt.axes()\n",
        "ax.scatter(y_test, y_test_pred, alpha=0.5)\n",
        "\n",
        "ax.set(xlabel='Ground truth',\n",
        "       ylabel='Predictions',\n",
        "       title='Ames, Iowa House Price Predictions vs Truth, using Linear Regression');"
      ],
      "execution_count": null,
      "outputs": [
        {
          "output_type": "display_data",
          "data": {
            "image/png": "[encoded data removed]",
            "text/plain": [
              "<Figure size 432x288 with 1 Axes>"
            ]
          },
          "metadata": {
            "tags": []
          }
        }
      ]
    },
    {
      "cell_type": "markdown",
      "metadata": {
        "id": "2M52B0LsjwQt"
      },
      "source": [
        "# **Week 2.2 - Cross Validation**\n",
        "\n",
        "Notebook of my notes for the week 2.2 of the course [Supervised Machine Learning: Regression](https://www.coursera.org/learn/supervised-machine-learning-regression) as part of the [IBM Machine Learning Professional Certificate](https://www.coursera.org/professional-certificates/ibm-machine-learning)."
      ]
    },
    {
      "cell_type": "markdown",
      "metadata": {
        "id": "t4S1XcjFj5lu"
      },
      "source": [
        "## **CROSS VALIDATION**"
      ]
    },
    {
      "cell_type": "markdown",
      "metadata": {
        "id": "IcV-sLX_mgFs"
      },
      "source": [
        "### **Cross Validation Approaches**\n",
        "\n",
        "* **K-fold Cross Validation:** Using each of k subsamples as a test sample\n",
        "\n",
        "* **Leave One Out Cross Validation:** Using each observation as a test sample\n",
        "\n",
        "* **Stratified Cross Validation:** K-fold Cross Validation with representative samples"
      ]
    },
    {
      "cell_type": "markdown",
      "metadata": {
        "id": "R8RNFxKfJtmO"
      },
      "source": [
        "Increasing k in k-fol cross-validation will usually increase the variance of estimated parameters."
      ]
    },
    {
      "cell_type": "markdown",
      "metadata": {
        "id": "X2pMWtSivnYU"
      },
      "source": [
        "### **Syntax**\n",
        "\n",
        "Import the cross-validation function\n",
        "\n",
        "\n",
        "```\n",
        "from sklearn.model_selection import cross_val_score\n",
        "```\n",
        "\n",
        "Perform cross-validation with a given model\n",
        "\n",
        "\n",
        "```\n",
        "cross_val = cross_val_score(model, X_data, y_data, cv=4, scoring='neg_mean_squared_error')\n",
        "```\n",
        "\n",
        "Other methos for cross validation:\n",
        "\n",
        "\n",
        "```\n",
        "from sklearn.model_selection import KFold, StratifiedKFold\n",
        "```\n",
        "\n",
        "\n",
        "\n",
        "\n",
        "\n"
      ]
    },
    {
      "cell_type": "markdown",
      "metadata": {
        "id": "eo8qwF1A1KBB"
      },
      "source": [
        "### **Course 2, Part c:** Cross Validation DEMO\n",
        "\n",
        "**Learning objectives**\n",
        "\n",
        "\n",
        "By the end of this lesson, you will be able to:\n",
        "\n",
        "* Chain multiple data processing steps together using `Pipeline`\n",
        "* Use the `KFolds` object to split data into multiple folds.\n",
        "* Perform cross validation using SciKit Learn with `cross_val_predict` and `GridSearchCV`\n"
      ]
    },
    {
      "cell_type": "code",
      "metadata": {
        "id": "bACkxq58jz7f"
      },
      "source": [
        "import numpy as np\n",
        "import pickle\n",
        "import pandas as pd\n",
        "import matplotlib.pyplot as plt\n",
        "\n",
        "from sklearn.preprocessing import StandardScaler, PolynomialFeatures\n",
        "from sklearn.model_selection import KFold, cross_val_predict\n",
        "from sklearn.linear_model import LinearRegression, Lasso, Ridge\n",
        "from sklearn.metrics import r2_score\n",
        "from sklearn.pipeline import Pipeline\n"
      ],
      "execution_count": null,
      "outputs": []
    },
    {
      "cell_type": "code",
      "metadata": {
        "id": "sWHcPpT83Jlv"
      },
      "source": [
        "# Note we are loading a slighly different (\"cleaned\") pickle file\n",
        "url = 'https://github.com/Raoni-Silva/IBM_MachineLearning/raw/main/02%20-%20Supervised%20Machine%20Learning%20-%20Regression/Data/boston_housing_clean.pickle'\n",
        "boston = pd.read_pickle(url)"
      ],
      "execution_count": null,
      "outputs": []
    },
    {
      "cell_type": "code",
      "metadata": {
        "colab": {
          "base_uri": "https://localhost:8080/"
        },
        "id": "mxI7VlNM320C",
        "outputId": "4fc07067-42c7-474a-a368-c15261b134d6"
      },
      "source": [
        "boston.keys()"
      ],
      "execution_count": null,
      "outputs": [
        {
          "output_type": "execute_result",
          "data": {
            "text/plain": [
              "dict_keys(['dataframe', 'description'])"
            ]
          },
          "metadata": {
            "tags": []
          },
          "execution_count": 15
        }
      ]
    },
    {
      "cell_type": "code",
      "metadata": {
        "id": "WI4_PTTv6XdA"
      },
      "source": [
        "boston_data = boston['dataframe']\n",
        "boston_description = boston['description']"
      ],
      "execution_count": null,
      "outputs": []
    },
    {
      "cell_type": "code",
      "metadata": {
        "colab": {
          "base_uri": "https://localhost:8080/",
          "height": 204
        },
        "id": "gDCm72Iz6uKI",
        "outputId": "4faca608-6c0d-415f-bf2f-2cfaa481fe2a"
      },
      "source": [
        "boston_data.head()"
      ],
      "execution_count": null,
      "outputs": [
        {
          "output_type": "execute_result",
          "data": {
            "text/html": [
              "<div>\n",
              "<style scoped>\n",
              "    .dataframe tbody tr th:only-of-type {\n",
              "        vertical-align: middle;\n",
              "    }\n",
              "\n",
              "    .dataframe tbody tr th {\n",
              "        vertical-align: top;\n",
              "    }\n",
              "\n",
              "    .dataframe thead th {\n",
              "        text-align: right;\n",
              "    }\n",
              "</style>\n",
              "<table border=\"1\" class=\"dataframe\">\n",
              "  <thead>\n",
              "    <tr style=\"text-align: right;\">\n",
              "      <th></th>\n",
              "      <th>CRIM</th>\n",
              "      <th>ZN</th>\n",
              "      <th>INDUS</th>\n",
              "      <th>CHAS</th>\n",
              "      <th>NOX</th>\n",
              "      <th>RM</th>\n",
              "      <th>AGE</th>\n",
              "      <th>DIS</th>\n",
              "      <th>RAD</th>\n",
              "      <th>TAX</th>\n",
              "      <th>PTRATIO</th>\n",
              "      <th>B</th>\n",
              "      <th>LSTAT</th>\n",
              "      <th>MEDV</th>\n",
              "    </tr>\n",
              "  </thead>\n",
              "  <tbody>\n",
              "    <tr>\n",
              "      <th>0</th>\n",
              "      <td>0.00632</td>\n",
              "      <td>18.0</td>\n",
              "      <td>2.31</td>\n",
              "      <td>0.0</td>\n",
              "      <td>0.538</td>\n",
              "      <td>6.575</td>\n",
              "      <td>65.2</td>\n",
              "      <td>4.0900</td>\n",
              "      <td>1.0</td>\n",
              "      <td>296.0</td>\n",
              "      <td>15.3</td>\n",
              "      <td>396.90</td>\n",
              "      <td>4.98</td>\n",
              "      <td>24.0</td>\n",
              "    </tr>\n",
              "    <tr>\n",
              "      <th>1</th>\n",
              "      <td>0.02731</td>\n",
              "      <td>0.0</td>\n",
              "      <td>7.07</td>\n",
              "      <td>0.0</td>\n",
              "      <td>0.469</td>\n",
              "      <td>6.421</td>\n",
              "      <td>78.9</td>\n",
              "      <td>4.9671</td>\n",
              "      <td>2.0</td>\n",
              "      <td>242.0</td>\n",
              "      <td>17.8</td>\n",
              "      <td>396.90</td>\n",
              "      <td>9.14</td>\n",
              "      <td>21.6</td>\n",
              "    </tr>\n",
              "    <tr>\n",
              "      <th>2</th>\n",
              "      <td>0.02729</td>\n",
              "      <td>0.0</td>\n",
              "      <td>7.07</td>\n",
              "      <td>0.0</td>\n",
              "      <td>0.469</td>\n",
              "      <td>7.185</td>\n",
              "      <td>61.1</td>\n",
              "      <td>4.9671</td>\n",
              "      <td>2.0</td>\n",
              "      <td>242.0</td>\n",
              "      <td>17.8</td>\n",
              "      <td>392.83</td>\n",
              "      <td>4.03</td>\n",
              "      <td>34.7</td>\n",
              "    </tr>\n",
              "    <tr>\n",
              "      <th>3</th>\n",
              "      <td>0.03237</td>\n",
              "      <td>0.0</td>\n",
              "      <td>2.18</td>\n",
              "      <td>0.0</td>\n",
              "      <td>0.458</td>\n",
              "      <td>6.998</td>\n",
              "      <td>45.8</td>\n",
              "      <td>6.0622</td>\n",
              "      <td>3.0</td>\n",
              "      <td>222.0</td>\n",
              "      <td>18.7</td>\n",
              "      <td>394.63</td>\n",
              "      <td>2.94</td>\n",
              "      <td>33.4</td>\n",
              "    </tr>\n",
              "    <tr>\n",
              "      <th>4</th>\n",
              "      <td>0.06905</td>\n",
              "      <td>0.0</td>\n",
              "      <td>2.18</td>\n",
              "      <td>0.0</td>\n",
              "      <td>0.458</td>\n",
              "      <td>7.147</td>\n",
              "      <td>54.2</td>\n",
              "      <td>6.0622</td>\n",
              "      <td>3.0</td>\n",
              "      <td>222.0</td>\n",
              "      <td>18.7</td>\n",
              "      <td>396.90</td>\n",
              "      <td>5.33</td>\n",
              "      <td>36.2</td>\n",
              "    </tr>\n",
              "  </tbody>\n",
              "</table>\n",
              "</div>"
            ],
            "text/plain": [
              "      CRIM    ZN  INDUS  CHAS    NOX  ...    TAX  PTRATIO       B  LSTAT  MEDV\n",
              "0  0.00632  18.0   2.31   0.0  0.538  ...  296.0     15.3  396.90   4.98  24.0\n",
              "1  0.02731   0.0   7.07   0.0  0.469  ...  242.0     17.8  396.90   9.14  21.6\n",
              "2  0.02729   0.0   7.07   0.0  0.469  ...  242.0     17.8  392.83   4.03  34.7\n",
              "3  0.03237   0.0   2.18   0.0  0.458  ...  222.0     18.7  394.63   2.94  33.4\n",
              "4  0.06905   0.0   2.18   0.0  0.458  ...  222.0     18.7  396.90   5.33  36.2\n",
              "\n",
              "[5 rows x 14 columns]"
            ]
          },
          "metadata": {
            "tags": []
          },
          "execution_count": 17
        }
      ]
    },
    {
      "cell_type": "markdown",
      "metadata": {
        "id": "mh34JoCi677N"
      },
      "source": [
        "#### **Discussion:**\n",
        "\n",
        "Suppose we want to do Linear Regression on our dataset to get an estimate, based on mean squared error, of how well our model will perform on data outside our dataset. \n",
        "\n",
        "Suppose also that our data is split into three folds: Fold 1, Fold 2, and Fold 3.\n",
        "\n",
        "Consider how you might explain the steps to do this.\n",
        "\n",
        "**Coding this up**\n",
        "\n",
        "The [`KFold`](http://scikit-learn.org/stable/modules/generated/sklearn.model_selection.KFold.html) object in SciKit Learn tells the cross validation object (see below) how to split up the data:"
      ]
    },
    {
      "cell_type": "code",
      "metadata": {
        "id": "v_lCwcQf6wmY"
      },
      "source": [
        "X = boston_data.drop('MEDV', axis=1)\n",
        "y = boston_data['MEDV']"
      ],
      "execution_count": null,
      "outputs": []
    },
    {
      "cell_type": "code",
      "metadata": {
        "id": "5OZlcBge7cFp"
      },
      "source": [
        "kf = KFold(shuffle=True, random_state=72018, n_splits=3)"
      ],
      "execution_count": null,
      "outputs": []
    },
    {
      "cell_type": "code",
      "metadata": {
        "colab": {
          "base_uri": "https://localhost:8080/"
        },
        "id": "wv4PJYHMAUms",
        "outputId": "b0de20d9-de31-4c04-f07a-10a0baaa71d0"
      },
      "source": [
        "for train_index, test_index in kf.split(X):\n",
        "  print('Train index:', train_index[:10], len(train_index))\n",
        "  print(\"Test index:\", test_index[:10], len(test_index))\n",
        "  print(\" \")\n"
      ],
      "execution_count": null,
      "outputs": [
        {
          "output_type": "stream",
          "text": [
            "Train index: [ 1  3  4  5  7  8 10 11 12 13] 337\n",
            "Test index: [ 0  2  6  9 15 17 19 23 25 26] 169\n",
            " \n",
            "Train index: [ 0  2  6  9 10 11 12 13 15 17] 337\n",
            "Test index: [ 1  3  4  5  7  8 14 16 22 27] 169\n",
            " \n",
            "Train index: [0 1 2 3 4 5 6 7 8 9] 338\n",
            "Test index: [10 11 12 13 18 20 21 24 28 31] 168\n",
            " \n"
          ],
          "name": "stdout"
        }
      ]
    },
    {
      "cell_type": "code",
      "metadata": {
        "colab": {
          "base_uri": "https://localhost:8080/"
        },
        "id": "QTEqZjWCAqDq",
        "outputId": "8f6ee178-95e9-4736-d44d-695c557a6279"
      },
      "source": [
        "scores = []\n",
        "lr = LinearRegression()\n",
        "\n",
        "for train_index, test_index in kf.split(X):\n",
        "  X_train, X_test, y_train, y_test = (X.iloc[train_index, :],\n",
        "                                      X.iloc[test_index, :],\n",
        "                                      y[train_index],\n",
        "                                      y[test_index])\n",
        "  \n",
        "  lr.fit(X_train, y_train)\n",
        "\n",
        "  y_pred = lr.predict(X_test)\n",
        "\n",
        "  score = r2_score(y_test.values, y_pred)\n",
        "  \n",
        "  scores.append(score)\n",
        "\n",
        "scores"
      ],
      "execution_count": null,
      "outputs": [
        {
          "output_type": "execute_result",
          "data": {
            "text/plain": [
              "[0.6719348798472724, 0.7485020059212374, 0.6976807323597793]"
            ]
          },
          "metadata": {
            "tags": []
          },
          "execution_count": 21
        }
      ]
    },
    {
      "cell_type": "markdown",
      "metadata": {
        "id": "Negb0OCKCl6u"
      },
      "source": [
        "#### **Discussion (Part 2):**\n",
        "\n",
        "Now suppose we want to do the same, but appropriately scaling our data as we go through the folds.\n",
        "\n",
        "What would the steps be _now_?\n",
        "\n",
        "**Coding this up**"
      ]
    },
    {
      "cell_type": "code",
      "metadata": {
        "colab": {
          "base_uri": "https://localhost:8080/"
        },
        "id": "EY69KRyFBvSc",
        "outputId": "85917d56-a4b1-4c44-fb4f-e66db83b6dfb"
      },
      "source": [
        "scores = []\n",
        "lr = LinearRegression()\n",
        "s = StandardScaler()\n",
        "\n",
        "for train_index, test_index in kf.split(X):\n",
        "  X_train, X_test, y_train, y_test = (X.iloc[train_index, :],\n",
        "                                      X.iloc[test_index, :],\n",
        "                                      y[train_index],\n",
        "                                      y[test_index])\n",
        "  \n",
        "  X_train_s = s.fit_transform(X_train)\n",
        "  \n",
        "  lr.fit(X_train_s, y_train)\n",
        "\n",
        "  X_test_s = s.transform(X_test)\n",
        "\n",
        "  y_pred = lr.predict(X_test_s)\n",
        "\n",
        "  score = r2_score(y_test.values, y_pred)\n",
        "  \n",
        "  scores.append(score)\n",
        "\n",
        "scores"
      ],
      "execution_count": null,
      "outputs": [
        {
          "output_type": "execute_result",
          "data": {
            "text/plain": [
              "[0.6719348798472715, 0.7485020059212382, 0.6976807323597745]"
            ]
          },
          "metadata": {
            "tags": []
          },
          "execution_count": 22
        }
      ]
    },
    {
      "cell_type": "markdown",
      "metadata": {
        "id": "ynJg4lX_D5aG"
      },
      "source": [
        "(same scores, because for vanilla linear regression with no regularization, scaling actually doesn't matter for performance)\n",
        "\n",
        "This is getting quite cumbersome! \n",
        "\n",
        "_Very_ luckily, SciKit Learn has some wonderful functions that handle a lot of this for us.\n",
        "\n",
        "`Pipeline` and `cross_val_predict`"
      ]
    },
    {
      "cell_type": "code",
      "metadata": {
        "id": "iiwgoNquDbWb"
      },
      "source": [
        "s = StandardScaler()\n",
        "lr = LinearRegression()"
      ],
      "execution_count": null,
      "outputs": []
    },
    {
      "cell_type": "markdown",
      "metadata": {
        "id": "K9weWFDHwtZV"
      },
      "source": [
        "Combine multiple processing steps into a `Pipeline`\n",
        "\n",
        "A pipeline contains a series of steps, where a step is (\"name of step\", actual_model). The \"name of step\" string is only used to help you identify which step you are on, and to allow you to specify parameters at that step.  "
      ]
    },
    {
      "cell_type": "code",
      "metadata": {
        "id": "SI0l9dyxvgN7"
      },
      "source": [
        "estimator = Pipeline([(\"scaler\", s), (\"regression\", lr)])"
      ],
      "execution_count": null,
      "outputs": []
    },
    {
      "cell_type": "markdown",
      "metadata": {
        "id": "T4QLJJLkw371"
      },
      "source": [
        "`cross_val_predict`\n",
        "\n",
        "[`cross_val_predict`](http://scikit-learn.org/stable/modules/generated/sklearn.model_selection.cross_val_predict.html) is a function that does K-fold cross validation for us, appropriately fitting and transforming at every step of the way."
      ]
    },
    {
      "cell_type": "code",
      "metadata": {
        "colab": {
          "base_uri": "https://localhost:8080/"
        },
        "id": "FhPip9fAwz1h",
        "outputId": "99c5d6d0-b1db-4df4-9ec7-bd075d5966ad"
      },
      "source": [
        "predictions = cross_val_predict(estimator, X, y, cv=kf)\n",
        "r2_score(y, predictions)"
      ],
      "execution_count": null,
      "outputs": [
        {
          "output_type": "execute_result",
          "data": {
            "text/plain": [
              "0.706353106416156"
            ]
          },
          "metadata": {
            "tags": []
          },
          "execution_count": 25
        }
      ]
    },
    {
      "cell_type": "code",
      "metadata": {
        "colab": {
          "base_uri": "https://localhost:8080/"
        },
        "id": "ciwqeqYcxCAi",
        "outputId": "39bf788c-2696-4495-9777-9f548568154c"
      },
      "source": [
        "np.mean(scores) #almost identical"
      ],
      "execution_count": null,
      "outputs": [
        {
          "output_type": "execute_result",
          "data": {
            "text/plain": [
              "0.7060392060427615"
            ]
          },
          "metadata": {
            "tags": []
          },
          "execution_count": 26
        }
      ]
    },
    {
      "cell_type": "markdown",
      "metadata": {
        "id": "6cwzVa4hxQp8"
      },
      "source": [
        "Note that `cross_val_predict` doesn't use the same model for all steps; the predictions for each row are made when that row is in the validation set. We really have the collected results of 3 (i.e. `kf.num_splits`) different models. \n",
        "\n",
        "When we are done, `estimator` is still not fitted. If we want to predict on _new_ data, we still have to train our `estimator`. "
      ]
    },
    {
      "cell_type": "markdown",
      "metadata": {
        "id": "TEhxUr5n4bVw"
      },
      "source": [
        "#### **Hyperparameter Tuning**\n",
        "\n",
        "**Definition**\n",
        "\n",
        ">**Hyperparameter tuning** involves using cross validation (or train-test split) to determine which hyperparameters are most likely to generate a model that _generalizes_ well outside of your sample.\n",
        "\n",
        "**Mechanics**\n",
        "\n",
        ">We can generate an exponentially spaces range of values using the numpy [`geomspace`](https://docs.scipy.org/doc/numpy/reference/generated/numpy.geomspace.html#numpy.geomspace) function.\n",
        ">\n",
        ">```python\n",
        ">np.geomspace(1, 1000, num=4)\n",
        ">```\n",
        ">\n",
        ">produces:\n",
        ">\n",
        ">```\n",
        "array([    1.,    10.,   100.,  1000.])\n",
        "```\n",
        ">\n",
        ">Use this function to generate a list of length 10 called `alphas` for hyperparameter tuning:"
      ]
    },
    {
      "cell_type": "code",
      "metadata": {
        "id": "EMm0Yn0lyD1r",
        "colab": {
          "base_uri": "https://localhost:8080/"
        },
        "outputId": "0d1d4871-ac46-408e-fb0d-c7eab1afeffc"
      },
      "source": [
        "alphas = np.geomspace(1e-9, 1e0, num=10)\n",
        "alphas"
      ],
      "execution_count": null,
      "outputs": [
        {
          "output_type": "execute_result",
          "data": {
            "text/plain": [
              "array([1.e-09, 1.e-08, 1.e-07, 1.e-06, 1.e-05, 1.e-04, 1.e-03, 1.e-02,\n",
              "       1.e-01, 1.e+00])"
            ]
          },
          "metadata": {
            "tags": []
          },
          "execution_count": 27
        }
      ]
    },
    {
      "cell_type": "code",
      "metadata": {
        "id": "GhDK1jvL7S-S"
      },
      "source": [
        "scores = []\n",
        "coefs = []\n",
        "for alpha in alphas:\n",
        "  las = Lasso(alpha=alpha, max_iter=100000)\n",
        "\n",
        "  estimator = Pipeline([('scaler', s),\n",
        "                        ('lasso_regression', las)])\n",
        "  \n",
        "  predictions = cross_val_predict(estimator, X, y, cv=kf)\n",
        "\n",
        "  score = r2_score(y, predictions)\n",
        "\n",
        "  scores.append(score)"
      ],
      "execution_count": null,
      "outputs": []
    },
    {
      "cell_type": "code",
      "metadata": {
        "colab": {
          "base_uri": "https://localhost:8080/"
        },
        "id": "k19Tagmm72oL",
        "outputId": "30201d4c-b235-4027-f289-47df6d8c2c3b"
      },
      "source": [
        "list(zip(alphas, scores))"
      ],
      "execution_count": null,
      "outputs": [
        {
          "output_type": "execute_result",
          "data": {
            "text/plain": [
              "[(1e-09, 0.7063531064981925),\n",
              " (1e-08, 0.7063531072356071),\n",
              " (1e-07, 0.7063531145602442),\n",
              " (1e-06, 0.7063531882052063),\n",
              " (1e-05, 0.7063539165191507),\n",
              " (0.0001, 0.706361268093463),\n",
              " (0.001, 0.706433467041546),\n",
              " (0.01, 0.7070865958083233),\n",
              " (0.1, 0.705838151167185),\n",
              " (1.0, 0.6512724532884888)]"
            ]
          },
          "metadata": {
            "tags": []
          },
          "execution_count": 29
        }
      ]
    },
    {
      "cell_type": "code",
      "metadata": {
        "colab": {
          "base_uri": "https://localhost:8080/"
        },
        "id": "jWfhV3bF8bYM",
        "outputId": "2c091e3d-af24-47ab-b7db-6a606724e466"
      },
      "source": [
        "Lasso(alpha=1e-6).fit(X, y).coef_"
      ],
      "execution_count": null,
      "outputs": [
        {
          "output_type": "execute_result",
          "data": {
            "text/plain": [
              "array([-1.07170372e-01,  4.63952623e-02,  2.08588308e-02,  2.68854318e+00,\n",
              "       -1.77954207e+01,  3.80475296e+00,  7.50802707e-04, -1.47575348e+00,\n",
              "        3.05654279e-01, -1.23293755e-02, -9.53459908e-01,  9.39253013e-03,\n",
              "       -5.25467196e-01])"
            ]
          },
          "metadata": {
            "tags": []
          },
          "execution_count": 30
        }
      ]
    },
    {
      "cell_type": "code",
      "metadata": {
        "colab": {
          "base_uri": "https://localhost:8080/"
        },
        "id": "fLopQEj78gQS",
        "outputId": "1b76765c-c650-4eb9-8590-b140df888eb9"
      },
      "source": [
        "Lasso(alpha=1.0).fit(X, y).coef_"
      ],
      "execution_count": null,
      "outputs": [
        {
          "output_type": "execute_result",
          "data": {
            "text/plain": [
              "array([-0.06342255,  0.04916867, -0.        ,  0.        , -0.        ,\n",
              "        0.94678567,  0.02092737, -0.66900864,  0.26417501, -0.01520915,\n",
              "       -0.72319901,  0.00829117, -0.76143296])"
            ]
          },
          "metadata": {
            "tags": []
          },
          "execution_count": 31
        }
      ]
    },
    {
      "cell_type": "code",
      "metadata": {
        "colab": {
          "base_uri": "https://localhost:8080/",
          "height": 412
        },
        "id": "cEbr0Q3X74rB",
        "outputId": "aa2b445c-80f7-49bb-b2f4-cbccfeba4407"
      },
      "source": [
        "plt.figure(figsize=(10,6))\n",
        "plt.semilogx(alphas, scores, '-o')\n",
        "plt.xlabel('$\\\\alpha$')\n",
        "plt.ylabel('$R^2$');"
      ],
      "execution_count": null,
      "outputs": [
        {
          "output_type": "display_data",
          "data": {
            "image/png": "[encoded data removed]",
            "text/plain": [
              "<Figure size 720x432 with 1 Axes>"
            ]
          },
          "metadata": {
            "tags": []
          }
        }
      ]
    },
    {
      "cell_type": "markdown",
      "metadata": {
        "id": "ZylaPxku88vO"
      },
      "source": [
        "#### **Exercise:** Polynomial Features and Pipeline\n",
        "\n",
        "Add `PolynomialFeatures` to this `Pipeline`, and re-run the cross validation with the `PolynomialFeatures` added.\n",
        "\n",
        "**Hint #1:** pipelines process input from first to last. Think about the order that it would make sense to add Polynomial Features to the data in sequence and add them in the appropriate place in the pipeline.\n",
        "\n",
        "**Hint #2:** you should see a significant increase in cross validation accuracy from doing this"
      ]
    },
    {
      "cell_type": "code",
      "metadata": {
        "colab": {
          "base_uri": "https://localhost:8080/"
        },
        "id": "FPpOzEuf8JzJ",
        "outputId": "521df5ee-60ef-47da-f6b4-74afd27c64f8"
      },
      "source": [
        "pf = PolynomialFeatures(degree=3)\n",
        "\n",
        "scores = []\n",
        "alphas = np.geomspace(0.001, 10, 5)\n",
        "for alpha in alphas:\n",
        "  las = Lasso(alpha=alpha, max_iter=100000)\n",
        "\n",
        "  estimator = Pipeline([('make_higher_degree', pf),\n",
        "                        ('scaler', s),\n",
        "                        ('lasso_regression', las)])\n",
        "  \n",
        "  predictions = cross_val_predict(estimator, X, y, cv=kf)\n",
        "  \n",
        "  score = r2_score(y, predictions)\n",
        "\n",
        "  scores.append(score)"
      ],
      "execution_count": null,
      "outputs": [
        {
          "output_type": "stream",
          "text": [
            "/usr/local/lib/python3.7/dist-packages/sklearn/linear_model/_coordinate_descent.py:476: ConvergenceWarning: Objective did not converge. You might want to increase the number of iterations. Duality gap: 40.838350315978914, tolerance: 2.73469821958457\n",
            "  positive)\n",
            "/usr/local/lib/python3.7/dist-packages/sklearn/linear_model/_coordinate_descent.py:476: ConvergenceWarning: Objective did not converge. You might want to increase the number of iterations. Duality gap: 33.42698296107426, tolerance: 2.777101952522255\n",
            "  positive)\n",
            "/usr/local/lib/python3.7/dist-packages/sklearn/linear_model/_coordinate_descent.py:476: ConvergenceWarning: Objective did not converge. You might want to increase the number of iterations. Duality gap: 38.853000368234916, tolerance: 3.030405585798817\n",
            "  positive)\n"
          ],
          "name": "stderr"
        }
      ]
    },
    {
      "cell_type": "markdown",
      "metadata": {
        "id": "YUlog_MjH8la"
      },
      "source": [
        "If you store the results in a list called `scores`, the following will work:"
      ]
    },
    {
      "cell_type": "code",
      "metadata": {
        "colab": {
          "base_uri": "https://localhost:8080/"
        },
        "id": "lj4Z6uGVH7AP",
        "outputId": "cc553fc2-7de0-40af-9430-aef22baa500e"
      },
      "source": [
        "alphas"
      ],
      "execution_count": null,
      "outputs": [
        {
          "output_type": "execute_result",
          "data": {
            "text/plain": [
              "array([1.e-03, 1.e-02, 1.e-01, 1.e+00, 1.e+01])"
            ]
          },
          "metadata": {
            "tags": []
          },
          "execution_count": 34
        }
      ]
    },
    {
      "cell_type": "code",
      "metadata": {
        "colab": {
          "base_uri": "https://localhost:8080/"
        },
        "id": "pHNftfjqICz9",
        "outputId": "dfd404dd-ada0-4109-9ef0-bd4033fba8ac"
      },
      "source": [
        "scores"
      ],
      "execution_count": null,
      "outputs": [
        {
          "output_type": "execute_result",
          "data": {
            "text/plain": [
              "[0.7697086980421659,\n",
              " 0.8591002095361691,\n",
              " 0.8280423631185617,\n",
              " 0.7328688516176427,\n",
              " -0.000616160136140298]"
            ]
          },
          "metadata": {
            "tags": []
          },
          "execution_count": 35
        }
      ]
    },
    {
      "cell_type": "code",
      "metadata": {
        "colab": {
          "base_uri": "https://localhost:8080/",
          "height": 281
        },
        "id": "ctNIwACoIDOF",
        "outputId": "075fd7e9-9911-48eb-a2d8-f07909b6359d"
      },
      "source": [
        "plt.semilogx(alphas, scores);"
      ],
      "execution_count": null,
      "outputs": [
        {
          "output_type": "display_data",
          "data": {
            "image/png": "[encoded data removed]",
            "text/plain": [
              "<Figure size 432x288 with 1 Axes>"
            ]
          },
          "metadata": {
            "tags": []
          }
        }
      ]
    },
    {
      "cell_type": "code",
      "metadata": {
        "colab": {
          "base_uri": "https://localhost:8080/"
        },
        "id": "pmpeLsO1IH18",
        "outputId": "bdfdd843-84fa-46dc-dd3c-1873adf3027e"
      },
      "source": [
        "best_estimator = Pipeline([('make_higher_degree', PolynomialFeatures(degree=2)),\n",
        "                           ('scaler', s),\n",
        "                           ('lasso_regression', Lasso(alpha=0.01, max_iter=10000))])\n",
        "\n",
        "best_estimator.fit(X, y)\n",
        "best_estimator.score(X, y)"
      ],
      "execution_count": null,
      "outputs": [
        {
          "output_type": "execute_result",
          "data": {
            "text/plain": [
              "0.9032551408154241"
            ]
          },
          "metadata": {
            "tags": []
          },
          "execution_count": 37
        }
      ]
    },
    {
      "cell_type": "code",
      "metadata": {
        "colab": {
          "base_uri": "https://localhost:8080/"
        },
        "id": "6QWmsXs9Ihxv",
        "outputId": "eba7108d-8162-424b-b817-289d27a7cead"
      },
      "source": [
        "best_estimator.named_steps['lasso_regression'].coef_"
      ],
      "execution_count": null,
      "outputs": [
        {
          "output_type": "execute_result",
          "data": {
            "text/plain": [
              "array([ 0.00000000e+00, -0.00000000e+00, -0.00000000e+00,  0.00000000e+00,\n",
              "        4.61127587e+00,  0.00000000e+00,  6.24240557e-01,  0.00000000e+00,\n",
              "       -7.22878514e+00,  9.74968793e+00,  0.00000000e+00,  0.00000000e+00,\n",
              "        6.34548325e-01,  0.00000000e+00,  9.95741679e-01, -5.51374291e-03,\n",
              "       -0.00000000e+00,  2.44370838e+00, -2.40444044e+00, -0.00000000e+00,\n",
              "       -0.00000000e+00, -2.23044443e-01, -0.00000000e+00, -0.00000000e+00,\n",
              "       -0.00000000e+00, -2.88128934e-01,  5.17203914e-01,  3.07715719e-01,\n",
              "       -3.39853933e-01, -9.86590910e-02, -0.00000000e+00,  2.72847487e-01,\n",
              "       -0.00000000e+00, -6.39829763e-01, -3.16474346e-01,  1.44555554e+00,\n",
              "        0.00000000e+00, -0.00000000e+00, -8.84630187e-01,  1.32081558e+00,\n",
              "        0.00000000e+00,  0.00000000e+00, -0.00000000e+00,  2.63148300e+00,\n",
              "       -2.62941147e-01,  0.00000000e+00,  9.08410143e-01, -8.17144528e-01,\n",
              "        0.00000000e+00, -4.31628234e+00,  5.53254405e-01, -2.91912598e+00,\n",
              "       -4.68486241e+00,  5.80360142e-01,  6.93705854e-01, -1.43087388e+00,\n",
              "       -0.00000000e+00,  0.00000000e+00,  1.80219873e+00, -7.93324201e-01,\n",
              "        0.00000000e+00, -2.99366807e-01, -0.00000000e+00, -0.00000000e+00,\n",
              "       -9.26619562e-01, -0.00000000e+00, -1.52207140e+00,  0.00000000e+00,\n",
              "        1.59132103e-01,  8.59406852e+00, -1.79580442e+00,  0.00000000e+00,\n",
              "       -4.43064063e+00, -6.67704537e+00, -2.78398024e+00,  4.36511083e-01,\n",
              "       -2.07418701e+00, -0.00000000e+00,  4.42278783e-01,  1.97121461e+00,\n",
              "        0.00000000e+00, -0.00000000e+00, -5.63885266e-01, -1.90366836e+00,\n",
              "        3.79255941e+00, -0.00000000e+00, -3.58998427e-01,  3.99107900e-01,\n",
              "       -0.00000000e+00,  8.70546159e-01, -0.00000000e+00,  0.00000000e+00,\n",
              "        0.00000000e+00,  0.00000000e+00, -4.54568143e+00,  0.00000000e+00,\n",
              "        5.12959518e+00,  0.00000000e+00, -6.41075173e-01,  3.19584847e-01,\n",
              "        1.08275771e+00,  0.00000000e+00, -4.07836880e-01, -1.15427697e+00,\n",
              "        5.63522883e+00])"
            ]
          },
          "metadata": {
            "tags": []
          },
          "execution_count": 38
        }
      ]
    },
    {
      "cell_type": "markdown",
      "metadata": {
        "id": "NFsaA8WcJgwI"
      },
      "source": [
        "#### **Exercise:** Ridge Regression\n",
        "\n",
        "Do the same, but with `Ridge` regression \n",
        "\n",
        "Which model, `Ridge` or `Lasso`, performs best with its optimal hyperparameters on the Boston dataset?"
      ]
    },
    {
      "cell_type": "code",
      "metadata": {
        "colab": {
          "base_uri": "https://localhost:8080/",
          "height": 279
        },
        "id": "A40CPb4_In8V",
        "outputId": "ca66e49f-e175-471b-b830-2b7e2b5a007d"
      },
      "source": [
        "pf = PolynomialFeatures(degree=2)\n",
        "alphas = np.geomspace(0.1, 2, 20)\n",
        "scores = []\n",
        "for alpha in alphas:\n",
        "  ridge = Ridge(alpha=alpha, max_iter=100000)\n",
        "\n",
        "  estimator = Pipeline([('polynomial_features', pf),\n",
        "                        ('scaler', s),\n",
        "                        ('ridge_regression', ridge)])\n",
        "  \n",
        "  predictions = cross_val_predict(estimator, X, y, cv=kf)\n",
        "\n",
        "  score = r2_score(y, predictions)\n",
        "  scores.append(score)\n",
        "\n",
        "plt.plot(alphas, scores);"
      ],
      "execution_count": null,
      "outputs": [
        {
          "output_type": "display_data",
          "data": {
            "image/png": "[encoded data removed]",
            "text/plain": [
              "<Figure size 432x288 with 1 Axes>"
            ]
          },
          "metadata": {
            "tags": []
          }
        }
      ]
    },
    {
      "cell_type": "markdown",
      "metadata": {
        "id": "bmxo9-ctr1Lt"
      },
      "source": [
        "**Conclusion:** Both Lasso and Ridge with proper hyperparameter tuning give better results than plain ol' Linear Regression!"
      ]
    },
    {
      "cell_type": "markdown",
      "metadata": {
        "id": "dMdl-4Yfsbl6"
      },
      "source": [
        "#### **Exercise:** Feature Importances\n",
        "\n",
        "Now, for whatever your best overall hyperparameter was: \n",
        "\n",
        "* Standardize the data\n",
        "* Fit and predict on the entire dataset\n",
        "* See what the largest coefficients were\n",
        "    * Hint: use \n",
        "    ```python\n",
        "    dict(zip(model.coef_, pf.get_feature_names()))\n",
        "    ```\n",
        "    for your model `model` to get the feature names from `PolynomialFeatures`.\n",
        "    \n",
        "    Then, use\n",
        "    ```python\n",
        "    dict(zip(list(range(len(X.columns.values))), X.columns.values))\n",
        "    ```\n",
        "    \n",
        "    to see which features in the `PolynomialFeatures` DataFrame correspond to which columns in the original DataFrame.\n"
      ]
    },
    {
      "cell_type": "code",
      "metadata": {
        "colab": {
          "base_uri": "https://localhost:8080/"
        },
        "id": "g5seO8mxLDSB",
        "outputId": "de848eda-8b45-4652-ba74-38dd7daeedd6"
      },
      "source": [
        "# Once we have found the hyperparameter (alpha~1e-2=0.01)\n",
        "# make the model and train it on ALL the data\n",
        "\n",
        "best_estimator = Pipeline([('make_higher_degree', PolynomialFeatures(degree=2, include_bias=False)),\n",
        "                           ('scaler', s),\n",
        "                           ('lasso_regression', Lasso(alpha=0.01))])\n",
        "\n",
        "best_estimator.fit(X, y)\n",
        "best_estimator.score(X, y)"
      ],
      "execution_count": null,
      "outputs": [
        {
          "output_type": "stream",
          "text": [
            "/usr/local/lib/python3.7/dist-packages/sklearn/linear_model/_coordinate_descent.py:476: ConvergenceWarning: Objective did not converge. You might want to increase the number of iterations. Duality gap: 838.7320342368375, tolerance: 4.2716295415019765\n",
            "  positive)\n"
          ],
          "name": "stderr"
        },
        {
          "output_type": "execute_result",
          "data": {
            "text/plain": [
              "0.9047578542960124"
            ]
          },
          "metadata": {
            "tags": []
          },
          "execution_count": 40
        }
      ]
    },
    {
      "cell_type": "code",
      "metadata": {
        "id": "wrmT8LZ3uTeq"
      },
      "source": [
        "df_importances = pd.DataFrame(zip(best_estimator.named_steps['make_higher_degree'].get_feature_names(input_features=X.columns),\n",
        "                                  best_estimator.named_steps['lasso_regression'].coef_))"
      ],
      "execution_count": null,
      "outputs": []
    },
    {
      "cell_type": "code",
      "metadata": {
        "colab": {
          "base_uri": "https://localhost:8080/",
          "height": 419
        },
        "id": "kOy3zGcoxZ9D",
        "outputId": "481867b4-27fd-4d33-96f6-124d3b032928"
      },
      "source": [
        "df_importances.sort_values(by=1)"
      ],
      "execution_count": null,
      "outputs": [
        {
          "output_type": "execute_result",
          "data": {
            "text/html": [
              "<div>\n",
              "<style scoped>\n",
              "    .dataframe tbody tr th:only-of-type {\n",
              "        vertical-align: middle;\n",
              "    }\n",
              "\n",
              "    .dataframe tbody tr th {\n",
              "        vertical-align: top;\n",
              "    }\n",
              "\n",
              "    .dataframe thead th {\n",
              "        text-align: right;\n",
              "    }\n",
              "</style>\n",
              "<table border=\"1\" class=\"dataframe\">\n",
              "  <thead>\n",
              "    <tr style=\"text-align: right;\">\n",
              "      <th></th>\n",
              "      <th>0</th>\n",
              "      <th>1</th>\n",
              "    </tr>\n",
              "  </thead>\n",
              "  <tbody>\n",
              "    <tr>\n",
              "      <th>72</th>\n",
              "      <td>RM TAX</td>\n",
              "      <td>-7.484883</td>\n",
              "    </tr>\n",
              "    <tr>\n",
              "      <th>63</th>\n",
              "      <td>NOX RAD</td>\n",
              "      <td>-5.324131</td>\n",
              "    </tr>\n",
              "    <tr>\n",
              "      <th>71</th>\n",
              "      <td>RM RAD</td>\n",
              "      <td>-4.516639</td>\n",
              "    </tr>\n",
              "    <tr>\n",
              "      <th>93</th>\n",
              "      <td>RAD LSTAT</td>\n",
              "      <td>-4.455994</td>\n",
              "    </tr>\n",
              "    <tr>\n",
              "      <th>48</th>\n",
              "      <td>INDUS LSTAT</td>\n",
              "      <td>-4.416767</td>\n",
              "    </tr>\n",
              "    <tr>\n",
              "      <th>...</th>\n",
              "      <td>...</td>\n",
              "      <td>...</td>\n",
              "    </tr>\n",
              "    <tr>\n",
              "      <th>3</th>\n",
              "      <td>CHAS</td>\n",
              "      <td>4.057486</td>\n",
              "    </tr>\n",
              "    <tr>\n",
              "      <th>103</th>\n",
              "      <td>LSTAT^2</td>\n",
              "      <td>5.467342</td>\n",
              "    </tr>\n",
              "    <tr>\n",
              "      <th>95</th>\n",
              "      <td>TAX PTRATIO</td>\n",
              "      <td>7.142666</td>\n",
              "    </tr>\n",
              "    <tr>\n",
              "      <th>68</th>\n",
              "      <td>RM^2</td>\n",
              "      <td>8.325413</td>\n",
              "    </tr>\n",
              "    <tr>\n",
              "      <th>91</th>\n",
              "      <td>RAD PTRATIO</td>\n",
              "      <td>13.206508</td>\n",
              "    </tr>\n",
              "  </tbody>\n",
              "</table>\n",
              "<p>104 rows × 2 columns</p>\n",
              "</div>"
            ],
            "text/plain": [
              "               0          1\n",
              "72        RM TAX  -7.484883\n",
              "63       NOX RAD  -5.324131\n",
              "71        RM RAD  -4.516639\n",
              "93     RAD LSTAT  -4.455994\n",
              "48   INDUS LSTAT  -4.416767\n",
              "..           ...        ...\n",
              "3           CHAS   4.057486\n",
              "103      LSTAT^2   5.467342\n",
              "95   TAX PTRATIO   7.142666\n",
              "68          RM^2   8.325413\n",
              "91   RAD PTRATIO  13.206508\n",
              "\n",
              "[104 rows x 2 columns]"
            ]
          },
          "metadata": {
            "tags": []
          },
          "execution_count": 42
        }
      ]
    },
    {
      "cell_type": "markdown",
      "metadata": {
        "id": "Czfempz0yKMX"
      },
      "source": [
        "#### **Exercise:** Grid Search CV\n",
        "\n",
        "To do cross-validation, we used two techniques:\n",
        "- use `KFolds` and manually create a loop to do cross-validation\n",
        "- use `cross_val_predict` and `score` to get a cross-valiated score in a couple of lines.\n",
        "\n",
        "To do hyper-parameter tuning, we see a general pattern:\n",
        "- use `cross_val_predict` and `score` in a manually written loop over hyperparemeters, then select the best one.\n",
        "\n",
        "Perhaps not surprisingly, there is a function that does this for us -- `GridSearchCV`"
      ]
    },
    {
      "cell_type": "code",
      "metadata": {
        "id": "5R050FF3xdFL"
      },
      "source": [
        "from sklearn.model_selection import GridSearchCV\n",
        "\n",
        "# same estimator as before\n",
        "estimator = Pipeline([('polynomial_features', PolynomialFeatures()),\n",
        "                      ('scaler', StandardScaler()),\n",
        "                      ('ridge_regression', Ridge())])\n",
        "\n",
        "params = {'polynomial_features__degree': [1, 2, 3],\n",
        "          'ridge_regression__alpha': np.geomspace(4, 20, 30)}\n",
        "\n",
        "grid = GridSearchCV(estimator, params, cv=kf)"
      ],
      "execution_count": null,
      "outputs": []
    },
    {
      "cell_type": "code",
      "metadata": {
        "colab": {
          "base_uri": "https://localhost:8080/"
        },
        "id": "sV-m6WrdzPS1",
        "outputId": "b22e4673-8c76-4bf2-ce42-fc27fb512581"
      },
      "source": [
        "grid.fit(X,y)"
      ],
      "execution_count": null,
      "outputs": [
        {
          "output_type": "execute_result",
          "data": {
            "text/plain": [
              "GridSearchCV(cv=KFold(n_splits=3, random_state=72018, shuffle=True),\n",
              "             error_score=nan,\n",
              "             estimator=Pipeline(memory=None,\n",
              "                                steps=[('polynomial_features',\n",
              "                                        PolynomialFeatures(degree=2,\n",
              "                                                           include_bias=True,\n",
              "                                                           interaction_only=False,\n",
              "                                                           order='C')),\n",
              "                                       ('scaler',\n",
              "                                        StandardScaler(copy=True,\n",
              "                                                       with_mean=True,\n",
              "                                                       with_std=True)),\n",
              "                                       ('ridge_regression',\n",
              "                                        Ridge(alpha=1.0, copy_X=True,\n",
              "                                              fit_intercep...\n",
              "        5.27924796,  5.58051751,  5.89897953,  6.23561514,  6.59146146,\n",
              "        6.96761476,  7.36523392,  7.78554391,  8.22983963,  8.69948987,\n",
              "        9.19594151,  9.72072404, 10.27545421, 10.86184103, 11.48169104,\n",
              "       12.13691388, 12.82952815, 13.56166768, 14.33558803, 15.15367351,\n",
              "       16.01844446, 16.93256509, 17.89885162, 18.92028098, 20.        ])},\n",
              "             pre_dispatch='2*n_jobs', refit=True, return_train_score=False,\n",
              "             scoring=None, verbose=0)"
            ]
          },
          "metadata": {
            "tags": []
          },
          "execution_count": 44
        }
      ]
    },
    {
      "cell_type": "code",
      "metadata": {
        "colab": {
          "base_uri": "https://localhost:8080/"
        },
        "id": "WeIlpJLtzQoz",
        "outputId": "65f955a3-562e-4347-e5c5-f0702165c955"
      },
      "source": [
        "grid.best_score_, grid.best_params_"
      ],
      "execution_count": null,
      "outputs": [
        {
          "output_type": "execute_result",
          "data": {
            "text/plain": [
              "(0.8546333782070428,\n",
              " {'polynomial_features__degree': 2, 'ridge_regression__alpha': 4.0})"
            ]
          },
          "metadata": {
            "tags": []
          },
          "execution_count": 45
        }
      ]
    },
    {
      "cell_type": "code",
      "metadata": {
        "id": "haPtrV4jzV5M"
      },
      "source": [
        "y_predict = grid.predict(X)"
      ],
      "execution_count": null,
      "outputs": []
    },
    {
      "cell_type": "code",
      "metadata": {
        "colab": {
          "base_uri": "https://localhost:8080/"
        },
        "id": "9i-7q474zbbT",
        "outputId": "181036fb-e236-4010-92b6-7848b32aab19"
      },
      "source": [
        "r2_score(y, y_predict)"
      ],
      "execution_count": null,
      "outputs": [
        {
          "output_type": "execute_result",
          "data": {
            "text/plain": [
              "0.8964707714558113"
            ]
          },
          "metadata": {
            "tags": []
          },
          "execution_count": 47
        }
      ]
    },
    {
      "cell_type": "code",
      "metadata": {
        "colab": {
          "base_uri": "https://localhost:8080/"
        },
        "id": "TBGDcY7Kzdhc",
        "outputId": "51692740-bb64-4936-f309-42d450662d51"
      },
      "source": [
        "grid.best_estimator_.named_steps['ridge_regression'].coef_"
      ],
      "execution_count": null,
      "outputs": [
        {
          "output_type": "execute_result",
          "data": {
            "text/plain": [
              "array([ 0.00000000e+00,  2.47147038e-01, -1.18377806e+00,  1.11700133e+00,\n",
              "        1.02268931e+00,  1.11573592e+00,  2.63515343e+00,  1.60400844e+00,\n",
              "       -2.44378403e+00,  2.67549673e+00,  1.18120641e+00,  3.00931414e-01,\n",
              "        7.17164316e-01,  5.46697603e-01,  1.16368605e+00,  2.78583120e-01,\n",
              "        4.15770986e-01,  2.45396270e+00, -1.07012228e+00, -8.15812777e-01,\n",
              "       -2.95036466e-01, -8.26480829e-01, -4.23552596e-01, -4.33022591e-02,\n",
              "        8.34930099e-02, -4.92838202e-01,  5.12447325e-01,  5.88355149e-01,\n",
              "       -3.50662224e-01, -1.39184102e-01, -2.99737738e-01,  1.02696466e+00,\n",
              "        1.47705864e-02, -6.87593891e-01, -3.12176710e-01,  1.26476807e+00,\n",
              "        1.01258007e+00, -5.51925730e-01, -8.62269698e-01,  8.78832853e-01,\n",
              "        6.75975245e-02,  5.91362874e-01, -1.45086000e+00,  1.09286634e+00,\n",
              "       -7.69112663e-01,  1.16978387e+00,  1.29460196e+00, -7.36888615e-01,\n",
              "        7.29205860e-01, -2.44086792e+00,  1.02268931e+00, -2.26162754e+00,\n",
              "       -2.56091292e+00,  7.93445821e-01,  8.93650928e-01, -1.40176885e+00,\n",
              "       -5.90308431e-01,  6.48531603e-01,  1.51647270e+00, -6.34275596e-01,\n",
              "       -2.70133478e-01, -1.21405240e+00, -7.39233780e-01, -1.08452081e+00,\n",
              "       -5.78990020e-01, -7.37795974e-01, -1.12672094e+00,  2.99935516e-01,\n",
              "        2.82902653e-01,  5.69116051e+00, -1.25149671e+00,  4.71964702e-01,\n",
              "       -2.26642600e+00, -3.64722981e+00, -2.98653723e+00,  1.61479424e+00,\n",
              "       -3.45481774e+00,  1.74801027e-01,  1.85117505e-05,  1.67217459e+00,\n",
              "        2.86547168e-01, -7.33885392e-02, -1.23850226e+00, -1.78673478e+00,\n",
              "        2.25040443e+00,  4.28050229e-01, -1.14432376e+00,  1.09490308e-01,\n",
              "       -1.11626912e+00,  1.53508126e+00, -6.30486265e-01,  6.70247233e-01,\n",
              "        2.24813158e+00,  3.12190879e-01, -2.71959257e+00,  2.18644985e-02,\n",
              "        1.81340123e+00, -6.61376315e-02, -2.14156164e+00,  8.38822098e-01,\n",
              "        3.11177198e-01,  2.69570504e-01, -6.64708129e-01, -1.41443974e+00,\n",
              "        4.63455327e+00])"
            ]
          },
          "metadata": {
            "tags": []
          },
          "execution_count": 48
        }
      ]
    },
    {
      "cell_type": "code",
      "metadata": {
        "colab": {
          "base_uri": "https://localhost:8080/",
          "height": 609
        },
        "id": "lzR4slMIz5s9",
        "outputId": "b5459917-9502-4a95-f7c6-1c40ecc8ad8a"
      },
      "source": [
        "pd.DataFrame(grid.cv_results_)"
      ],
      "execution_count": null,
      "outputs": [
        {
          "output_type": "execute_result",
          "data": {
            "text/html": [
              "<div>\n",
              "<style scoped>\n",
              "    .dataframe tbody tr th:only-of-type {\n",
              "        vertical-align: middle;\n",
              "    }\n",
              "\n",
              "    .dataframe tbody tr th {\n",
              "        vertical-align: top;\n",
              "    }\n",
              "\n",
              "    .dataframe thead th {\n",
              "        text-align: right;\n",
              "    }\n",
              "</style>\n",
              "<table border=\"1\" class=\"dataframe\">\n",
              "  <thead>\n",
              "    <tr style=\"text-align: right;\">\n",
              "      <th></th>\n",
              "      <th>mean_fit_time</th>\n",
              "      <th>std_fit_time</th>\n",
              "      <th>mean_score_time</th>\n",
              "      <th>std_score_time</th>\n",
              "      <th>param_polynomial_features__degree</th>\n",
              "      <th>param_ridge_regression__alpha</th>\n",
              "      <th>params</th>\n",
              "      <th>split0_test_score</th>\n",
              "      <th>split1_test_score</th>\n",
              "      <th>split2_test_score</th>\n",
              "      <th>mean_test_score</th>\n",
              "      <th>std_test_score</th>\n",
              "      <th>rank_test_score</th>\n",
              "    </tr>\n",
              "  </thead>\n",
              "  <tbody>\n",
              "    <tr>\n",
              "      <th>0</th>\n",
              "      <td>0.004220</td>\n",
              "      <td>0.001576</td>\n",
              "      <td>0.001525</td>\n",
              "      <td>0.000158</td>\n",
              "      <td>1</td>\n",
              "      <td>4</td>\n",
              "      <td>{'polynomial_features__degree': 1, 'ridge_regr...</td>\n",
              "      <td>0.672111</td>\n",
              "      <td>0.748235</td>\n",
              "      <td>0.701801</td>\n",
              "      <td>0.707382</td>\n",
              "      <td>0.031327</td>\n",
              "      <td>90</td>\n",
              "    </tr>\n",
              "    <tr>\n",
              "      <th>1</th>\n",
              "      <td>0.002881</td>\n",
              "      <td>0.000011</td>\n",
              "      <td>0.001334</td>\n",
              "      <td>0.000013</td>\n",
              "      <td>1</td>\n",
              "      <td>4.22827</td>\n",
              "      <td>{'polynomial_features__degree': 1, 'ridge_regr...</td>\n",
              "      <td>0.672103</td>\n",
              "      <td>0.748207</td>\n",
              "      <td>0.701986</td>\n",
              "      <td>0.707432</td>\n",
              "      <td>0.031307</td>\n",
              "      <td>89</td>\n",
              "    </tr>\n",
              "    <tr>\n",
              "      <th>2</th>\n",
              "      <td>0.003062</td>\n",
              "      <td>0.000018</td>\n",
              "      <td>0.001371</td>\n",
              "      <td>0.000028</td>\n",
              "      <td>1</td>\n",
              "      <td>4.46956</td>\n",
              "      <td>{'polynomial_features__degree': 1, 'ridge_regr...</td>\n",
              "      <td>0.672093</td>\n",
              "      <td>0.748175</td>\n",
              "      <td>0.702178</td>\n",
              "      <td>0.707482</td>\n",
              "      <td>0.031286</td>\n",
              "      <td>88</td>\n",
              "    </tr>\n",
              "    <tr>\n",
              "      <th>3</th>\n",
              "      <td>0.003002</td>\n",
              "      <td>0.000038</td>\n",
              "      <td>0.001396</td>\n",
              "      <td>0.000029</td>\n",
              "      <td>1</td>\n",
              "      <td>4.72462</td>\n",
              "      <td>{'polynomial_features__degree': 1, 'ridge_regr...</td>\n",
              "      <td>0.672081</td>\n",
              "      <td>0.748141</td>\n",
              "      <td>0.702375</td>\n",
              "      <td>0.707533</td>\n",
              "      <td>0.031265</td>\n",
              "      <td>87</td>\n",
              "    </tr>\n",
              "    <tr>\n",
              "      <th>4</th>\n",
              "      <td>0.003058</td>\n",
              "      <td>0.000112</td>\n",
              "      <td>0.001402</td>\n",
              "      <td>0.000011</td>\n",
              "      <td>1</td>\n",
              "      <td>4.99424</td>\n",
              "      <td>{'polynomial_features__degree': 1, 'ridge_regr...</td>\n",
              "      <td>0.672067</td>\n",
              "      <td>0.748104</td>\n",
              "      <td>0.702579</td>\n",
              "      <td>0.707583</td>\n",
              "      <td>0.031243</td>\n",
              "      <td>86</td>\n",
              "    </tr>\n",
              "    <tr>\n",
              "      <th>...</th>\n",
              "      <td>...</td>\n",
              "      <td>...</td>\n",
              "      <td>...</td>\n",
              "      <td>...</td>\n",
              "      <td>...</td>\n",
              "      <td>...</td>\n",
              "      <td>...</td>\n",
              "      <td>...</td>\n",
              "      <td>...</td>\n",
              "      <td>...</td>\n",
              "      <td>...</td>\n",
              "      <td>...</td>\n",
              "      <td>...</td>\n",
              "    </tr>\n",
              "    <tr>\n",
              "      <th>85</th>\n",
              "      <td>0.026267</td>\n",
              "      <td>0.008167</td>\n",
              "      <td>0.006178</td>\n",
              "      <td>0.001611</td>\n",
              "      <td>3</td>\n",
              "      <td>16.0184</td>\n",
              "      <td>{'polynomial_features__degree': 3, 'ridge_regr...</td>\n",
              "      <td>0.827782</td>\n",
              "      <td>0.867759</td>\n",
              "      <td>0.859693</td>\n",
              "      <td>0.851745</td>\n",
              "      <td>0.017261</td>\n",
              "      <td>23</td>\n",
              "    </tr>\n",
              "    <tr>\n",
              "      <th>86</th>\n",
              "      <td>0.019066</td>\n",
              "      <td>0.001196</td>\n",
              "      <td>0.004321</td>\n",
              "      <td>0.000578</td>\n",
              "      <td>3</td>\n",
              "      <td>16.9326</td>\n",
              "      <td>{'polynomial_features__degree': 3, 'ridge_regr...</td>\n",
              "      <td>0.827717</td>\n",
              "      <td>0.867351</td>\n",
              "      <td>0.859455</td>\n",
              "      <td>0.851508</td>\n",
              "      <td>0.017129</td>\n",
              "      <td>25</td>\n",
              "    </tr>\n",
              "    <tr>\n",
              "      <th>87</th>\n",
              "      <td>0.020334</td>\n",
              "      <td>0.000122</td>\n",
              "      <td>0.005138</td>\n",
              "      <td>0.000880</td>\n",
              "      <td>3</td>\n",
              "      <td>17.8989</td>\n",
              "      <td>{'polynomial_features__degree': 3, 'ridge_regr...</td>\n",
              "      <td>0.827628</td>\n",
              "      <td>0.866926</td>\n",
              "      <td>0.859179</td>\n",
              "      <td>0.851244</td>\n",
              "      <td>0.016996</td>\n",
              "      <td>27</td>\n",
              "    </tr>\n",
              "    <tr>\n",
              "      <th>88</th>\n",
              "      <td>0.021022</td>\n",
              "      <td>0.001735</td>\n",
              "      <td>0.004264</td>\n",
              "      <td>0.000271</td>\n",
              "      <td>3</td>\n",
              "      <td>18.9203</td>\n",
              "      <td>{'polynomial_features__degree': 3, 'ridge_regr...</td>\n",
              "      <td>0.827515</td>\n",
              "      <td>0.866483</td>\n",
              "      <td>0.858866</td>\n",
              "      <td>0.850955</td>\n",
              "      <td>0.016863</td>\n",
              "      <td>30</td>\n",
              "    </tr>\n",
              "    <tr>\n",
              "      <th>89</th>\n",
              "      <td>0.035308</td>\n",
              "      <td>0.012461</td>\n",
              "      <td>0.007327</td>\n",
              "      <td>0.002086</td>\n",
              "      <td>3</td>\n",
              "      <td>20</td>\n",
              "      <td>{'polynomial_features__degree': 3, 'ridge_regr...</td>\n",
              "      <td>0.827380</td>\n",
              "      <td>0.866023</td>\n",
              "      <td>0.858513</td>\n",
              "      <td>0.850639</td>\n",
              "      <td>0.016730</td>\n",
              "      <td>32</td>\n",
              "    </tr>\n",
              "  </tbody>\n",
              "</table>\n",
              "<p>90 rows × 13 columns</p>\n",
              "</div>"
            ],
            "text/plain": [
              "    mean_fit_time  std_fit_time  ...  std_test_score  rank_test_score\n",
              "0        0.004220      0.001576  ...        0.031327               90\n",
              "1        0.002881      0.000011  ...        0.031307               89\n",
              "2        0.003062      0.000018  ...        0.031286               88\n",
              "3        0.003002      0.000038  ...        0.031265               87\n",
              "4        0.003058      0.000112  ...        0.031243               86\n",
              "..            ...           ...  ...             ...              ...\n",
              "85       0.026267      0.008167  ...        0.017261               23\n",
              "86       0.019066      0.001196  ...        0.017129               25\n",
              "87       0.020334      0.000122  ...        0.016996               27\n",
              "88       0.021022      0.001735  ...        0.016863               30\n",
              "89       0.035308      0.012461  ...        0.016730               32\n",
              "\n",
              "[90 rows x 13 columns]"
            ]
          },
          "metadata": {
            "tags": []
          },
          "execution_count": 49
        }
      ]
    },
    {
      "cell_type": "markdown",
      "metadata": {
        "id": "fFDJBfqC0sF4"
      },
      "source": [
        "## **SUMMARY**\n",
        "\n",
        "1. We can manually generate folds by using `KFolds`\n",
        "2. We can get a score using `cross_val_predict(X, y, cv=KFoldObject_or_integer)`. \n",
        "   This will produce the out-of-bag prediction for each row.\n",
        "3. When doing hyperparameter selection, we should be optimizing on out-of-bag scores. This means either using `cross_val_predict` in a loop, or ....\n",
        "4. .... use `GridSearchCV`. GridSearchCV takes a model (or pipeline) and a dictionary of parameters to scan over. It finds the hyperparameter set that has the best out-of-sample score on all the parameters, and calls that it's \"best estimator\". It then retrains on all data with the \"best\" hyper-parameters.\n",
        "\n"
      ]
    },
    {
      "cell_type": "markdown",
      "metadata": {
        "id": "CMovrT1r00Fe"
      },
      "source": [
        "## **EXTENSIONS**\n",
        "\n",
        "Here are some additional items to keep in mind:\n",
        "* There is a `RandomSearchCV` that tries random combination of model parameters. This can be helpful if you have a prohibitive number of combinations to test them all exhaustively.\n",
        "* KFolds will randomly select rows to be in the training and test folds. There are other methods (such as `StratifiedKFolds` and `GroupKFold`, which are useful when you need more control over how the data is split (e.g. to prevent data leakage). You can create these specialized objects and pass them to the `cv` argument of `GridSearchCV`."
      ]
    },
    {
      "cell_type": "markdown",
      "metadata": {
        "id": "g4HWr2Ft_6fW"
      },
      "source": [
        "# **Week 2.3 - Polynomial Regression**\n",
        "\n",
        "Notebook of my notes for the week 2.3 of the course [Supervised Machine Learning: Regression](https://www.coursera.org/learn/supervised-machine-learning-regression) as part of the [IBM Machine Learning Professional Certificate](https://www.coursera.org/professional-certificates/ibm-machine-learning)."
      ]
    },
    {
      "cell_type": "markdown",
      "metadata": {
        "id": "DtNFEjABDjIW"
      },
      "source": [
        "## **POLYNOMIAL REGRESSION**"
      ]
    },
    {
      "cell_type": "markdown",
      "metadata": {
        "id": "FH1oaePHDz8U"
      },
      "source": [
        "### **Addition of Polynomial Features**\n",
        "\n",
        "Capture higher order features of data by adding polynomial features.\n",
        "\n",
        "$$\n",
        "y_{\\beta}(x)=\\beta_{0}+\\beta_{1}x+\\beta_{2}x^{2}+\\beta_{3}x^{3}\n",
        "$$\n",
        "\n",
        "<br>\n",
        "\n",
        "Can algo be include variables interactions:\n",
        "$$\n",
        "y_{\\beta}(x)=\\beta_{0}+\\beta_{1}x_{1}+\\beta_{2}x_{2}+\\beta_{3}x_{1}x_{2}\n",
        "$$\n"
      ]
    },
    {
      "cell_type": "markdown",
      "metadata": {
        "id": "xl-KxU1QFA73"
      },
      "source": [
        "### **Enhancing the Linear Model**\n",
        "\n",
        "Adjusting the standar linear approach to regression by adding polynomial features is one of many approaches to dealing with the **fundamental problems**:\n",
        "\n",
        "- Prediction\n",
        "- Interpretation\n",
        "\n",
        "As we move into model evaluation, keep in mind that the same tools are useful for evaluating a wide variety of regression and classification problemas."
      ]
    },
    {
      "cell_type": "markdown",
      "metadata": {
        "id": "t4_eIqLxF3OP"
      },
      "source": [
        "### **Extending the Linear Model**\n",
        "\n",
        "In addition to Polynomial Features, we will also examine additional variants of standard models, using many for both regression and classification.\n",
        "\n",
        "Some examples include:\n",
        "- Logistic Regression\n",
        "- K-Nearest Neighbors\n",
        "- Decision Trees\n",
        "- Support Vector Machines\n",
        "- Random Forests\n",
        "- Ensemble Methods\n",
        "- Deep Learning Approaches"
      ]
    },
    {
      "cell_type": "markdown",
      "metadata": {
        "id": "sxmKTCb8GNhI"
      },
      "source": [
        "### **Syntax**\n",
        "\n",
        "Import the class cantaining the transformation method\n",
        "\n",
        "\n",
        "```\n",
        "from sklearn.preprocessing import PolynomialFeatures\n",
        "```\n",
        "\n",
        "Create an instance of the class\n",
        "\n",
        "\n",
        "```\n",
        "polyFeat = PolynomialFeatures(degree=2)\n",
        "```\n",
        "\n",
        "Create the polynomial features and then transform the data\n",
        "\n",
        "\n",
        "```\n",
        "polyFeat = polyFeat.fit(X_data)\n",
        "\n",
        "X_poly = polyFeat.transform(X_data)\n",
        "```\n",
        "\n",
        "\n",
        "\n",
        "\n",
        "\n"
      ]
    },
    {
      "cell_type": "markdown",
      "metadata": {
        "id": "RQZUUGsqHXK8"
      },
      "source": [
        "# **Summary/Review**"
      ]
    },
    {
      "cell_type": "markdown",
      "metadata": {
        "id": "_bnTAiQeHaTq"
      },
      "source": [
        "**Training and Test Splits**\n",
        "\n",
        "Splitting your data into a training and test set can help you choose a model that has better chances at generalizing and is not overfitted.\n",
        "\n",
        "The training data is used to fit the model, while the test data is used to measure error and performance.\n",
        "\n",
        "Training error tends to decrease with a more complex model. Cross validation error generally has a u-shape. It decreases with more complex models, up to a point in which it starts to increase again."
      ]
    },
    {
      "cell_type": "markdown",
      "metadata": {
        "id": "it6mHSV3H_3_"
      },
      "source": [
        "**Cross Validation**\n",
        "\n",
        "The three most common cross validation approaches are:\n",
        "\n",
        "- k-fold cross validation\n",
        "- leave one out cross validation\n",
        "- stratified cross validation"
      ]
    },
    {
      "cell_type": "markdown",
      "metadata": {
        "id": "t8hp_NEVILX8"
      },
      "source": [
        "**Polynomial Regression**\n",
        "\n",
        "Polynomial terms help you capture nonlinear effects of features.\n",
        "\n",
        "Other algorithms that help you extend your linear models are:\n",
        "\n",
        "- Logistic Regression\n",
        "- K-Nearest Neighbors\n",
        "- Decision Trees\n",
        "- Support Vector Machines\n",
        "- Random Forests\n",
        "- Ensemble Methods\n",
        "- Deep Learning Approaches"
      ]
    },
    {
      "cell_type": "markdown",
      "metadata": {
        "id": "QthP8zBc1GQ8"
      },
      "source": [
        "# **Credit**\n",
        "---\n",
        "My notes from Machine Learning Foundation (C) 2020 IBM Corporation courses"
      ]
    }
  ]
}