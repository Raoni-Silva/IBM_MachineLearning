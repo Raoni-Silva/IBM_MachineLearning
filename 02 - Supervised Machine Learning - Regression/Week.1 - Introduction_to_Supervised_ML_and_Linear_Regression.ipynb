{
  "nbformat": 4,
  "nbformat_minor": 0,
  "metadata": {
    "colab": {
      "name": "Week 1 - Introduction to Supervised ML and Linear Regression.ipynb",
      "provenance": [],
      "collapsed_sections": [],
      "toc_visible": true
    },
    "kernelspec": {
      "name": "python3",
      "display_name": "Python 3"
    },
    "language_info": {
      "name": "python"
    }
  },
  "cells": [
    {
      "cell_type": "markdown",
      "metadata": {
        "id": "dcnO0rvSJmEy"
      },
      "source": [
        "<p align=\"left\">\n",
        "<img src=\"https://raw.githubusercontent.com/Raoni-Silva/IBM_MachineLearning/main/Image/ibm-logo.png\"\n",
        "width=\"500\" />\n",
        "</p>"
      ]
    },
    {
      "cell_type": "markdown",
      "metadata": {
        "id": "Tj5OY675JpKV"
      },
      "source": [
        "# **Supervised Machine Learning: Regression**\n",
        "\n",
        "**Notebook content**\n",
        "> **WEEK 1** - Introduction to Supervised Machine Learning and Linear Regression\n",
        "> * 1.1 - Introduction to Supervised Machine Learning\n",
        "> * 1.2 - Linear Regression  "
      ]
    },
    {
      "cell_type": "markdown",
      "metadata": {
        "id": "LXvZb1ClKvdk"
      },
      "source": [
        "# **Week 1.1 - Introduction to Supervised Machine Learning**\n",
        "\n",
        "Notebook of my notes for the week 1.1 of the course [Supervised Machine Learning: Regression](https://www.coursera.org/learn/supervised-machine-learning-regression) as part of the [IBM Machine Learning Professional Certificate](https://www.coursera.org/professional-certificates/ibm-machine-learning)."
      ]
    },
    {
      "cell_type": "markdown",
      "metadata": {
        "id": "BhCUM1XXNZG6"
      },
      "source": [
        "## **INTRODUCTION**\n",
        "\n",
        "**What is Machine Learning?**\n",
        "\n",
        ">Machine Learning is the process through which computers are said to \"learn\" and infer prediction from data.\n",
        "\n",
        "**Model: A Learning Algorithm**\n",
        ">\n",
        ">A **model** is a small thing that captures a larger thing.\n",
        ">\n",
        ">A *good* model omits unimportante details while retaining what's important.\n",
        "\n",
        "**Types of Machine Learning**\n",
        ">\n",
        ">* **Supervised:** data points have known outcomes\n",
        ">* **Unsupervised:** data points have unknown outcomes\n",
        ">* **Semi-Supervised:** uses both, data with outcomes and data without outcomes"
      ]
    },
    {
      "cell_type": "markdown",
      "metadata": {
        "id": "m6LBOv_wR2mR"
      },
      "source": [
        "**How Does Machine Learning Work?**\n",
        "\n",
        ">**ML Framework** (applies to Supervised Machine Learning Models):\n",
        ">\n",
        ">$$\n",
        "y_{p}=f(\\Omega,x)\n",
        ">$$\n",
        ">\n",
        ">$x$: **Input**\n",
        ">\n",
        ">$y_{p}$: **Output** (values predicted by the model)\n",
        ">\n",
        ">$\\Omega$: **Parameters** of the model (1 or more variables).\n",
        ">\n",
        ">$f()$: Prediction function that generates predictions from $x$ and $\\Omega$.\n",
        ">\n",
        ">\n",
        ">- **Observations:** rows or examples the model will see.\n",
        ">- **Features:** the different ways that we measure each observation.\n",
        ">- **Hyperparameters:** is a parameter that is not learned directly from the data, but relates to implementation: training our ML model.\n",
        ">\n",
        ">Here, we distinguish between $y_{p}$ (the prediction of our model) and $y$ (the observed values of the target variable).\n",
        ">\n",
        ">$J(y,y_{p})$: **Loss**\n",
        ">- Most ML models define a quantitative score for how \"good\" our predictions are.\n",
        ">- Tipically measures how close our predictions are to the true values.\n",
        ">\n",
        ">**Update rule:** using features $x$ and outcomes $y$, choose parameters >$\\Omega$ to minimize loss $J$.\n",
        ">\n",
        ">Two main modeling approaches:\n",
        ">- **Regression:** $y$ is numeric.\n",
        ">- **Classification:** $y$ is categorical."
      ]
    },
    {
      "cell_type": "markdown",
      "metadata": {
        "id": "xlplq7vIv6Jm"
      },
      "source": [
        "## **INTERPRETATION VS. PREDICTION**"
      ]
    },
    {
      "cell_type": "markdown",
      "metadata": {
        "id": "LKYHZcYEwTqX"
      },
      "source": [
        "### **Interpretation**\n",
        "\n",
        "In some cases, the primary objective is to train a model to find insights from the data.\n",
        "\n",
        "In $y_{p}=f(\\Omega,x)$, the **interpretation approach** uses $\\Omega$ to give us insight into a system.\n",
        "\n",
        "**Common workflow:**\n",
        "\n",
        ">* **Gather** $x, y$; **Train** model by finding the $\\Omega$ that gives the best prediction $y_{p}=f(\\Omega,x)$.\n",
        ">* **Focus on** $\\Omega$ (rather than $y_{p}$) to generate insights.\n",
        "\n",
        "**Example of interpretation exercises:**\n",
        ">* $x=$ customer demographics, $y=$ sales data; examine $\\Omega$ to understand loyalty by segment;\n",
        ">* $x=$ car safety features, $y=$ traffic accidents; examine $\\Omega$ to undestand what makes cars safer;\n",
        ">* $x=$ marketing budget; $y=$ movie revenue; examine $\\Omega$ to understand marketing effectiveness;"
      ]
    },
    {
      "cell_type": "markdown",
      "metadata": {
        "id": "KZipHP6eyjCJ"
      },
      "source": [
        "### **Prediction**\n",
        "\n",
        "In some cases, the primary objective is to make the best prediction.\n",
        "\n",
        "In $y_{p}=f(\\Omega, x)$, the **prediction approach** compares $y_{p}$ with $y$;\n",
        "\n",
        "The focus is on **performance metrics**, which measure the quality of the model's predictions.\n",
        "\n",
        "**Performance metrics** usually involve some measure of closeness between $y_{p}$ with $y$.\n",
        "\n",
        "Without focusing on interpretability, we risk having a Black-box model.\n",
        "\n",
        "**Example of prediction exercises:**\n",
        ">* $x=$ customer purchase history, $y=$ customer churn; focus on predicting customer churn;\n",
        ">* $x=$ financial information, $y=$ flagged default/non-default; focus on predicting loan default;\n",
        ">* $x=$ purchase history, $y=$ next purchase; focus on predicting the next purchase;"
      ]
    },
    {
      "cell_type": "markdown",
      "metadata": {
        "id": "jSVka6Ll2A1-"
      },
      "source": [
        "## **REGRESSION VS. CLASSIFICATION**"
      ]
    },
    {
      "cell_type": "markdown",
      "metadata": {
        "id": "F19nVbSz2l38"
      },
      "source": [
        "**Types of Supervised Learning**\n",
        "\n",
        ">* **Regression:** outcome is continuous (numerical)\n",
        ">* **Classification:** outcome is a category\n",
        "\n",
        "**Supervised Learning Overview**\n",
        "\n",
        "> data with outcomes + <font color='red'>model</font> $\\rightarrow$ **fit** $\\rightarrow$ <font color='green'>model</font>\n",
        ">\n",
        "> data without outcomes + <font color='green'>model</font> $\\rightarrow$ **predict** $\\rightarrow$ predicted outcomes"
      ]
    },
    {
      "cell_type": "markdown",
      "metadata": {
        "id": "AS60DzHg6yC_"
      },
      "source": [
        "# **Week 1.2 - Linear Regression**\n",
        "\n",
        "Notebook of my notes for the week 1.2 of the course [Supervised Machine Learning: Regression](https://www.coursera.org/learn/supervised-machine-learning-regression) as part of the [IBM Machine Learning Professional Certificate](https://www.coursera.org/professional-certificates/ibm-machine-learning)."
      ]
    },
    {
      "cell_type": "markdown",
      "metadata": {
        "id": "7RwriLMZ9BxK"
      },
      "source": [
        "## **INTRODUCTION**"
      ]
    },
    {
      "cell_type": "markdown",
      "metadata": {
        "id": "E6SLmf4M9IIA"
      },
      "source": [
        "**Linear Regression**\n",
        "\n",
        "$\n",
        "y_{\\beta}(x)=\\beta_{0}+\\beta_{1}x\n",
        "$\n",
        "\n",
        "<br>\n",
        "\n",
        "**Calculating the Residuals**\n",
        "\n",
        "$\n",
        "y_{\\beta}(x_{obs}^{(i)})-y_{obs}^{(i)}\n",
        "$\n",
        "\n",
        "\n",
        "\n",
        "<br>\n",
        "\n",
        "* **Mean Squared Error (MSE)**\n",
        "\n",
        "$\n",
        "MSE=\\frac{1}{m}\\sum \\limits _{i=1} ^{m}((\\beta_{0}+\\beta_{1}x_{obs}^{(i)})-y_{obs}^{(i)})^{2}\n",
        "$\n",
        "\n",
        "<br>\n",
        "\n",
        "$\n",
        "J(\\beta_{0},\\beta_{1})=\\frac{1}{2m}\\sum \\limits _{i=1} ^{m}((\\beta_{0}+\\beta_{1}x_{obs}^{(i)})-y_{obs}^{(i)})^{2}\n",
        "$\n",
        "\n",
        "<br>\n",
        "\n",
        "**Modeling Best Pactice**\n",
        "\n",
        ">Use cost function to fit model\n",
        ">\n",
        ">Develop multiple models\n",
        ">\n",
        ">Compare results and choose the best one\n",
        "\n",
        "<br>\n",
        "\n",
        "**Other Measures of Error**\n",
        "\n",
        "* **Coefficient of Determination ($R^{2}$)**\n",
        "\n",
        "$\n",
        "R^{2}=1-\\frac{SSE}{TSS}\n",
        "$\n",
        "\n",
        "<br>\n",
        "\n",
        "* **Sum Squared Error (SSE)**\n",
        "\n",
        "$\n",
        "SSE=\\sum \\limits _{i=1} ^{m}(y_{\\beta}(x^{(i)})-y_{obs}^{(i)})^{2}\n",
        "$\n",
        "\n",
        "<br>\n",
        "\n",
        "* **Total Sum of Squares (TSE)**\n",
        "\n",
        "$\n",
        "TSE=\\sum \\limits _{i=1} ^{m}(\\overline{y_{obs}}-y_{obs}^{(i)})^{2}\n",
        "$\n",
        "\n",
        "\n"
      ]
    },
    {
      "cell_type": "markdown",
      "metadata": {
        "id": "IuzEZPfkSLat"
      },
      "source": [
        "## **SYNTHAX**"
      ]
    },
    {
      "cell_type": "markdown",
      "metadata": {
        "id": "7WOZnwclSX3B"
      },
      "source": [
        "```\n",
        "from sklearn.linear_model import LinearRegression\n",
        "\n",
        "LR = LinearRegression()\n",
        "LR.fit(X_train, y_train)\n",
        "\n",
        "Y_predict = LR.predict(X_test)\n",
        "```"
      ]
    },
    {
      "cell_type": "markdown",
      "metadata": {
        "id": "yIN0GwESXDiA"
      },
      "source": [
        "## **ACTIVITY**"
      ]
    },
    {
      "cell_type": "markdown",
      "metadata": {
        "id": "jTgqZoxDXRhS"
      },
      "source": [
        "### **Section 2, Part a:** Regression Intro: Transforming Target \n",
        "\n",
        "Learning objectives\n",
        "\n",
        "By the end of this lesson, you will be able to:\n",
        "\n",
        "* Apply transformations to make target variable more normally distributed for regression\n",
        "* Apply inverse transformations to be able to use these in a regression context"
      ]
    },
    {
      "cell_type": "code",
      "metadata": {
        "id": "TCAEdBmIJmla"
      },
      "source": [
        "import numpy as np\n",
        "import pandas as pd\n",
        "import matplotlib.pyplot as plt\n",
        "%matplotlib inline\n",
        "\n",
        "import warnings\n",
        "warnings.simplefilter(\"ignore\")"
      ],
      "execution_count": null,
      "outputs": []
    },
    {
      "cell_type": "markdown",
      "metadata": {
        "id": "HrQ_B2isajTW"
      },
      "source": [
        "#### **helper.py code**"
      ]
    },
    {
      "cell_type": "code",
      "metadata": {
        "id": "9u0-89lDaMAS"
      },
      "source": [
        "np.random.seed(72018)\n",
        "\n",
        "from sklearn.datasets import load_boston\n",
        "\n",
        "def to_2d(array):\n",
        "    return array.reshape(array.shape[0], -1)\n",
        "\n",
        "def boston_dataframe(description=False):\n",
        "    boston = load_boston()\n",
        "    \n",
        "    data = boston.data\n",
        "    target = boston.target\n",
        "    names = boston.feature_names\n",
        "    \n",
        "    target = to_2d(target)\n",
        "    \n",
        "    data_all = np.concatenate([data, target], axis=1)\n",
        "    names_all = np.concatenate([names, np.array(['MEDV'])], axis=0)\n",
        "    \n",
        "    if description:\n",
        "        \n",
        "        return pd.DataFrame(data=data_all, columns=names_all), boston.DESCR\n",
        "    \n",
        "    else: \n",
        "        \n",
        "        return pd.DataFrame(data=data_all, columns=names_all)\n",
        "    \n",
        "def plot_exponential_data():\n",
        "    data = np.exp(np.random.normal(size=1000))\n",
        "    plt.hist(data)\n",
        "    plt.show()\n",
        "    return data\n",
        "    \n",
        "def plot_square_normal_data():\n",
        "    data = np.square(np.random.normal(loc=5, size=1000))\n",
        "    plt.hist(data)\n",
        "    plt.show()\n",
        "    return data"
      ],
      "execution_count": null,
      "outputs": []
    },
    {
      "cell_type": "markdown",
      "metadata": {
        "id": "jgM0Y4BOatxk"
      },
      "source": [
        "#### **Loading dataset**"
      ]
    },
    {
      "cell_type": "code",
      "metadata": {
        "id": "Hhj4FjBta1Yt"
      },
      "source": [
        "boston_data = boston_dataframe()"
      ],
      "execution_count": null,
      "outputs": []
    },
    {
      "cell_type": "code",
      "metadata": {
        "colab": {
          "base_uri": "https://localhost:8080/",
          "height": 514
        },
        "id": "wlc-4BaHa4uV",
        "outputId": "6655e19e-f892-47d2-ddd2-50f42d6bcab2"
      },
      "source": [
        "boston_data.head(15)"
      ],
      "execution_count": null,
      "outputs": [
        {
          "output_type": "execute_result",
          "data": {
            "text/html": [
              "<div>\n",
              "<style scoped>\n",
              "    .dataframe tbody tr th:only-of-type {\n",
              "        vertical-align: middle;\n",
              "    }\n",
              "\n",
              "    .dataframe tbody tr th {\n",
              "        vertical-align: top;\n",
              "    }\n",
              "\n",
              "    .dataframe thead th {\n",
              "        text-align: right;\n",
              "    }\n",
              "</style>\n",
              "<table border=\"1\" class=\"dataframe\">\n",
              "  <thead>\n",
              "    <tr style=\"text-align: right;\">\n",
              "      <th></th>\n",
              "      <th>CRIM</th>\n",
              "      <th>ZN</th>\n",
              "      <th>INDUS</th>\n",
              "      <th>CHAS</th>\n",
              "      <th>NOX</th>\n",
              "      <th>RM</th>\n",
              "      <th>AGE</th>\n",
              "      <th>DIS</th>\n",
              "      <th>RAD</th>\n",
              "      <th>TAX</th>\n",
              "      <th>PTRATIO</th>\n",
              "      <th>B</th>\n",
              "      <th>LSTAT</th>\n",
              "      <th>MEDV</th>\n",
              "    </tr>\n",
              "  </thead>\n",
              "  <tbody>\n",
              "    <tr>\n",
              "      <th>0</th>\n",
              "      <td>0.00632</td>\n",
              "      <td>18.0</td>\n",
              "      <td>2.31</td>\n",
              "      <td>0.0</td>\n",
              "      <td>0.538</td>\n",
              "      <td>6.575</td>\n",
              "      <td>65.2</td>\n",
              "      <td>4.0900</td>\n",
              "      <td>1.0</td>\n",
              "      <td>296.0</td>\n",
              "      <td>15.3</td>\n",
              "      <td>396.90</td>\n",
              "      <td>4.98</td>\n",
              "      <td>24.0</td>\n",
              "    </tr>\n",
              "    <tr>\n",
              "      <th>1</th>\n",
              "      <td>0.02731</td>\n",
              "      <td>0.0</td>\n",
              "      <td>7.07</td>\n",
              "      <td>0.0</td>\n",
              "      <td>0.469</td>\n",
              "      <td>6.421</td>\n",
              "      <td>78.9</td>\n",
              "      <td>4.9671</td>\n",
              "      <td>2.0</td>\n",
              "      <td>242.0</td>\n",
              "      <td>17.8</td>\n",
              "      <td>396.90</td>\n",
              "      <td>9.14</td>\n",
              "      <td>21.6</td>\n",
              "    </tr>\n",
              "    <tr>\n",
              "      <th>2</th>\n",
              "      <td>0.02729</td>\n",
              "      <td>0.0</td>\n",
              "      <td>7.07</td>\n",
              "      <td>0.0</td>\n",
              "      <td>0.469</td>\n",
              "      <td>7.185</td>\n",
              "      <td>61.1</td>\n",
              "      <td>4.9671</td>\n",
              "      <td>2.0</td>\n",
              "      <td>242.0</td>\n",
              "      <td>17.8</td>\n",
              "      <td>392.83</td>\n",
              "      <td>4.03</td>\n",
              "      <td>34.7</td>\n",
              "    </tr>\n",
              "    <tr>\n",
              "      <th>3</th>\n",
              "      <td>0.03237</td>\n",
              "      <td>0.0</td>\n",
              "      <td>2.18</td>\n",
              "      <td>0.0</td>\n",
              "      <td>0.458</td>\n",
              "      <td>6.998</td>\n",
              "      <td>45.8</td>\n",
              "      <td>6.0622</td>\n",
              "      <td>3.0</td>\n",
              "      <td>222.0</td>\n",
              "      <td>18.7</td>\n",
              "      <td>394.63</td>\n",
              "      <td>2.94</td>\n",
              "      <td>33.4</td>\n",
              "    </tr>\n",
              "    <tr>\n",
              "      <th>4</th>\n",
              "      <td>0.06905</td>\n",
              "      <td>0.0</td>\n",
              "      <td>2.18</td>\n",
              "      <td>0.0</td>\n",
              "      <td>0.458</td>\n",
              "      <td>7.147</td>\n",
              "      <td>54.2</td>\n",
              "      <td>6.0622</td>\n",
              "      <td>3.0</td>\n",
              "      <td>222.0</td>\n",
              "      <td>18.7</td>\n",
              "      <td>396.90</td>\n",
              "      <td>5.33</td>\n",
              "      <td>36.2</td>\n",
              "    </tr>\n",
              "    <tr>\n",
              "      <th>5</th>\n",
              "      <td>0.02985</td>\n",
              "      <td>0.0</td>\n",
              "      <td>2.18</td>\n",
              "      <td>0.0</td>\n",
              "      <td>0.458</td>\n",
              "      <td>6.430</td>\n",
              "      <td>58.7</td>\n",
              "      <td>6.0622</td>\n",
              "      <td>3.0</td>\n",
              "      <td>222.0</td>\n",
              "      <td>18.7</td>\n",
              "      <td>394.12</td>\n",
              "      <td>5.21</td>\n",
              "      <td>28.7</td>\n",
              "    </tr>\n",
              "    <tr>\n",
              "      <th>6</th>\n",
              "      <td>0.08829</td>\n",
              "      <td>12.5</td>\n",
              "      <td>7.87</td>\n",
              "      <td>0.0</td>\n",
              "      <td>0.524</td>\n",
              "      <td>6.012</td>\n",
              "      <td>66.6</td>\n",
              "      <td>5.5605</td>\n",
              "      <td>5.0</td>\n",
              "      <td>311.0</td>\n",
              "      <td>15.2</td>\n",
              "      <td>395.60</td>\n",
              "      <td>12.43</td>\n",
              "      <td>22.9</td>\n",
              "    </tr>\n",
              "    <tr>\n",
              "      <th>7</th>\n",
              "      <td>0.14455</td>\n",
              "      <td>12.5</td>\n",
              "      <td>7.87</td>\n",
              "      <td>0.0</td>\n",
              "      <td>0.524</td>\n",
              "      <td>6.172</td>\n",
              "      <td>96.1</td>\n",
              "      <td>5.9505</td>\n",
              "      <td>5.0</td>\n",
              "      <td>311.0</td>\n",
              "      <td>15.2</td>\n",
              "      <td>396.90</td>\n",
              "      <td>19.15</td>\n",
              "      <td>27.1</td>\n",
              "    </tr>\n",
              "    <tr>\n",
              "      <th>8</th>\n",
              "      <td>0.21124</td>\n",
              "      <td>12.5</td>\n",
              "      <td>7.87</td>\n",
              "      <td>0.0</td>\n",
              "      <td>0.524</td>\n",
              "      <td>5.631</td>\n",
              "      <td>100.0</td>\n",
              "      <td>6.0821</td>\n",
              "      <td>5.0</td>\n",
              "      <td>311.0</td>\n",
              "      <td>15.2</td>\n",
              "      <td>386.63</td>\n",
              "      <td>29.93</td>\n",
              "      <td>16.5</td>\n",
              "    </tr>\n",
              "    <tr>\n",
              "      <th>9</th>\n",
              "      <td>0.17004</td>\n",
              "      <td>12.5</td>\n",
              "      <td>7.87</td>\n",
              "      <td>0.0</td>\n",
              "      <td>0.524</td>\n",
              "      <td>6.004</td>\n",
              "      <td>85.9</td>\n",
              "      <td>6.5921</td>\n",
              "      <td>5.0</td>\n",
              "      <td>311.0</td>\n",
              "      <td>15.2</td>\n",
              "      <td>386.71</td>\n",
              "      <td>17.10</td>\n",
              "      <td>18.9</td>\n",
              "    </tr>\n",
              "    <tr>\n",
              "      <th>10</th>\n",
              "      <td>0.22489</td>\n",
              "      <td>12.5</td>\n",
              "      <td>7.87</td>\n",
              "      <td>0.0</td>\n",
              "      <td>0.524</td>\n",
              "      <td>6.377</td>\n",
              "      <td>94.3</td>\n",
              "      <td>6.3467</td>\n",
              "      <td>5.0</td>\n",
              "      <td>311.0</td>\n",
              "      <td>15.2</td>\n",
              "      <td>392.52</td>\n",
              "      <td>20.45</td>\n",
              "      <td>15.0</td>\n",
              "    </tr>\n",
              "    <tr>\n",
              "      <th>11</th>\n",
              "      <td>0.11747</td>\n",
              "      <td>12.5</td>\n",
              "      <td>7.87</td>\n",
              "      <td>0.0</td>\n",
              "      <td>0.524</td>\n",
              "      <td>6.009</td>\n",
              "      <td>82.9</td>\n",
              "      <td>6.2267</td>\n",
              "      <td>5.0</td>\n",
              "      <td>311.0</td>\n",
              "      <td>15.2</td>\n",
              "      <td>396.90</td>\n",
              "      <td>13.27</td>\n",
              "      <td>18.9</td>\n",
              "    </tr>\n",
              "    <tr>\n",
              "      <th>12</th>\n",
              "      <td>0.09378</td>\n",
              "      <td>12.5</td>\n",
              "      <td>7.87</td>\n",
              "      <td>0.0</td>\n",
              "      <td>0.524</td>\n",
              "      <td>5.889</td>\n",
              "      <td>39.0</td>\n",
              "      <td>5.4509</td>\n",
              "      <td>5.0</td>\n",
              "      <td>311.0</td>\n",
              "      <td>15.2</td>\n",
              "      <td>390.50</td>\n",
              "      <td>15.71</td>\n",
              "      <td>21.7</td>\n",
              "    </tr>\n",
              "    <tr>\n",
              "      <th>13</th>\n",
              "      <td>0.62976</td>\n",
              "      <td>0.0</td>\n",
              "      <td>8.14</td>\n",
              "      <td>0.0</td>\n",
              "      <td>0.538</td>\n",
              "      <td>5.949</td>\n",
              "      <td>61.8</td>\n",
              "      <td>4.7075</td>\n",
              "      <td>4.0</td>\n",
              "      <td>307.0</td>\n",
              "      <td>21.0</td>\n",
              "      <td>396.90</td>\n",
              "      <td>8.26</td>\n",
              "      <td>20.4</td>\n",
              "    </tr>\n",
              "    <tr>\n",
              "      <th>14</th>\n",
              "      <td>0.63796</td>\n",
              "      <td>0.0</td>\n",
              "      <td>8.14</td>\n",
              "      <td>0.0</td>\n",
              "      <td>0.538</td>\n",
              "      <td>6.096</td>\n",
              "      <td>84.5</td>\n",
              "      <td>4.4619</td>\n",
              "      <td>4.0</td>\n",
              "      <td>307.0</td>\n",
              "      <td>21.0</td>\n",
              "      <td>380.02</td>\n",
              "      <td>10.26</td>\n",
              "      <td>18.2</td>\n",
              "    </tr>\n",
              "  </tbody>\n",
              "</table>\n",
              "</div>"
            ],
            "text/plain": [
              "       CRIM    ZN  INDUS  CHAS    NOX  ...    TAX  PTRATIO       B  LSTAT  MEDV\n",
              "0   0.00632  18.0   2.31   0.0  0.538  ...  296.0     15.3  396.90   4.98  24.0\n",
              "1   0.02731   0.0   7.07   0.0  0.469  ...  242.0     17.8  396.90   9.14  21.6\n",
              "2   0.02729   0.0   7.07   0.0  0.469  ...  242.0     17.8  392.83   4.03  34.7\n",
              "3   0.03237   0.0   2.18   0.0  0.458  ...  222.0     18.7  394.63   2.94  33.4\n",
              "4   0.06905   0.0   2.18   0.0  0.458  ...  222.0     18.7  396.90   5.33  36.2\n",
              "5   0.02985   0.0   2.18   0.0  0.458  ...  222.0     18.7  394.12   5.21  28.7\n",
              "6   0.08829  12.5   7.87   0.0  0.524  ...  311.0     15.2  395.60  12.43  22.9\n",
              "7   0.14455  12.5   7.87   0.0  0.524  ...  311.0     15.2  396.90  19.15  27.1\n",
              "8   0.21124  12.5   7.87   0.0  0.524  ...  311.0     15.2  386.63  29.93  16.5\n",
              "9   0.17004  12.5   7.87   0.0  0.524  ...  311.0     15.2  386.71  17.10  18.9\n",
              "10  0.22489  12.5   7.87   0.0  0.524  ...  311.0     15.2  392.52  20.45  15.0\n",
              "11  0.11747  12.5   7.87   0.0  0.524  ...  311.0     15.2  396.90  13.27  18.9\n",
              "12  0.09378  12.5   7.87   0.0  0.524  ...  311.0     15.2  390.50  15.71  21.7\n",
              "13  0.62976   0.0   8.14   0.0  0.538  ...  307.0     21.0  396.90   8.26  20.4\n",
              "14  0.63796   0.0   8.14   0.0  0.538  ...  307.0     21.0  380.02  10.26  18.2\n",
              "\n",
              "[15 rows x 14 columns]"
            ]
          },
          "metadata": {
            "tags": []
          },
          "execution_count": 8
        }
      ]
    },
    {
      "cell_type": "markdown",
      "metadata": {
        "id": "JN55hol1bA72"
      },
      "source": [
        "#### **Determining Normality**\n",
        "\n",
        "Making our target variable normally distributed often will lead to better results\n",
        "\n",
        "If our target is not normally distributed, we can apply a transformation to it and then fit our regression to predict the transformed values.\n",
        "\n",
        "How can we tell if our target is normally distributed? There are two ways:\n",
        "\n",
        "* Visually\n",
        "* Using a statistical test"
      ]
    },
    {
      "cell_type": "code",
      "metadata": {
        "colab": {
          "base_uri": "https://localhost:8080/",
          "height": 267
        },
        "id": "BAwlT-Vea56F",
        "outputId": "567a7660-94a4-458c-e9bc-55071c30a90d"
      },
      "source": [
        "# Plotting a histogram\n",
        "boston_data.MEDV.hist();"
      ],
      "execution_count": null,
      "outputs": [
        {
          "output_type": "display_data",
          "data": {
            "image/png": "[encoded data removed]",
            "text/plain": [
              "<Figure size 432x288 with 1 Axes>"
            ]
          },
          "metadata": {
            "tags": [],
            "needs_background": "light"
          }
        }
      ]
    },
    {
      "cell_type": "markdown",
      "metadata": {
        "id": "HcsPyPM6bnil"
      },
      "source": [
        "Does not look normal due to that right tail. Let's try to verify statistically:"
      ]
    },
    {
      "cell_type": "code",
      "metadata": {
        "id": "adnBkwynbkyN"
      },
      "source": [
        "from scipy.stats.mstats import normaltest # D'Agostino K^2 Test"
      ],
      "execution_count": null,
      "outputs": []
    },
    {
      "cell_type": "markdown",
      "metadata": {
        "id": "Rmm9TsTKb0HR"
      },
      "source": [
        "Without getting into Bayesian vs. frequentist debates, for the purposes of this lesson, the following will suffice:\n",
        "\n",
        "* This is a statistical test that tests whether a distribution is normally distributed or not. It isn't perfect, but suffice it to say: \n",
        "    * This test outputs a \"p-value\". The _higher_ this p-value is the _closer_ the distribution is to normal.\n",
        "    * Frequentist statisticians would say that you accept that the distribution is normal (more specifically: fail to reject the null hypothesis that it is normal) if p > 0.05."
      ]
    },
    {
      "cell_type": "code",
      "metadata": {
        "colab": {
          "base_uri": "https://localhost:8080/"
        },
        "id": "M3pFKcfvbq2l",
        "outputId": "693b80dd-e8a0-4780-df78-2b51b24e8833"
      },
      "source": [
        "normaltest(boston_data.MEDV.values)"
      ],
      "execution_count": null,
      "outputs": [
        {
          "output_type": "execute_result",
          "data": {
            "text/plain": [
              "NormaltestResult(statistic=90.9746873700967, pvalue=1.7583188871696095e-20)"
            ]
          },
          "metadata": {
            "tags": []
          },
          "execution_count": 11
        }
      ]
    },
    {
      "cell_type": "markdown",
      "metadata": {
        "id": "C22ktGmOb6Sg"
      },
      "source": [
        "p-value _extremely_ low. Our y variable we've been dealing with this whole time was not normally distributed!\n",
        "\n",
        "Linear Regression assumes a normally distributed residuals which can be aided by transforming y variable. Let's try some common transformations to try and get y to be normally distributed: \n",
        "\n",
        "* Log\n",
        "* Square root\n",
        "* Box cox"
      ]
    },
    {
      "cell_type": "markdown",
      "metadata": {
        "id": "JrDfzXfHd7ZI"
      },
      "source": [
        "#### **Testing log transformation**\n",
        "\n",
        "The log transform can transform data that is significantly skewed right to be more normally distributed:"
      ]
    },
    {
      "cell_type": "code",
      "metadata": {
        "colab": {
          "base_uri": "https://localhost:8080/",
          "height": 265
        },
        "id": "BTOjuldqb2gM",
        "outputId": "34bb4975-7eaa-47af-a916-c611bd6af5a8"
      },
      "source": [
        "data = plot_exponential_data()"
      ],
      "execution_count": null,
      "outputs": [
        {
          "output_type": "display_data",
          "data": {
            "image/png": "[encoded data removed]",
            "text/plain": [
              "<Figure size 432x288 with 1 Axes>"
            ]
          },
          "metadata": {
            "tags": [],
            "needs_background": "light"
          }
        }
      ]
    },
    {
      "cell_type": "code",
      "metadata": {
        "colab": {
          "base_uri": "https://localhost:8080/",
          "height": 265
        },
        "id": "eurboBP9eIZO",
        "outputId": "57728476-8e1c-4a5f-b68c-66b9580a3e12"
      },
      "source": [
        "plt.hist(np.log(data));"
      ],
      "execution_count": null,
      "outputs": [
        {
          "output_type": "display_data",
          "data": {
            "image/png": "[encoded data removed]",
            "text/plain": [
              "<Figure size 432x288 with 1 Axes>"
            ]
          },
          "metadata": {
            "tags": [],
            "needs_background": "light"
          }
        }
      ]
    },
    {
      "cell_type": "markdown",
      "metadata": {
        "id": "eXL7G1VSeYOe"
      },
      "source": [
        "#### **Log transformation to Boston data**"
      ]
    },
    {
      "cell_type": "code",
      "metadata": {
        "id": "lQwx_YDdeKKN"
      },
      "source": [
        "log_medv = np.log(boston_data.MEDV)"
      ],
      "execution_count": null,
      "outputs": []
    },
    {
      "cell_type": "code",
      "metadata": {
        "colab": {
          "base_uri": "https://localhost:8080/",
          "height": 265
        },
        "id": "CnIPydDkebSU",
        "outputId": "72167a55-7918-4b83-d341-afc1799e725f"
      },
      "source": [
        "log_medv.hist();"
      ],
      "execution_count": null,
      "outputs": [
        {
          "output_type": "display_data",
          "data": {
            "image/png": "[encoded data removed]",
            "text/plain": [
              "<Figure size 432x288 with 1 Axes>"
            ]
          },
          "metadata": {
            "tags": [],
            "needs_background": "light"
          }
        }
      ]
    },
    {
      "cell_type": "code",
      "metadata": {
        "colab": {
          "base_uri": "https://localhost:8080/"
        },
        "id": "DiBkjZs7ecpc",
        "outputId": "fa79bb40-ba28-44ca-d64b-dfbe9a6866de"
      },
      "source": [
        "normaltest(log_medv)"
      ],
      "execution_count": null,
      "outputs": [
        {
          "output_type": "execute_result",
          "data": {
            "text/plain": [
              "NormaltestResult(statistic=17.21801696640698, pvalue=0.00018245472768345196)"
            ]
          },
          "metadata": {
            "tags": []
          },
          "execution_count": 16
        }
      ]
    },
    {
      "cell_type": "markdown",
      "metadata": {
        "id": "5jIM2VWSesnS"
      },
      "source": [
        "Conclusion: closer, but still not normal."
      ]
    },
    {
      "cell_type": "markdown",
      "metadata": {
        "id": "NpWbhEhEgYdf"
      },
      "source": [
        "#### **Testing square root transformation**"
      ]
    },
    {
      "cell_type": "code",
      "metadata": {
        "colab": {
          "base_uri": "https://localhost:8080/",
          "height": 265
        },
        "id": "xXdQMNUVeq1F",
        "outputId": "a35298d1-9d6d-4768-f126-b7c799bebb68"
      },
      "source": [
        "data = plot_square_normal_data()"
      ],
      "execution_count": null,
      "outputs": [
        {
          "output_type": "display_data",
          "data": {
            "image/png": "[encoded data removed]",
            "text/plain": [
              "<Figure size 432x288 with 1 Axes>"
            ]
          },
          "metadata": {
            "tags": [],
            "needs_background": "light"
          }
        }
      ]
    },
    {
      "cell_type": "markdown",
      "metadata": {
        "id": "_mqBcPcCg5CG"
      },
      "source": [
        "Slightly skewed right."
      ]
    },
    {
      "cell_type": "code",
      "metadata": {
        "colab": {
          "base_uri": "https://localhost:8080/",
          "height": 265
        },
        "id": "64W5TAKwg3uO",
        "outputId": "926a74f4-a74c-4c8d-e340-3e845c1ed68c"
      },
      "source": [
        "plt.hist(np.sqrt(data));"
      ],
      "execution_count": null,
      "outputs": [
        {
          "output_type": "display_data",
          "data": {
            "image/png": "[encoded data removed]",
            "text/plain": [
              "<Figure size 432x288 with 1 Axes>"
            ]
          },
          "metadata": {
            "tags": [],
            "needs_background": "light"
          }
        }
      ]
    },
    {
      "cell_type": "markdown",
      "metadata": {
        "id": "73uLup8zg-0Z"
      },
      "source": [
        "#### **Square root transformation to Boston data**"
      ]
    },
    {
      "cell_type": "code",
      "metadata": {
        "id": "4F6EXB2dg670"
      },
      "source": [
        "sqrt_medv = np.sqrt(boston_data.MEDV)"
      ],
      "execution_count": null,
      "outputs": []
    },
    {
      "cell_type": "code",
      "metadata": {
        "colab": {
          "base_uri": "https://localhost:8080/",
          "height": 350
        },
        "id": "yx3i-Rm02iYd",
        "outputId": "5bd3ebd1-58a4-4755-ce60-3ab7c6cbc8cc"
      },
      "source": [
        "plt.hist(sqrt_medv)"
      ],
      "execution_count": null,
      "outputs": [
        {
          "output_type": "execute_result",
          "data": {
            "text/plain": [
              "(array([  9.,  18.,  40.,  67., 131., 121.,  48.,  36.,  10.,  26.]),\n",
              " array([2.23606798, 2.71956796, 3.20306794, 3.68656793, 4.17006791,\n",
              "        4.65356789, 5.13706788, 5.62056786, 6.10406784, 6.58756783,\n",
              "        7.07106781]),\n",
              " <a list of 10 Patch objects>)"
            ]
          },
          "metadata": {
            "tags": []
          },
          "execution_count": 21
        },
        {
          "output_type": "display_data",
          "data": {
            "image/png": "[encoded data removed]",
            "text/plain": [
              "<Figure size 432x288 with 1 Axes>"
            ]
          },
          "metadata": {
            "tags": [],
            "needs_background": "light"
          }
        }
      ]
    },
    {
      "cell_type": "code",
      "metadata": {
        "colab": {
          "base_uri": "https://localhost:8080/"
        },
        "id": "4rh05UGj2m6j",
        "outputId": "e4be24b6-fd3a-4938-c149-3c273a3727fd"
      },
      "source": [
        "normaltest(sqrt_medv)"
      ],
      "execution_count": null,
      "outputs": [
        {
          "output_type": "execute_result",
          "data": {
            "text/plain": [
              "NormaltestResult(statistic=20.487090826863067, pvalue=3.558645701429252e-05)"
            ]
          },
          "metadata": {
            "tags": []
          },
          "execution_count": 22
        }
      ]
    },
    {
      "cell_type": "markdown",
      "metadata": {
        "id": "2hDRKxku20qM"
      },
      "source": [
        "#### **Testing Box Cox transformation**\n",
        "\n",
        "The box cox transformation is a parametrized transformation that tries to get distributions \"as close to a normal distribution as possible\".\n",
        "\n",
        "It is defined as:\n",
        "\n",
        "$$ \\text{boxcox}(y_i) = \\frac{y_i^{\\lambda} - 1}{\\lambda} $$\n",
        "\n",
        "You can think of as a generalization of the square root function: the square root function uses the exponent of 0.5, but box cox lets its exponent vary so it can find the best one."
      ]
    },
    {
      "cell_type": "code",
      "metadata": {
        "id": "WbEbDxjS2re7"
      },
      "source": [
        "from scipy.stats import boxcox"
      ],
      "execution_count": null,
      "outputs": []
    },
    {
      "cell_type": "code",
      "metadata": {
        "id": "tRLYiDY629jz"
      },
      "source": [
        "bc_result = boxcox(boston_data.MEDV)\n",
        "boxcox_medv = bc_result[0]\n",
        "lam = bc_result[1]"
      ],
      "execution_count": null,
      "outputs": []
    },
    {
      "cell_type": "code",
      "metadata": {
        "colab": {
          "base_uri": "https://localhost:8080/"
        },
        "id": "Moms3LGw3CkD",
        "outputId": "b50e16d9-38d1-487f-8586-183bd2de08bd"
      },
      "source": [
        "lam"
      ],
      "execution_count": null,
      "outputs": [
        {
          "output_type": "execute_result",
          "data": {
            "text/plain": [
              "0.2166209012915364"
            ]
          },
          "metadata": {
            "tags": []
          },
          "execution_count": 27
        }
      ]
    },
    {
      "cell_type": "code",
      "metadata": {
        "colab": {
          "base_uri": "https://localhost:8080/",
          "height": 267
        },
        "id": "FJXcHARe3NLz",
        "outputId": "43b28089-49b0-4159-86b7-49cf9a307b53"
      },
      "source": [
        "boston_data['MEDV'].hist();"
      ],
      "execution_count": null,
      "outputs": [
        {
          "output_type": "display_data",
          "data": {
            "image/png": "[encoded data removed]",
            "text/plain": [
              "<Figure size 432x288 with 1 Axes>"
            ]
          },
          "metadata": {
            "tags": [],
            "needs_background": "light"
          }
        }
      ]
    },
    {
      "cell_type": "code",
      "metadata": {
        "colab": {
          "base_uri": "https://localhost:8080/",
          "height": 265
        },
        "id": "LK-U3GcV3P0j",
        "outputId": "f52b003f-c56a-4502-e354-11d10cda1ca1"
      },
      "source": [
        "plt.hist(boxcox_medv);"
      ],
      "execution_count": null,
      "outputs": [
        {
          "output_type": "display_data",
          "data": {
            "image/png": "[encoded data removed]",
            "text/plain": [
              "<Figure size 432x288 with 1 Axes>"
            ]
          },
          "metadata": {
            "tags": [],
            "needs_background": "light"
          }
        }
      ]
    },
    {
      "cell_type": "code",
      "metadata": {
        "colab": {
          "base_uri": "https://localhost:8080/"
        },
        "id": "9pY893gX3RpG",
        "outputId": "9361b297-b3eb-42ea-8af4-6d698b81ebcd"
      },
      "source": [
        "normaltest(boxcox_medv)"
      ],
      "execution_count": null,
      "outputs": [
        {
          "output_type": "execute_result",
          "data": {
            "text/plain": [
              "NormaltestResult(statistic=4.513528775533045, pvalue=0.1046886692817602)"
            ]
          },
          "metadata": {
            "tags": []
          },
          "execution_count": 30
        }
      ]
    },
    {
      "cell_type": "markdown",
      "metadata": {
        "id": "gj0SJSse3X_H"
      },
      "source": [
        "Significantly more normally distributed (according to p value) than the other two distributions - above 0.05, even!\n",
        "\n",
        "Now that we have a normally distributed y-variable, let's try a regression!"
      ]
    },
    {
      "cell_type": "markdown",
      "metadata": {
        "id": "ggWp7aggCg8g"
      },
      "source": [
        "#### **Testing regression**"
      ]
    },
    {
      "cell_type": "code",
      "metadata": {
        "id": "QwpfPOlz3T2s"
      },
      "source": [
        "from sklearn.linear_model import LinearRegression\n",
        "from sklearn.metrics import r2_score\n",
        "from sklearn.model_selection import train_test_split\n",
        "from sklearn.preprocessing import (StandardScaler, \n",
        "                                   PolynomialFeatures)"
      ],
      "execution_count": null,
      "outputs": []
    },
    {
      "cell_type": "code",
      "metadata": {
        "id": "oKf6o6xTCpV7"
      },
      "source": [
        "lr = LinearRegression()"
      ],
      "execution_count": null,
      "outputs": []
    },
    {
      "cell_type": "code",
      "metadata": {
        "id": "GwiNxDNkC0Hy"
      },
      "source": [
        "boston_data = boston_dataframe()"
      ],
      "execution_count": null,
      "outputs": []
    },
    {
      "cell_type": "code",
      "metadata": {
        "id": "fO2fU3LLC146"
      },
      "source": [
        "y_col = 'MEDV'\n",
        "\n",
        "X = boston_data.drop(y_col, axis=1)\n",
        "y = boston_data[y_col]"
      ],
      "execution_count": null,
      "outputs": []
    },
    {
      "cell_type": "markdown",
      "metadata": {
        "id": "MvZdVyRhDCyR"
      },
      "source": [
        "**Create polynomial features**"
      ]
    },
    {
      "cell_type": "code",
      "metadata": {
        "id": "HnopEDd3C-M6"
      },
      "source": [
        "pf = PolynomialFeatures(degree=2, include_bias=False)\n",
        "X_pf = pf.fit_transform(X)"
      ],
      "execution_count": null,
      "outputs": []
    },
    {
      "cell_type": "markdown",
      "metadata": {
        "id": "CSvqfrkMDUCq"
      },
      "source": [
        "**Train test split**"
      ]
    },
    {
      "cell_type": "code",
      "metadata": {
        "id": "04xGssJuDPsi"
      },
      "source": [
        "X_train, X_test, y_train, y_test = train_test_split(X_pf, y, test_size=0.3, random_state=72018)"
      ],
      "execution_count": null,
      "outputs": []
    },
    {
      "cell_type": "markdown",
      "metadata": {
        "id": "hPJ7xsOoDrdM"
      },
      "source": [
        "**Fit `StandardScaler`on `X_train`**"
      ]
    },
    {
      "cell_type": "code",
      "metadata": {
        "id": "rw9aNFO8Dg3h"
      },
      "source": [
        "s = StandardScaler()\n",
        "X_train_s = s.fit_transform(X_train)"
      ],
      "execution_count": null,
      "outputs": []
    },
    {
      "cell_type": "markdown",
      "metadata": {
        "id": "1RyMKO3hEATd"
      },
      "source": [
        "**Apply the appropriate transformation**"
      ]
    },
    {
      "cell_type": "code",
      "metadata": {
        "id": "JwKaDoadD32K"
      },
      "source": [
        "bc_result2 = boxcox(y_train)\n",
        "y_train_bc = bc_result2[0]\n",
        "lam2 = bc_result2[1]"
      ],
      "execution_count": null,
      "outputs": []
    },
    {
      "cell_type": "code",
      "metadata": {
        "colab": {
          "base_uri": "https://localhost:8080/"
        },
        "id": "-ORTBtgFEEFZ",
        "outputId": "09959e13-5f64-4e64-8321-63e2d2bde140"
      },
      "source": [
        "y_train_bc.shape"
      ],
      "execution_count": null,
      "outputs": [
        {
          "output_type": "execute_result",
          "data": {
            "text/plain": [
              "(354,)"
            ]
          },
          "metadata": {
            "tags": []
          },
          "execution_count": 45
        }
      ]
    },
    {
      "cell_type": "code",
      "metadata": {
        "id": "wkd173usEH4h"
      },
      "source": [
        "lr.fit(X_train_s, y_train_bc)\n",
        "X_test_s = s.transform(X_test)\n",
        "y_pred_bc = lr.predict(X_test_s)"
      ],
      "execution_count": null,
      "outputs": []
    },
    {
      "cell_type": "markdown",
      "metadata": {
        "id": "kg0frt-OEYqR"
      },
      "source": [
        "**Inverse transform**\n",
        "\n",
        "Every transformation has an inverse transformation. The inverse transformation of $f(x) = \\sqrt{x}$ is $f^{-1}(x) = x^2$, for example. Box cox has an inverse transformation as well: notice that we have to pass in the lambda value that we found from before:"
      ]
    },
    {
      "cell_type": "code",
      "metadata": {
        "id": "nKw0s-eqERHy"
      },
      "source": [
        "from scipy.special import inv_boxcox"
      ],
      "execution_count": null,
      "outputs": []
    },
    {
      "cell_type": "code",
      "metadata": {
        "id": "gyqVOygYEfML"
      },
      "source": [
        "bc_result = boxcox(boston_data.MEDV)\n",
        "boxcox_medv = bc_result[0]\n",
        "lam = bc_result[1]"
      ],
      "execution_count": null,
      "outputs": []
    },
    {
      "cell_type": "code",
      "metadata": {
        "colab": {
          "base_uri": "https://localhost:8080/"
        },
        "id": "d2iSHKcFEjaJ",
        "outputId": "a55c2fea-71ac-4aa9-c19e-4fc2f91cc06d"
      },
      "source": [
        "inv_boxcox(boxcox_medv, lam)[:10]"
      ],
      "execution_count": null,
      "outputs": [
        {
          "output_type": "execute_result",
          "data": {
            "text/plain": [
              "array([24. , 21.6, 34.7, 33.4, 36.2, 28.7, 22.9, 27.1, 16.5, 18.9])"
            ]
          },
          "metadata": {
            "tags": []
          },
          "execution_count": 50
        }
      ]
    },
    {
      "cell_type": "code",
      "metadata": {
        "colab": {
          "base_uri": "https://localhost:8080/"
        },
        "id": "OaCUTT2SEoSR",
        "outputId": "eb794532-baa4-4c3f-cda8-2dd9e82d4001"
      },
      "source": [
        "boston_data['MEDV'].values[:10]"
      ],
      "execution_count": null,
      "outputs": [
        {
          "output_type": "execute_result",
          "data": {
            "text/plain": [
              "array([24. , 21.6, 34.7, 33.4, 36.2, 28.7, 22.9, 27.1, 16.5, 18.9])"
            ]
          },
          "metadata": {
            "tags": []
          },
          "execution_count": 51
        }
      ]
    },
    {
      "cell_type": "markdown",
      "metadata": {
        "id": "GtNYrOi5EzJz"
      },
      "source": [
        "**Exercise:**\n",
        "\n",
        "1. Apply the appropriate inverse transformation to `y_pred_bc`.\n",
        "2. Calculate the $R^2$ using the result of this inverse transformation and `y_test`.  \n",
        "\n",
        "**Hint:** Should be two lines of code."
      ]
    },
    {
      "cell_type": "code",
      "metadata": {
        "colab": {
          "base_uri": "https://localhost:8080/"
        },
        "id": "vn4DLlxkEqoq",
        "outputId": "478ace61-eeb7-4495-a34e-ce9f5b3ddc8e"
      },
      "source": [
        "y_pred_tran = inv_boxcox(y_pred_bc,lam2)\n",
        "r2_score(y_pred_tran,y_test)"
      ],
      "execution_count": null,
      "outputs": [
        {
          "output_type": "execute_result",
          "data": {
            "text/plain": [
              "0.8794001851338568"
            ]
          },
          "metadata": {
            "tags": []
          },
          "execution_count": 52
        }
      ]
    },
    {
      "cell_type": "markdown",
      "metadata": {
        "id": "168_UTdBFDA6"
      },
      "source": [
        "**Exercise:**\n",
        "\n",
        "Determine the R^2 of a LinearRegression without the box cox transformation. Is it higher or lower?"
      ]
    },
    {
      "cell_type": "code",
      "metadata": {
        "colab": {
          "base_uri": "https://localhost:8080/"
        },
        "id": "SEAdHml-E6Di",
        "outputId": "f5b4b804-396d-4fe4-a9cc-122832686b91"
      },
      "source": [
        "lr = LinearRegression()\n",
        "lr.fit(X_train_s,y_train)\n",
        "lr_pred = lr.predict(X_test_s)\n",
        "r2_score(lr_pred,y_test)"
      ],
      "execution_count": null,
      "outputs": [
        {
          "output_type": "execute_result",
          "data": {
            "text/plain": [
              "0.8555202098064171"
            ]
          },
          "metadata": {
            "tags": []
          },
          "execution_count": 53
        }
      ]
    },
    {
      "cell_type": "markdown",
      "metadata": {
        "id": "0FBl3BDQUF57"
      },
      "source": [
        "# **Summary/Review**"
      ]
    },
    {
      "cell_type": "markdown",
      "metadata": {
        "id": "mAgdlu32UKjU"
      },
      "source": [
        "**Introduction to Supervised Machine Learning**\n",
        "\n",
        "The types of supervised Machine Learning are:\n",
        "- **Regression:** target variable are continuous\n",
        "- **Classification:** target variable are categorical\n",
        "\n",
        "To build a classification model you need:\n",
        "- Features that can be qauntified\n",
        "- A labeled target or outcome variable\n",
        "- Method to measure similarity"
      ]
    },
    {
      "cell_type": "markdown",
      "metadata": {
        "id": "lCJWmhgCU0gK"
      },
      "source": [
        "**Linear Regression**\n",
        "\n",
        "A linear regression models the relationship between a continuous variable and one or more scaled variables. It is usually represented as a dependent function equal to the sum of a coefficient plus scaling factors times the independent variables.\n",
        "\n",
        "Residuals are defined as the difference between an actual value and a predicted value.\n",
        "\n",
        "A modeling best practice for linear regression is:\n",
        "- Use cost function to fit the linear regression model\n",
        "- Develop multiple models\n",
        "- Compare the results and choose the one that fits your data and whether you are using your model for prediction or interpretation\n",
        "\n",
        "Three common measures of error for linear regressions are:\n",
        "- **(SSE)** Sum of Squared Error\n",
        "- **(TSS)** Total Sum of Squares\n",
        "- **(R2)** Coefficient of Determination"
      ]
    },
    {
      "cell_type": "markdown",
      "metadata": {
        "id": "avFBu5UUWEL4"
      },
      "source": [
        "**Linear Regression Syntax**\n",
        "\n",
        "The most simple syntax to train a linear regression using scikit learn is:\n",
        "\n",
        "\n",
        "```\n",
        "from sklearn.linear_model import LinearRegression\n",
        "\n",
        "LR = LinearRegression()\n",
        "LR.fit(X_train, y_train)\n",
        "\n",
        "y_predict = LR.predict(X_test)\n",
        "```\n",
        "\n"
      ]
    },
    {
      "cell_type": "markdown",
      "metadata": {
        "id": "Wms5XYSA1Bbm"
      },
      "source": [
        "# **Credit**\n",
        "---\n",
        "My notes from Machine Learning Foundation (C) 2020 IBM Corporation courses"
      ]
    }
  ]
}